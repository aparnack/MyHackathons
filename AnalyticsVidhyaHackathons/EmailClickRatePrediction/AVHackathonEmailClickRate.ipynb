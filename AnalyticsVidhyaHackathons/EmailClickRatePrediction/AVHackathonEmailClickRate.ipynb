{
 "cells": [
  {
   "cell_type": "markdown",
   "metadata": {},
   "source": [
    "# Lord of the Machines Hackathon : Predicting Click Rates\n",
    "*Date: March 24th - April 1st 11:59PM , 2018 IST*\n",
    "\n",
    "#### *A Solution by Aparna Shastry*\n",
    "\n",
    "[github](https://github.com/aparnack/data_science)       \n",
    "[twitter](https://twitter.com/aparsha2303)         \n",
    "[LinkedIn](https://www.linkedin.com/in/aparnacshastry/)        \n",
    "[Email](mailto:aparnashastrymls@gmail.com)\n",
    "\n",
    "Location: Orange County, California"
   ]
  },
  {
   "cell_type": "markdown",
   "metadata": {},
   "source": [
    "## Problem Statement\n",
    "\n",
    "This is copied from the analyticsvidhya website.\n",
    "\n",
    "Email Marketing is still the most successful marketing channel and the essential element of any digital marketing strategy. Marketers spend a lot of time in writing that perfect email, labouring over each word, catchy layouts on multiple devices to get them best in-industry open rates & click rates.\n",
    "\n",
    "How can I build my campaign to increase the click-through rates of email? - a question that is often heard when marketers are creating their email marketing plans.\n",
    "\n",
    "Can we optimize our email marketing campaigns with Data Science?\n",
    "\n",
    "It's time to unlock marketing potential and build some exceptional data-science products for email marketing.\n",
    "\n",
    "Analytics Vidhya sends out marketing emailers for various events such as conferences, hackathons, etc. We have provided a sample of user-email interaction data from July 2017 to December 2017. You are required to predict the click probability of links inside a mailer for email campaigns from January 2018 to March 2018.\n",
    "\n",
    "## Evaluation Metric\n",
    "\n",
    "The evaluation metric for this competition is AUC-ROC score.\n",
    "\n",
    "## Data Description\n",
    "\n",
    "campaign_data.csv - Contains the features related to 52 email Campaigns\n",
    "\n",
    "\n",
    "campaign_id, communication_type, total_links, no_of_internal_links (redirecting to analyticsvidhya.com), no_of_images, no_of_sections, email_body, subject, email_url (opens the real email)\n",
    "\n",
    "train.csv - Contains the click and open information for each user corresponding to given campaign id (Jul 17 - Dec 17)\n",
    "\n",
    "id --> Unique ID for email session    \n",
    "user_id --> User ID      \n",
    "campaign_id --> Email Campaign ID     \n",
    "send_date --> Time stamp for email sent    \n",
    "is_open --> Did not open - 0, Opened -1    \n",
    "is_click --> Did not click - 0, clicked - 1           \n",
    "\n",
    "test.csv\n",
    "\n",
    "Contains the user and campaigns for which is_click needs to be predicted (Jan 18 - Mar 18)        \n",
    "\n",
    "id --> Unique ID for email session        \n",
    "campaign_id --> Email Campaign ID          \n",
    "user_id --> User ID           \n",
    "send_date --> Time stamp for email sent               \n",
    "\n",
    "\n",
    "## Public and Private Scoring\n",
    "Note that the test data is further randomly divided into Public (30%) and Private (70%) data. Your initial responses will be checked and scored on the Public data.\n",
    "\n",
    "For sake of completion, these two sections below:\n",
    "\n",
    "### Rules of participation\n",
    "+ The contest starts Saturday, 24th March 2018, 00:00:00 (GMT). The data set and the problem statement will be released at the same time.\n",
    "+ Entries submitted after the contest is closed, will not be considered.\n",
    "+ Use of external dataset and id variables is not allowed for creating model (campaign_id and user_id cannot be directly used as a feature)\n",
    "+ Participation is free-of-charge.\n",
    "+ Final prizes would be decided after code review and presentation of the solution to AV over a zoom call\n",
    "\n",
    "### Final Submission\n",
    "+ Setting final submission is mandatory. Without a final submission, your entry will not be considered.\n",
    "+ Code file is mandatory while sending final submission. For GUI based tools, please upload a zip file of snapshots of steps taken by you, else upload code file.\n",
    "+ The code file uploaded should be pertaining to your final submission. "
   ]
  },
  {
   "cell_type": "markdown",
   "metadata": {},
   "source": [
    "# My Solution\n",
    "\n",
    "This solution presents an approach of training two classifiers and combining the results.      \n",
    "\n",
    "My solution comes by doing a lot EDA and observing a few things about the dataset. **In one sentence, I just applied [total probability theorem](https://en.wikipedia.org/wiki/Law_of_total_probability) (TPT) and trianed two separate classifiers on two types of users.** In the hindsight, for the sake of competition, I should have trained 3 classifiers for three groups of users.\n",
    "\n",
    "TPT: P(A) = P(A|A1) \\* P(A1) + P(A|A2) \\* P(A2) + P(A|A3) \\* P(A3), with P(A1) + P(A2) + P(A3) = 1 , A1, A2, A3 mutually exclusive and collectively exhaustive\n",
    "\n",
    "Identified 3 groups of users in test set:       \n",
    "\n",
    "+ A1 - Common users in train and test set both, who have past click rate > 0\n",
    "+ A2 - New users in test set, who were never in Train set.\n",
    "+ A3 - Common users in train and test set both, who have past click rate = 0.\n",
    "\n",
    "P(A) - Probability of clicking an email campaign      \n",
    "\n",
    "I have two classifiers, for A1 and A2, had none for A3 in this solution. I am yet to understand how important in real life it is to train for A3, if they have consistently showed no interest. ROI for the business has been 0 and commonsense says it would remain so no matter what you do (not really just commonsense, EDA showed no difference between the nature of emails sent to A1 and A3)\n",
    "\n",
    "What I noticed is,\n",
    "\n",
    "+ Train data has 1M records coming from 168k+ users and Test data has 773k records coming from 198k+ users\n",
    "+ There is user overlap between the two and there is also some portion which is mutually exclusive\n",
    "+ Train set has 95.7% records coming from common users, Test set has 80.4% records from common users. => **P(A1) + P(A3) = 0.804, P(A2) = 0.196**\n",
    "+ Checked for data sanity wrt is_open always being 1 whenever is_click is 1. This meant, no open users mean no click (but not the other way round)\n",
    "+ Test data has 26 new email campaigns which don't appear in train data, however since words are similar, this is not a problem. + Also test data has 4 communication types and Train data has 7, and the bar charts of member cound in each category are not similar. I left it at that.\n",
    "\n",
    "#### Common Users\n",
    "\n",
    "+ Out of these common users, there were 4 types, those who never opened, those who opened but never clicked any, those who opened and clicked sometimes, a small 3 digit number of users who had clicked all the time.\n",
    "+ Since no other information on the users was given and there was imbalance in classes, is_open at 10%, is_click at 1.25% of the whole records, decided to follow this approach:\n",
    "    - The common users who never clicked any email during 6 months, are unlikely to click in next 2.x months, and even if they did for some reason, the machine will not be able to figure out because that will be an anomaly, the data is so huge towards no click class. Hence discard those who never clicked any links in any emails. This eliminated a huge portion of records, reducing train set to 80k. Earlier I thought of discarding only the ones who never opened, but since opening does not guarantee click, getting into that details is not necessary.\n",
    "    - In this set, the click rate went upto 15.4% and open rate 30%\n",
    "    - Now did EDA on these users, because these are the interesting users (henceforth will be called as interesting or interested users) whose behavior is most difficult to predict by commonsense.\n",
    "    - Meanwhile, just to make sure that not opening is purely user choice and nothing related to not having received enough number of worthy to be opened emails, compared count by the email campaign bar chart of users who never opened versus users who opened sometimes. They looked similar. **Conclusion: Not opening any email was purely that user's choice and had nothing to do with not sending enough interesting emails**\n",
    "    - 15.4% of the click coming from interesting common users has several advantages. Firstly, their records were available for a long duration. Hence checked how open and click rate varied, it was following a zig zag curve, meaning wide sense stationary. **Hence on an average, even in the test data, they had to have the same distribution**, of 15% (We will verify it). The entire 80.4% records of common users in test should have a click rate of 1.25% because of the same reason. This gives a number of clicks to be expected on that = 7775. \n",
    "    - Out of the common users in test data, again eliminate users who are not interested/interesting. That leaves us with around 50.5k records, and it is no coincidence that 7775/50.5k is around 15%. Our task is to train and test on the interesting users to capture those 15% clicks.\n",
    "    \n",
    "In terms of probabilities,  \n",
    "\n",
    "**In the train set I observed these numbers**\n",
    "\n",
    "P(A|A1) = 0.1544,  P(A1) = 0.0822,  P(A2) = 0, P(A|A2) - NA, P(A3) = 0.9177, P(A|A3) = 0 , there was another set A4, who are present in train set, but not in test, hence not taken into account.\n",
    "\n",
    "**In the test set, based on EDA, and click rates remaining stable over MoM, and some assumptions**\n",
    "\n",
    "P(A|A1) = 0.1544     \n",
    "P(A|A2) = 0.012492, is assumed to be the P(A) of train data observed over 6 months, since no other information is available on them. This could be a wrong, but for now we will go ahead with it. We might figure out in the end something more.\n",
    "P(A|A3) = 0, already explained.\n",
    "\n",
    "P(A1) = 0.062,  P(A2) = 0.196,  P(A3) = 0.738\n",
    "    \n",
    "**Classifier 1**\n",
    "+ **The elimination of no click users from training can be viewed as an educated way of undersampling to reduce imbalance and help the classifier to do better job.**\n",
    "+ Do NLP on subject, body. Calculate interval between emails, use the mean click rate and open rate as features and fit a Logistic Regression.      \n",
    "    Why other time related info not necessary? Really no time related info needed, as the campaign ids indirectly contained it, and there were around 7 records per user, hence not all users would have got all emails. \n",
    "+ Minimar hyperparameter tuning done because always start with default model, do simple 2 fold, stratified cross validation, check for bias/overfitting. My train and test AUC matched. But these are directly not a measure of final AUC, because there is the other 19.6% of new users.\n",
    "+ Just checked with Random Forest to see if there is any scope for improvement (I would not expect, when the LogReg Train and Test AUC are matching\n",
    "    \n",
    "#### New Users\n",
    "\n",
    "Oh..Some other time. Briefly, 1.25% of 773k is the expected clicks, subtract 7775 and we should get so much 1's among these, and it is no coincidence that the expected click rate in this set came out to be around 1.2% itself. \n",
    "\n",
    "**Classifier 2**\n",
    "Except mean click rate and mean open rate info, everything is same as Classifier 1.  Just picked new users from October, and verified they have required distribution\n",
    "\n",
    "### Preparing the Submission file:\n",
    "\n",
    "Before combining the results from two classifiers, weighted them according to their respective sum of probabilities, so that they get interleaved nicely! The absolute probability numbers between predictions from two classifiers is well separated, and majority of zeros are undersampled before training, this should work. The distribution of probabilites on test data is plotted in the end for visual verification\n",
    "\n",
    "--\n",
    "\n",
    "Working for this hackathon made me realize why having a commonsense baseline is important, why data scientist will be a key person despite having ML algorithms and GPUs to process billions of records. Here is a nice article on that by Salesforce SVP Rama Ramakrishnan: [Create a commonsense baseline first](https://towardsdatascience.com/first-create-a-common-sense-baseline-e66dbf8a8a47)"
   ]
  },
  {
   "cell_type": "code",
   "execution_count": 1,
   "metadata": {},
   "outputs": [],
   "source": [
    "import pandas as pd\n",
    "import numpy as np\n",
    "import matplotlib.pyplot as plt\n",
    "from datetime import datetime\n",
    "import scipy.stats as stats\n",
    "%matplotlib inline\n",
    "import seaborn as sns\n",
    "sns.set_style('darkgrid')"
   ]
  },
  {
   "cell_type": "code",
   "execution_count": 2,
   "metadata": {},
   "outputs": [
    {
     "data": {
      "text/html": [
       "<div>\n",
       "<style scoped>\n",
       "    .dataframe tbody tr th:only-of-type {\n",
       "        vertical-align: middle;\n",
       "    }\n",
       "\n",
       "    .dataframe tbody tr th {\n",
       "        vertical-align: top;\n",
       "    }\n",
       "\n",
       "    .dataframe thead th {\n",
       "        text-align: right;\n",
       "    }\n",
       "</style>\n",
       "<table border=\"1\" class=\"dataframe\">\n",
       "  <thead>\n",
       "    <tr style=\"text-align: right;\">\n",
       "      <th></th>\n",
       "      <th>communication_type</th>\n",
       "      <th>total_links</th>\n",
       "      <th>no_of_internal_links</th>\n",
       "      <th>no_of_images</th>\n",
       "      <th>no_of_sections</th>\n",
       "      <th>email_body</th>\n",
       "      <th>subject</th>\n",
       "      <th>email_url</th>\n",
       "    </tr>\n",
       "    <tr>\n",
       "      <th>campaign_id</th>\n",
       "      <th></th>\n",
       "      <th></th>\n",
       "      <th></th>\n",
       "      <th></th>\n",
       "      <th></th>\n",
       "      <th></th>\n",
       "      <th></th>\n",
       "      <th></th>\n",
       "    </tr>\n",
       "  </thead>\n",
       "  <tbody>\n",
       "    <tr>\n",
       "      <th>29</th>\n",
       "      <td>Newsletter</td>\n",
       "      <td>67</td>\n",
       "      <td>61</td>\n",
       "      <td>12</td>\n",
       "      <td>3</td>\n",
       "      <td>Dear AVians,\\r\\n \\r\\nWe are shaping up a super...</td>\n",
       "      <td>Sneak Peek: A look at the emerging data scienc...</td>\n",
       "      <td>http://r.newsletters.analyticsvidhya.com/7um44...</td>\n",
       "    </tr>\n",
       "    <tr>\n",
       "      <th>30</th>\n",
       "      <td>Upcoming Events</td>\n",
       "      <td>18</td>\n",
       "      <td>14</td>\n",
       "      <td>7</td>\n",
       "      <td>1</td>\n",
       "      <td>Dear AVians,\\r\\n \\r\\nAre your eager to know wh...</td>\n",
       "      <td>[July] Data Science Expert Meetups &amp; Competiti...</td>\n",
       "      <td>http://r.newsletters.analyticsvidhya.com/7up0e...</td>\n",
       "    </tr>\n",
       "    <tr>\n",
       "      <th>31</th>\n",
       "      <td>Conference</td>\n",
       "      <td>15</td>\n",
       "      <td>13</td>\n",
       "      <td>5</td>\n",
       "      <td>1</td>\n",
       "      <td>Early Bird Pricing Till August 07  Save upto ...</td>\n",
       "      <td>Last chance to convince your boss before the E...</td>\n",
       "      <td>http://r.newsletters.analyticsvidhya.com/7usym...</td>\n",
       "    </tr>\n",
       "    <tr>\n",
       "      <th>32</th>\n",
       "      <td>Conference</td>\n",
       "      <td>24</td>\n",
       "      <td>19</td>\n",
       "      <td>7</td>\n",
       "      <td>1</td>\n",
       "      <td>\\r\\n \\r\\nHi ?\\r\\n \\r\\nBefore I dive into why y...</td>\n",
       "      <td>A.I. &amp; Machine Learning: 5 reasons why you sho...</td>\n",
       "      <td>http://r.newsletters.analyticsvidhya.com/7uthl...</td>\n",
       "    </tr>\n",
       "    <tr>\n",
       "      <th>33</th>\n",
       "      <td>Others</td>\n",
       "      <td>7</td>\n",
       "      <td>3</td>\n",
       "      <td>1</td>\n",
       "      <td>1</td>\n",
       "      <td>Fireside Chat with DJ Patil - the master is he...</td>\n",
       "      <td>[Delhi NCR] Fireside Chat with DJ Patil, Forme...</td>\n",
       "      <td>http://r.newsletters.analyticsvidhya.com/7uvlg...</td>\n",
       "    </tr>\n",
       "  </tbody>\n",
       "</table>\n",
       "</div>"
      ],
      "text/plain": [
       "            communication_type  total_links  no_of_internal_links  \\\n",
       "campaign_id                                                         \n",
       "29                  Newsletter           67                    61   \n",
       "30             Upcoming Events           18                    14   \n",
       "31                  Conference           15                    13   \n",
       "32                  Conference           24                    19   \n",
       "33                      Others            7                     3   \n",
       "\n",
       "             no_of_images  no_of_sections  \\\n",
       "campaign_id                                 \n",
       "29                     12               3   \n",
       "30                      7               1   \n",
       "31                      5               1   \n",
       "32                      7               1   \n",
       "33                      1               1   \n",
       "\n",
       "                                                    email_body  \\\n",
       "campaign_id                                                      \n",
       "29           Dear AVians,\\r\\n \\r\\nWe are shaping up a super...   \n",
       "30           Dear AVians,\\r\\n \\r\\nAre your eager to know wh...   \n",
       "31           Early Bird Pricing Till August 07  Save upto ...   \n",
       "32           \\r\\n \\r\\nHi ?\\r\\n \\r\\nBefore I dive into why y...   \n",
       "33           Fireside Chat with DJ Patil - the master is he...   \n",
       "\n",
       "                                                       subject  \\\n",
       "campaign_id                                                      \n",
       "29           Sneak Peek: A look at the emerging data scienc...   \n",
       "30           [July] Data Science Expert Meetups & Competiti...   \n",
       "31           Last chance to convince your boss before the E...   \n",
       "32           A.I. & Machine Learning: 5 reasons why you sho...   \n",
       "33           [Delhi NCR] Fireside Chat with DJ Patil, Forme...   \n",
       "\n",
       "                                                     email_url  \n",
       "campaign_id                                                     \n",
       "29           http://r.newsletters.analyticsvidhya.com/7um44...  \n",
       "30           http://r.newsletters.analyticsvidhya.com/7up0e...  \n",
       "31           http://r.newsletters.analyticsvidhya.com/7usym...  \n",
       "32           http://r.newsletters.analyticsvidhya.com/7uthl...  \n",
       "33           http://r.newsletters.analyticsvidhya.com/7uvlg...  "
      ]
     },
     "execution_count": 2,
     "metadata": {},
     "output_type": "execute_result"
    }
   ],
   "source": [
    "cd = pd.read_csv('campaign_data.csv')\n",
    "cd.head()\n",
    "cd = cd.set_index('campaign_id')\n",
    "cd.head()"
   ]
  },
  {
   "cell_type": "code",
   "execution_count": 3,
   "metadata": {},
   "outputs": [],
   "source": [
    "tr = pd.read_csv('train.csv',parse_dates=True)\n",
    "te = pd.read_csv('test.csv',parse_dates=True)"
   ]
  },
  {
   "cell_type": "code",
   "execution_count": 4,
   "metadata": {},
   "outputs": [],
   "source": [
    "tr['send_date'] = pd.to_datetime(tr['send_date'], format = '%d-%m-%Y %H:%M')\n",
    "te['send_date'] = pd.to_datetime(te['send_date'], format = '%d-%m-%Y %H:%M')\n",
    "tr = tr.set_index('send_date').sort_index()\n",
    "te = te.set_index('send_date').sort_index()"
   ]
  },
  {
   "cell_type": "code",
   "execution_count": 5,
   "metadata": {},
   "outputs": [
    {
     "data": {
      "text/html": [
       "<div>\n",
       "<style scoped>\n",
       "    .dataframe tbody tr th:only-of-type {\n",
       "        vertical-align: middle;\n",
       "    }\n",
       "\n",
       "    .dataframe tbody tr th {\n",
       "        vertical-align: top;\n",
       "    }\n",
       "\n",
       "    .dataframe thead th {\n",
       "        text-align: right;\n",
       "    }\n",
       "</style>\n",
       "<table border=\"1\" class=\"dataframe\">\n",
       "  <thead>\n",
       "    <tr style=\"text-align: right;\">\n",
       "      <th></th>\n",
       "      <th>id</th>\n",
       "      <th>user_id</th>\n",
       "      <th>campaign_id</th>\n",
       "      <th>is_open</th>\n",
       "      <th>is_click</th>\n",
       "    </tr>\n",
       "    <tr>\n",
       "      <th>send_date</th>\n",
       "      <th></th>\n",
       "      <th></th>\n",
       "      <th></th>\n",
       "      <th></th>\n",
       "      <th></th>\n",
       "    </tr>\n",
       "  </thead>\n",
       "  <tbody>\n",
       "    <tr>\n",
       "      <th>2017-07-01 18:01:00</th>\n",
       "      <td>29_170634</td>\n",
       "      <td>170634</td>\n",
       "      <td>29</td>\n",
       "      <td>0</td>\n",
       "      <td>0</td>\n",
       "    </tr>\n",
       "    <tr>\n",
       "      <th>2017-07-01 18:01:00</th>\n",
       "      <td>29_7740</td>\n",
       "      <td>7740</td>\n",
       "      <td>29</td>\n",
       "      <td>0</td>\n",
       "      <td>0</td>\n",
       "    </tr>\n",
       "    <tr>\n",
       "      <th>2017-07-01 18:01:00</th>\n",
       "      <td>29_20155</td>\n",
       "      <td>20155</td>\n",
       "      <td>29</td>\n",
       "      <td>0</td>\n",
       "      <td>0</td>\n",
       "    </tr>\n",
       "    <tr>\n",
       "      <th>2017-07-01 18:01:00</th>\n",
       "      <td>29_134093</td>\n",
       "      <td>134093</td>\n",
       "      <td>29</td>\n",
       "      <td>0</td>\n",
       "      <td>0</td>\n",
       "    </tr>\n",
       "    <tr>\n",
       "      <th>2017-07-01 18:01:00</th>\n",
       "      <td>29_82171</td>\n",
       "      <td>82171</td>\n",
       "      <td>29</td>\n",
       "      <td>0</td>\n",
       "      <td>0</td>\n",
       "    </tr>\n",
       "  </tbody>\n",
       "</table>\n",
       "</div>"
      ],
      "text/plain": [
       "                            id  user_id  campaign_id  is_open  is_click\n",
       "send_date                                                              \n",
       "2017-07-01 18:01:00  29_170634   170634           29        0         0\n",
       "2017-07-01 18:01:00    29_7740     7740           29        0         0\n",
       "2017-07-01 18:01:00   29_20155    20155           29        0         0\n",
       "2017-07-01 18:01:00  29_134093   134093           29        0         0\n",
       "2017-07-01 18:01:00   29_82171    82171           29        0         0"
      ]
     },
     "execution_count": 5,
     "metadata": {},
     "output_type": "execute_result"
    }
   ],
   "source": [
    "# Tr has 1023091 records\n",
    "tr.head()"
   ]
  },
  {
   "cell_type": "code",
   "execution_count": 6,
   "metadata": {},
   "outputs": [],
   "source": [
    "#Do EDA on all but be careful before modeling\n",
    "# Groupby user id and take mean click rate\n",
    "user_mean_click = tr.groupby('user_id').is_click.mean()\n",
    "user_mean_open = tr.groupby('user_id').is_open.mean()"
   ]
  },
  {
   "cell_type": "code",
   "execution_count": 7,
   "metadata": {},
   "outputs": [
    {
     "data": {
      "text/plain": [
       "<matplotlib.axes._subplots.AxesSubplot at 0x1f5a5d790f0>"
      ]
     },
     "execution_count": 7,
     "metadata": {},
     "output_type": "execute_result"
    },
    {
     "data": {
      "image/png": "[encoded data removed]",
      "text/plain": [
       "<matplotlib.figure.Figure at 0x1f5a6e5dc50>"
      ]
     },
     "metadata": {},
     "output_type": "display_data"
    }
   ],
   "source": [
    "user_mean_open.hist()"
   ]
  },
  {
   "cell_type": "code",
   "execution_count": 8,
   "metadata": {},
   "outputs": [
    {
     "data": {
      "text/plain": [
       "<matplotlib.axes._subplots.AxesSubplot at 0x1f5a54eee80>"
      ]
     },
     "execution_count": 8,
     "metadata": {},
     "output_type": "execute_result"
    },
    {
     "data": {
      "image/png": "[encoded data removed]",
      "text/plain": [
       "<matplotlib.figure.Figure at 0x1f5a4683438>"
      ]
     },
     "metadata": {},
     "output_type": "display_data"
    }
   ],
   "source": [
    "user_mean_click.hist()"
   ]
  },
  {
   "cell_type": "code",
   "execution_count": 9,
   "metadata": {},
   "outputs": [],
   "source": [
    "tr = tr.assign(mean_click = tr.user_id.map(tr.groupby('user_id')['is_click'].mean()))\n",
    "tr = tr.assign(mean_open = tr.user_id.map(tr.groupby('user_id')['is_open'].mean()))"
   ]
  },
  {
   "cell_type": "code",
   "execution_count": 10,
   "metadata": {},
   "outputs": [
    {
     "data": {
      "text/html": [
       "<div>\n",
       "<style scoped>\n",
       "    .dataframe tbody tr th:only-of-type {\n",
       "        vertical-align: middle;\n",
       "    }\n",
       "\n",
       "    .dataframe tbody tr th {\n",
       "        vertical-align: top;\n",
       "    }\n",
       "\n",
       "    .dataframe thead th {\n",
       "        text-align: right;\n",
       "    }\n",
       "</style>\n",
       "<table border=\"1\" class=\"dataframe\">\n",
       "  <thead>\n",
       "    <tr style=\"text-align: right;\">\n",
       "      <th></th>\n",
       "      <th>id</th>\n",
       "      <th>user_id</th>\n",
       "      <th>campaign_id</th>\n",
       "      <th>is_open</th>\n",
       "      <th>is_click</th>\n",
       "      <th>mean_click</th>\n",
       "      <th>mean_open</th>\n",
       "    </tr>\n",
       "    <tr>\n",
       "      <th>send_date</th>\n",
       "      <th></th>\n",
       "      <th></th>\n",
       "      <th></th>\n",
       "      <th></th>\n",
       "      <th></th>\n",
       "      <th></th>\n",
       "      <th></th>\n",
       "    </tr>\n",
       "  </thead>\n",
       "  <tbody>\n",
       "    <tr>\n",
       "      <th>2017-07-01 18:01:00</th>\n",
       "      <td>29_170634</td>\n",
       "      <td>170634</td>\n",
       "      <td>29</td>\n",
       "      <td>0</td>\n",
       "      <td>0</td>\n",
       "      <td>0.0</td>\n",
       "      <td>0.000</td>\n",
       "    </tr>\n",
       "    <tr>\n",
       "      <th>2017-07-01 18:01:00</th>\n",
       "      <td>29_7740</td>\n",
       "      <td>7740</td>\n",
       "      <td>29</td>\n",
       "      <td>0</td>\n",
       "      <td>0</td>\n",
       "      <td>0.0</td>\n",
       "      <td>0.125</td>\n",
       "    </tr>\n",
       "    <tr>\n",
       "      <th>2017-07-01 18:01:00</th>\n",
       "      <td>29_20155</td>\n",
       "      <td>20155</td>\n",
       "      <td>29</td>\n",
       "      <td>0</td>\n",
       "      <td>0</td>\n",
       "      <td>0.0</td>\n",
       "      <td>0.000</td>\n",
       "    </tr>\n",
       "    <tr>\n",
       "      <th>2017-07-01 18:01:00</th>\n",
       "      <td>29_134093</td>\n",
       "      <td>134093</td>\n",
       "      <td>29</td>\n",
       "      <td>0</td>\n",
       "      <td>0</td>\n",
       "      <td>0.0</td>\n",
       "      <td>0.125</td>\n",
       "    </tr>\n",
       "    <tr>\n",
       "      <th>2017-07-01 18:01:00</th>\n",
       "      <td>29_82171</td>\n",
       "      <td>82171</td>\n",
       "      <td>29</td>\n",
       "      <td>0</td>\n",
       "      <td>0</td>\n",
       "      <td>0.0</td>\n",
       "      <td>0.000</td>\n",
       "    </tr>\n",
       "  </tbody>\n",
       "</table>\n",
       "</div>"
      ],
      "text/plain": [
       "                            id  user_id  campaign_id  is_open  is_click  \\\n",
       "send_date                                                                 \n",
       "2017-07-01 18:01:00  29_170634   170634           29        0         0   \n",
       "2017-07-01 18:01:00    29_7740     7740           29        0         0   \n",
       "2017-07-01 18:01:00   29_20155    20155           29        0         0   \n",
       "2017-07-01 18:01:00  29_134093   134093           29        0         0   \n",
       "2017-07-01 18:01:00   29_82171    82171           29        0         0   \n",
       "\n",
       "                     mean_click  mean_open  \n",
       "send_date                                   \n",
       "2017-07-01 18:01:00         0.0      0.000  \n",
       "2017-07-01 18:01:00         0.0      0.125  \n",
       "2017-07-01 18:01:00         0.0      0.000  \n",
       "2017-07-01 18:01:00         0.0      0.125  \n",
       "2017-07-01 18:01:00         0.0      0.000  "
      ]
     },
     "execution_count": 10,
     "metadata": {},
     "output_type": "execute_result"
    }
   ],
   "source": [
    "tr.head()"
   ]
  },
  {
   "cell_type": "code",
   "execution_count": 11,
   "metadata": {},
   "outputs": [],
   "source": [
    "click_users = tr[tr.mean_click>0]\n",
    "open_users = tr[tr.mean_open>0]"
   ]
  },
  {
   "cell_type": "code",
   "execution_count": 12,
   "metadata": {},
   "outputs": [],
   "source": [
    "open_users = pd.merge(open_users,cd,left_on='campaign_id',right_index=True,how='left',sort=False)"
   ]
  },
  {
   "cell_type": "code",
   "execution_count": 13,
   "metadata": {},
   "outputs": [],
   "source": [
    "click_users = pd.merge(click_users,cd,left_on='campaign_id',right_index=True,how='left',sort=False)"
   ]
  },
  {
   "cell_type": "code",
   "execution_count": 97,
   "metadata": {},
   "outputs": [
    {
     "name": "stdout",
     "output_type": "stream",
     "text": [
      "Mean click rates among click users by communication type\n",
      "communication_type\n",
      "Conference         0.125892\n",
      "Corporate          0.096629\n",
      "Hackathon          0.218171\n",
      "Newsletter         0.173075\n",
      "Others             0.159582\n",
      "Upcoming Events    0.149582\n",
      "Webinar            0.187646\n",
      "Name: is_click, dtype: float64\n",
      "Mean open among click users by communication type\n",
      "communication_type\n",
      "Conference         0.272961\n",
      "Corporate          0.265169\n",
      "Hackathon          0.555624\n",
      "Newsletter         0.279159\n",
      "Others             0.442243\n",
      "Upcoming Events    0.278008\n",
      "Webinar            0.555944\n",
      "Name: is_open, dtype: float64\n"
     ]
    },
    {
     "data": {
      "image/png": "[encoded data removed]",
      "text/plain": [
       "<matplotlib.figure.Figure at 0x1f5c6cdbd68>"
      ]
     },
     "metadata": {},
     "output_type": "display_data"
    },
    {
     "data": {
      "image/png": "[encoded data removed]",
      "text/plain": [
       "<matplotlib.figure.Figure at 0x1f5c6cdbcc0>"
      ]
     },
     "metadata": {},
     "output_type": "display_data"
    }
   ],
   "source": [
    "print(\"Mean click rates among click users by communication type\")\n",
    "_ = click_users.groupby('communication_type').is_click.mean().plot.bar()\n",
    "_ = plt.title(\"Click mean\")\n",
    "print(click_users.groupby('communication_type').is_click.mean())\n",
    "print(\"Mean open among click users by communication type\")\n",
    "print(click_users.groupby('communication_type').is_open.mean())\n",
    "_ = plt.figure()\n",
    "_ = click_users.groupby('communication_type').is_open.mean().plot.bar()\n",
    "_ = plt.title(\"Open mean\")"
   ]
  },
  {
   "cell_type": "code",
   "execution_count": 98,
   "metadata": {},
   "outputs": [
    {
     "data": {
      "text/plain": [
       "<matplotlib.axes._subplots.AxesSubplot at 0x1f5b52ec6d8>"
      ]
     },
     "execution_count": 98,
     "metadata": {},
     "output_type": "execute_result"
    },
    {
     "data": {
      "image/png": "[encoded data removed]",
      "text/plain": [
       "<matplotlib.figure.Figure at 0x1f5e1982da0>"
      ]
     },
     "metadata": {},
     "output_type": "display_data"
    }
   ],
   "source": [
    "#Another thing of interest could be to see the ratio\n",
    "(click_users.groupby('communication_type').is_click.mean()/click_users.groupby('communication_type').is_open.mean()).plot.barh(color='g')"
   ]
  },
  {
   "cell_type": "code",
   "execution_count": 17,
   "metadata": {},
   "outputs": [
    {
     "data": {
      "text/plain": [
       "<matplotlib.axes._subplots.AxesSubplot at 0x1f59e892d68>"
      ]
     },
     "execution_count": 17,
     "metadata": {},
     "output_type": "execute_result"
    },
    {
     "data": {
      "image/png": "[encoded data removed]",
      "text/plain": [
       "<matplotlib.figure.Figure at 0x1f59e8ec3c8>"
      ]
     },
     "metadata": {},
     "output_type": "display_data"
    }
   ],
   "source": [
    "ct = pd.crosstab(click_users.communication_type, click_users.is_click)\n",
    "ct1 = ct.stack().reset_index().rename(columns={0:'value'})\n",
    "plt.figure(figsize=(8,6))\n",
    "sns.barplot(x=ct1.communication_type, y=ct1.value, hue=ct1.is_click)\n",
    "ct"
   ]
  },
  {
   "cell_type": "markdown",
   "metadata": {},
   "source": [
    "**Remarks:** It is clear that there is a difference betee"
   ]
  },
  {
   "cell_type": "code",
   "execution_count": 18,
   "metadata": {},
   "outputs": [
    {
     "data": {
      "text/plain": [
       "<matplotlib.axes._subplots.AxesSubplot at 0x1f59eced0f0>"
      ]
     },
     "execution_count": 18,
     "metadata": {},
     "output_type": "execute_result"
    },
    {
     "data": {
      "image/png": "[encoded data removed]",
      "text/plain": [
       "<matplotlib.figure.Figure at 0x1f59e934b38>"
      ]
     },
     "metadata": {},
     "output_type": "display_data"
    }
   ],
   "source": [
    "ot = pd.crosstab(open_users.communication_type, open_users.is_open)\n",
    "ot1 = ot.stack().reset_index().rename(columns={0:'value'})\n",
    "plt.figure(figsize=(8,6))\n",
    "sns.barplot(x=ot1.communication_type, y=ot1.value, hue=ot1.is_open)"
   ]
  },
  {
   "cell_type": "code",
   "execution_count": 19,
   "metadata": {},
   "outputs": [
    {
     "name": "stdout",
     "output_type": "stream",
     "text": [
      "is_click                 0     1\n",
      "communication_type              \n",
      "Conference          118228  3228\n",
      "Corporate             1198    43\n",
      "Hackathon            17465  1059\n",
      "Newsletter          159662  5658\n",
      "Others               20239   717\n",
      "Upcoming Events      57352  1916\n",
      "Webinar               2095   161\n"
     ]
    },
    {
     "data": {
      "text/plain": [
       "<matplotlib.axes._subplots.AxesSubplot at 0x1f59e8fb320>"
      ]
     },
     "execution_count": 19,
     "metadata": {},
     "output_type": "execute_result"
    },
    {
     "data": {
      "image/png": "[encoded data removed]",
      "text/plain": [
       "<matplotlib.figure.Figure at 0x1f59ed281d0>"
      ]
     },
     "metadata": {},
     "output_type": "display_data"
    }
   ],
   "source": [
    "# Let us now see among users who open, what is the plot of click vs no click\n",
    "ot1 = pd.crosstab(open_users.communication_type, open_users.is_click)\n",
    "print(ot1)\n",
    "ot1 = ot1.stack().reset_index().rename(columns={0:'value'})\n",
    "plt.figure(figsize=(8,6))\n",
    "sns.barplot(x=ot1.communication_type, y=ot1.value, hue=ot1.is_click)"
   ]
  },
  {
   "cell_type": "code",
   "execution_count": 20,
   "metadata": {},
   "outputs": [
    {
     "data": {
      "text/html": [
       "<div>\n",
       "<style scoped>\n",
       "    .dataframe tbody tr th:only-of-type {\n",
       "        vertical-align: middle;\n",
       "    }\n",
       "\n",
       "    .dataframe tbody tr th {\n",
       "        vertical-align: top;\n",
       "    }\n",
       "\n",
       "    .dataframe thead th {\n",
       "        text-align: right;\n",
       "    }\n",
       "</style>\n",
       "<table border=\"1\" class=\"dataframe\">\n",
       "  <thead>\n",
       "    <tr style=\"text-align: right;\">\n",
       "      <th></th>\n",
       "      <th>count</th>\n",
       "      <th>mean</th>\n",
       "      <th>std</th>\n",
       "      <th>min</th>\n",
       "      <th>25%</th>\n",
       "      <th>50%</th>\n",
       "      <th>75%</th>\n",
       "      <th>max</th>\n",
       "      <th>total_click</th>\n",
       "    </tr>\n",
       "    <tr>\n",
       "      <th>communication_type</th>\n",
       "      <th></th>\n",
       "      <th></th>\n",
       "      <th></th>\n",
       "      <th></th>\n",
       "      <th></th>\n",
       "      <th></th>\n",
       "      <th></th>\n",
       "      <th></th>\n",
       "      <th></th>\n",
       "    </tr>\n",
       "  </thead>\n",
       "  <tbody>\n",
       "    <tr>\n",
       "      <th>Conference</th>\n",
       "      <td>121456.0</td>\n",
       "      <td>0.026578</td>\n",
       "      <td>0.160846</td>\n",
       "      <td>0.0</td>\n",
       "      <td>0.0</td>\n",
       "      <td>0.0</td>\n",
       "      <td>0.0</td>\n",
       "      <td>1.0</td>\n",
       "      <td>3228</td>\n",
       "    </tr>\n",
       "    <tr>\n",
       "      <th>Corporate</th>\n",
       "      <td>1241.0</td>\n",
       "      <td>0.034649</td>\n",
       "      <td>0.182964</td>\n",
       "      <td>0.0</td>\n",
       "      <td>0.0</td>\n",
       "      <td>0.0</td>\n",
       "      <td>0.0</td>\n",
       "      <td>1.0</td>\n",
       "      <td>43</td>\n",
       "    </tr>\n",
       "    <tr>\n",
       "      <th>Hackathon</th>\n",
       "      <td>18524.0</td>\n",
       "      <td>0.057169</td>\n",
       "      <td>0.232172</td>\n",
       "      <td>0.0</td>\n",
       "      <td>0.0</td>\n",
       "      <td>0.0</td>\n",
       "      <td>0.0</td>\n",
       "      <td>1.0</td>\n",
       "      <td>1059</td>\n",
       "    </tr>\n",
       "    <tr>\n",
       "      <th>Newsletter</th>\n",
       "      <td>165320.0</td>\n",
       "      <td>0.034225</td>\n",
       "      <td>0.181806</td>\n",
       "      <td>0.0</td>\n",
       "      <td>0.0</td>\n",
       "      <td>0.0</td>\n",
       "      <td>0.0</td>\n",
       "      <td>1.0</td>\n",
       "      <td>5658</td>\n",
       "    </tr>\n",
       "    <tr>\n",
       "      <th>Others</th>\n",
       "      <td>20956.0</td>\n",
       "      <td>0.034215</td>\n",
       "      <td>0.181784</td>\n",
       "      <td>0.0</td>\n",
       "      <td>0.0</td>\n",
       "      <td>0.0</td>\n",
       "      <td>0.0</td>\n",
       "      <td>1.0</td>\n",
       "      <td>717</td>\n",
       "    </tr>\n",
       "    <tr>\n",
       "      <th>Upcoming Events</th>\n",
       "      <td>59268.0</td>\n",
       "      <td>0.032328</td>\n",
       "      <td>0.176871</td>\n",
       "      <td>0.0</td>\n",
       "      <td>0.0</td>\n",
       "      <td>0.0</td>\n",
       "      <td>0.0</td>\n",
       "      <td>1.0</td>\n",
       "      <td>1916</td>\n",
       "    </tr>\n",
       "    <tr>\n",
       "      <th>Webinar</th>\n",
       "      <td>2256.0</td>\n",
       "      <td>0.071365</td>\n",
       "      <td>0.257491</td>\n",
       "      <td>0.0</td>\n",
       "      <td>0.0</td>\n",
       "      <td>0.0</td>\n",
       "      <td>0.0</td>\n",
       "      <td>1.0</td>\n",
       "      <td>161</td>\n",
       "    </tr>\n",
       "  </tbody>\n",
       "</table>\n",
       "</div>"
      ],
      "text/plain": [
       "                       count      mean       std  min  25%  50%  75%  max  \\\n",
       "communication_type                                                          \n",
       "Conference          121456.0  0.026578  0.160846  0.0  0.0  0.0  0.0  1.0   \n",
       "Corporate             1241.0  0.034649  0.182964  0.0  0.0  0.0  0.0  1.0   \n",
       "Hackathon            18524.0  0.057169  0.232172  0.0  0.0  0.0  0.0  1.0   \n",
       "Newsletter          165320.0  0.034225  0.181806  0.0  0.0  0.0  0.0  1.0   \n",
       "Others               20956.0  0.034215  0.181784  0.0  0.0  0.0  0.0  1.0   \n",
       "Upcoming Events      59268.0  0.032328  0.176871  0.0  0.0  0.0  0.0  1.0   \n",
       "Webinar               2256.0  0.071365  0.257491  0.0  0.0  0.0  0.0  1.0   \n",
       "\n",
       "                    total_click  \n",
       "communication_type               \n",
       "Conference                 3228  \n",
       "Corporate                    43  \n",
       "Hackathon                  1059  \n",
       "Newsletter                 5658  \n",
       "Others                      717  \n",
       "Upcoming Events            1916  \n",
       "Webinar                     161  "
      ]
     },
     "execution_count": 20,
     "metadata": {},
     "output_type": "execute_result"
    }
   ],
   "source": [
    "open_stats = open_users.groupby('communication_type').is_click.describe()\n",
    "open_stats['total_click'] = open_users.groupby('communication_type').is_click.sum()\n",
    "open_stats"
   ]
  },
  {
   "cell_type": "code",
   "execution_count": 21,
   "metadata": {},
   "outputs": [
    {
     "data": {
      "text/html": [
       "<div>\n",
       "<style scoped>\n",
       "    .dataframe tbody tr th:only-of-type {\n",
       "        vertical-align: middle;\n",
       "    }\n",
       "\n",
       "    .dataframe tbody tr th {\n",
       "        vertical-align: top;\n",
       "    }\n",
       "\n",
       "    .dataframe thead th {\n",
       "        text-align: right;\n",
       "    }\n",
       "</style>\n",
       "<table border=\"1\" class=\"dataframe\">\n",
       "  <thead>\n",
       "    <tr style=\"text-align: right;\">\n",
       "      <th></th>\n",
       "      <th>count</th>\n",
       "      <th>mean</th>\n",
       "      <th>std</th>\n",
       "      <th>min</th>\n",
       "      <th>25%</th>\n",
       "      <th>50%</th>\n",
       "      <th>75%</th>\n",
       "      <th>max</th>\n",
       "      <th>total_open</th>\n",
       "    </tr>\n",
       "    <tr>\n",
       "      <th>communication_type</th>\n",
       "      <th></th>\n",
       "      <th></th>\n",
       "      <th></th>\n",
       "      <th></th>\n",
       "      <th></th>\n",
       "      <th></th>\n",
       "      <th></th>\n",
       "      <th></th>\n",
       "      <th></th>\n",
       "    </tr>\n",
       "  </thead>\n",
       "  <tbody>\n",
       "    <tr>\n",
       "      <th>Conference</th>\n",
       "      <td>121456.0</td>\n",
       "      <td>0.245258</td>\n",
       "      <td>0.430242</td>\n",
       "      <td>0.0</td>\n",
       "      <td>0.0</td>\n",
       "      <td>0.0</td>\n",
       "      <td>0.0</td>\n",
       "      <td>1.0</td>\n",
       "      <td>29788</td>\n",
       "    </tr>\n",
       "    <tr>\n",
       "      <th>Corporate</th>\n",
       "      <td>1241.0</td>\n",
       "      <td>0.302981</td>\n",
       "      <td>0.459733</td>\n",
       "      <td>0.0</td>\n",
       "      <td>0.0</td>\n",
       "      <td>0.0</td>\n",
       "      <td>1.0</td>\n",
       "      <td>1.0</td>\n",
       "      <td>376</td>\n",
       "    </tr>\n",
       "    <tr>\n",
       "      <th>Hackathon</th>\n",
       "      <td>18524.0</td>\n",
       "      <td>0.520028</td>\n",
       "      <td>0.499612</td>\n",
       "      <td>0.0</td>\n",
       "      <td>0.0</td>\n",
       "      <td>1.0</td>\n",
       "      <td>1.0</td>\n",
       "      <td>1.0</td>\n",
       "      <td>9633</td>\n",
       "    </tr>\n",
       "    <tr>\n",
       "      <th>Newsletter</th>\n",
       "      <td>165320.0</td>\n",
       "      <td>0.228684</td>\n",
       "      <td>0.419986</td>\n",
       "      <td>0.0</td>\n",
       "      <td>0.0</td>\n",
       "      <td>0.0</td>\n",
       "      <td>0.0</td>\n",
       "      <td>1.0</td>\n",
       "      <td>37806</td>\n",
       "    </tr>\n",
       "    <tr>\n",
       "      <th>Others</th>\n",
       "      <td>20956.0</td>\n",
       "      <td>0.489025</td>\n",
       "      <td>0.499891</td>\n",
       "      <td>0.0</td>\n",
       "      <td>0.0</td>\n",
       "      <td>0.0</td>\n",
       "      <td>1.0</td>\n",
       "      <td>1.0</td>\n",
       "      <td>10248</td>\n",
       "    </tr>\n",
       "    <tr>\n",
       "      <th>Upcoming Events</th>\n",
       "      <td>59268.0</td>\n",
       "      <td>0.231322</td>\n",
       "      <td>0.421681</td>\n",
       "      <td>0.0</td>\n",
       "      <td>0.0</td>\n",
       "      <td>0.0</td>\n",
       "      <td>0.0</td>\n",
       "      <td>1.0</td>\n",
       "      <td>13710</td>\n",
       "    </tr>\n",
       "    <tr>\n",
       "      <th>Webinar</th>\n",
       "      <td>2256.0</td>\n",
       "      <td>0.544770</td>\n",
       "      <td>0.498102</td>\n",
       "      <td>0.0</td>\n",
       "      <td>0.0</td>\n",
       "      <td>1.0</td>\n",
       "      <td>1.0</td>\n",
       "      <td>1.0</td>\n",
       "      <td>1229</td>\n",
       "    </tr>\n",
       "  </tbody>\n",
       "</table>\n",
       "</div>"
      ],
      "text/plain": [
       "                       count      mean       std  min  25%  50%  75%  max  \\\n",
       "communication_type                                                          \n",
       "Conference          121456.0  0.245258  0.430242  0.0  0.0  0.0  0.0  1.0   \n",
       "Corporate             1241.0  0.302981  0.459733  0.0  0.0  0.0  1.0  1.0   \n",
       "Hackathon            18524.0  0.520028  0.499612  0.0  0.0  1.0  1.0  1.0   \n",
       "Newsletter          165320.0  0.228684  0.419986  0.0  0.0  0.0  0.0  1.0   \n",
       "Others               20956.0  0.489025  0.499891  0.0  0.0  0.0  1.0  1.0   \n",
       "Upcoming Events      59268.0  0.231322  0.421681  0.0  0.0  0.0  0.0  1.0   \n",
       "Webinar               2256.0  0.544770  0.498102  0.0  0.0  1.0  1.0  1.0   \n",
       "\n",
       "                    total_open  \n",
       "communication_type              \n",
       "Conference               29788  \n",
       "Corporate                  376  \n",
       "Hackathon                 9633  \n",
       "Newsletter               37806  \n",
       "Others                   10248  \n",
       "Upcoming Events          13710  \n",
       "Webinar                   1229  "
      ]
     },
     "execution_count": 21,
     "metadata": {},
     "output_type": "execute_result"
    }
   ],
   "source": [
    "open_stats1 = open_users.groupby('communication_type').is_open.describe()\n",
    "open_stats1['total_open'] = open_users.groupby('communication_type').is_open.sum()\n",
    "open_stats1"
   ]
  },
  {
   "cell_type": "code",
   "execution_count": 22,
   "metadata": {},
   "outputs": [],
   "source": [
    "tr1 = pd.merge(tr,cd,left_on='campaign_id',right_index=True,how='left',sort=False)"
   ]
  },
  {
   "cell_type": "code",
   "execution_count": 23,
   "metadata": {},
   "outputs": [
    {
     "data": {
      "text/html": [
       "<div>\n",
       "<style scoped>\n",
       "    .dataframe tbody tr th:only-of-type {\n",
       "        vertical-align: middle;\n",
       "    }\n",
       "\n",
       "    .dataframe tbody tr th {\n",
       "        vertical-align: top;\n",
       "    }\n",
       "\n",
       "    .dataframe thead th {\n",
       "        text-align: right;\n",
       "    }\n",
       "</style>\n",
       "<table border=\"1\" class=\"dataframe\">\n",
       "  <thead>\n",
       "    <tr style=\"text-align: right;\">\n",
       "      <th></th>\n",
       "      <th>count</th>\n",
       "      <th>mean</th>\n",
       "      <th>std</th>\n",
       "      <th>min</th>\n",
       "      <th>25%</th>\n",
       "      <th>50%</th>\n",
       "      <th>75%</th>\n",
       "      <th>max</th>\n",
       "    </tr>\n",
       "    <tr>\n",
       "      <th>communication_type</th>\n",
       "      <th></th>\n",
       "      <th></th>\n",
       "      <th></th>\n",
       "      <th></th>\n",
       "      <th></th>\n",
       "      <th></th>\n",
       "      <th></th>\n",
       "      <th></th>\n",
       "    </tr>\n",
       "  </thead>\n",
       "  <tbody>\n",
       "    <tr>\n",
       "      <th>Conference</th>\n",
       "      <td>332633.0</td>\n",
       "      <td>0.089552</td>\n",
       "      <td>0.285540</td>\n",
       "      <td>0.0</td>\n",
       "      <td>0.0</td>\n",
       "      <td>0.0</td>\n",
       "      <td>0.0</td>\n",
       "      <td>1.0</td>\n",
       "    </tr>\n",
       "    <tr>\n",
       "      <th>Corporate</th>\n",
       "      <td>2853.0</td>\n",
       "      <td>0.131791</td>\n",
       "      <td>0.338323</td>\n",
       "      <td>0.0</td>\n",
       "      <td>0.0</td>\n",
       "      <td>0.0</td>\n",
       "      <td>0.0</td>\n",
       "      <td>1.0</td>\n",
       "    </tr>\n",
       "    <tr>\n",
       "      <th>Hackathon</th>\n",
       "      <td>33265.0</td>\n",
       "      <td>0.289584</td>\n",
       "      <td>0.453576</td>\n",
       "      <td>0.0</td>\n",
       "      <td>0.0</td>\n",
       "      <td>0.0</td>\n",
       "      <td>1.0</td>\n",
       "      <td>1.0</td>\n",
       "    </tr>\n",
       "    <tr>\n",
       "      <th>Newsletter</th>\n",
       "      <td>451053.0</td>\n",
       "      <td>0.083817</td>\n",
       "      <td>0.277114</td>\n",
       "      <td>0.0</td>\n",
       "      <td>0.0</td>\n",
       "      <td>0.0</td>\n",
       "      <td>0.0</td>\n",
       "      <td>1.0</td>\n",
       "    </tr>\n",
       "    <tr>\n",
       "      <th>Others</th>\n",
       "      <td>50936.0</td>\n",
       "      <td>0.201194</td>\n",
       "      <td>0.400896</td>\n",
       "      <td>0.0</td>\n",
       "      <td>0.0</td>\n",
       "      <td>0.0</td>\n",
       "      <td>0.0</td>\n",
       "      <td>1.0</td>\n",
       "    </tr>\n",
       "    <tr>\n",
       "      <th>Upcoming Events</th>\n",
       "      <td>148964.0</td>\n",
       "      <td>0.092036</td>\n",
       "      <td>0.289077</td>\n",
       "      <td>0.0</td>\n",
       "      <td>0.0</td>\n",
       "      <td>0.0</td>\n",
       "      <td>0.0</td>\n",
       "      <td>1.0</td>\n",
       "    </tr>\n",
       "    <tr>\n",
       "      <th>Webinar</th>\n",
       "      <td>3487.0</td>\n",
       "      <td>0.352452</td>\n",
       "      <td>0.477802</td>\n",
       "      <td>0.0</td>\n",
       "      <td>0.0</td>\n",
       "      <td>0.0</td>\n",
       "      <td>1.0</td>\n",
       "      <td>1.0</td>\n",
       "    </tr>\n",
       "  </tbody>\n",
       "</table>\n",
       "</div>"
      ],
      "text/plain": [
       "                       count      mean       std  min  25%  50%  75%  max\n",
       "communication_type                                                       \n",
       "Conference          332633.0  0.089552  0.285540  0.0  0.0  0.0  0.0  1.0\n",
       "Corporate             2853.0  0.131791  0.338323  0.0  0.0  0.0  0.0  1.0\n",
       "Hackathon            33265.0  0.289584  0.453576  0.0  0.0  0.0  1.0  1.0\n",
       "Newsletter          451053.0  0.083817  0.277114  0.0  0.0  0.0  0.0  1.0\n",
       "Others               50936.0  0.201194  0.400896  0.0  0.0  0.0  0.0  1.0\n",
       "Upcoming Events     148964.0  0.092036  0.289077  0.0  0.0  0.0  0.0  1.0\n",
       "Webinar               3487.0  0.352452  0.477802  0.0  0.0  0.0  1.0  1.0"
      ]
     },
     "execution_count": 23,
     "metadata": {},
     "output_type": "execute_result"
    }
   ],
   "source": [
    "tr1.groupby('communication_type').is_open.describe()"
   ]
  },
  {
   "cell_type": "code",
   "execution_count": 24,
   "metadata": {},
   "outputs": [
    {
     "data": {
      "text/html": [
       "<div>\n",
       "<style scoped>\n",
       "    .dataframe tbody tr th:only-of-type {\n",
       "        vertical-align: middle;\n",
       "    }\n",
       "\n",
       "    .dataframe tbody tr th {\n",
       "        vertical-align: top;\n",
       "    }\n",
       "\n",
       "    .dataframe thead th {\n",
       "        text-align: right;\n",
       "    }\n",
       "</style>\n",
       "<table border=\"1\" class=\"dataframe\">\n",
       "  <thead>\n",
       "    <tr style=\"text-align: right;\">\n",
       "      <th></th>\n",
       "      <th>count</th>\n",
       "      <th>mean</th>\n",
       "      <th>std</th>\n",
       "      <th>min</th>\n",
       "      <th>25%</th>\n",
       "      <th>50%</th>\n",
       "      <th>75%</th>\n",
       "      <th>max</th>\n",
       "    </tr>\n",
       "    <tr>\n",
       "      <th>communication_type</th>\n",
       "      <th></th>\n",
       "      <th></th>\n",
       "      <th></th>\n",
       "      <th></th>\n",
       "      <th></th>\n",
       "      <th></th>\n",
       "      <th></th>\n",
       "      <th></th>\n",
       "    </tr>\n",
       "  </thead>\n",
       "  <tbody>\n",
       "    <tr>\n",
       "      <th>Conference</th>\n",
       "      <td>25641.0</td>\n",
       "      <td>0.125892</td>\n",
       "      <td>0.331734</td>\n",
       "      <td>0.0</td>\n",
       "      <td>0.0</td>\n",
       "      <td>0.0</td>\n",
       "      <td>0.0</td>\n",
       "      <td>1.0</td>\n",
       "    </tr>\n",
       "    <tr>\n",
       "      <th>Corporate</th>\n",
       "      <td>445.0</td>\n",
       "      <td>0.096629</td>\n",
       "      <td>0.295785</td>\n",
       "      <td>0.0</td>\n",
       "      <td>0.0</td>\n",
       "      <td>0.0</td>\n",
       "      <td>0.0</td>\n",
       "      <td>1.0</td>\n",
       "    </tr>\n",
       "    <tr>\n",
       "      <th>Hackathon</th>\n",
       "      <td>4854.0</td>\n",
       "      <td>0.218171</td>\n",
       "      <td>0.413046</td>\n",
       "      <td>0.0</td>\n",
       "      <td>0.0</td>\n",
       "      <td>0.0</td>\n",
       "      <td>0.0</td>\n",
       "      <td>1.0</td>\n",
       "    </tr>\n",
       "    <tr>\n",
       "      <th>Newsletter</th>\n",
       "      <td>32691.0</td>\n",
       "      <td>0.173075</td>\n",
       "      <td>0.378318</td>\n",
       "      <td>0.0</td>\n",
       "      <td>0.0</td>\n",
       "      <td>0.0</td>\n",
       "      <td>0.0</td>\n",
       "      <td>1.0</td>\n",
       "    </tr>\n",
       "    <tr>\n",
       "      <th>Others</th>\n",
       "      <td>4493.0</td>\n",
       "      <td>0.159582</td>\n",
       "      <td>0.366258</td>\n",
       "      <td>0.0</td>\n",
       "      <td>0.0</td>\n",
       "      <td>0.0</td>\n",
       "      <td>0.0</td>\n",
       "      <td>1.0</td>\n",
       "    </tr>\n",
       "    <tr>\n",
       "      <th>Upcoming Events</th>\n",
       "      <td>12809.0</td>\n",
       "      <td>0.149582</td>\n",
       "      <td>0.356675</td>\n",
       "      <td>0.0</td>\n",
       "      <td>0.0</td>\n",
       "      <td>0.0</td>\n",
       "      <td>0.0</td>\n",
       "      <td>1.0</td>\n",
       "    </tr>\n",
       "    <tr>\n",
       "      <th>Webinar</th>\n",
       "      <td>858.0</td>\n",
       "      <td>0.187646</td>\n",
       "      <td>0.390657</td>\n",
       "      <td>0.0</td>\n",
       "      <td>0.0</td>\n",
       "      <td>0.0</td>\n",
       "      <td>0.0</td>\n",
       "      <td>1.0</td>\n",
       "    </tr>\n",
       "  </tbody>\n",
       "</table>\n",
       "</div>"
      ],
      "text/plain": [
       "                      count      mean       std  min  25%  50%  75%  max\n",
       "communication_type                                                      \n",
       "Conference          25641.0  0.125892  0.331734  0.0  0.0  0.0  0.0  1.0\n",
       "Corporate             445.0  0.096629  0.295785  0.0  0.0  0.0  0.0  1.0\n",
       "Hackathon            4854.0  0.218171  0.413046  0.0  0.0  0.0  0.0  1.0\n",
       "Newsletter          32691.0  0.173075  0.378318  0.0  0.0  0.0  0.0  1.0\n",
       "Others               4493.0  0.159582  0.366258  0.0  0.0  0.0  0.0  1.0\n",
       "Upcoming Events     12809.0  0.149582  0.356675  0.0  0.0  0.0  0.0  1.0\n",
       "Webinar               858.0  0.187646  0.390657  0.0  0.0  0.0  0.0  1.0"
      ]
     },
     "execution_count": 24,
     "metadata": {},
     "output_type": "execute_result"
    }
   ],
   "source": [
    "click_users.groupby('communication_type').is_click.describe()"
   ]
  },
  {
   "cell_type": "code",
   "execution_count": 25,
   "metadata": {},
   "outputs": [
    {
     "name": "stdout",
     "output_type": "stream",
     "text": [
      "id             80463\n",
      "user_id        10069\n",
      "campaign_id       26\n",
      "is_open            2\n",
      "is_click           2\n",
      "mean_click        57\n",
      "mean_open         92\n",
      "dtype: int64\n",
      "id             50203\n",
      "campaign_id       26\n",
      "user_id        10069\n",
      "dtype: int64\n"
     ]
    },
    {
     "data": {
      "text/plain": [
       "(80463, 50203)"
      ]
     },
     "execution_count": 25,
     "metadata": {},
     "output_type": "execute_result"
    }
   ],
   "source": [
    "def merge_campaign(data,campaign) : \n",
    "    data = pd.merge(data,campaign,left_on='campaign_id',right_index=True,how='left',sort=False)\n",
    "   # data = data.drop('campaign_id',axis=1)\n",
    "    return data\n",
    "pure_no_click = list(set(tr[tr.is_click==0].user_id.unique())-set(tr[tr.is_click==1].user_id.unique()))\n",
    "pure_click = list(set(tr[tr.is_click==1].user_id.unique())-set(tr[tr.is_click==0].user_id.unique()))\n",
    "pure_no_open = list(set(tr[tr.is_open==0].user_id.unique())-set(tr[tr.is_open==1].user_id.unique()))\n",
    "pure_open = list(set(tr[tr.is_open==0].user_id.unique())-set(tr[tr.is_open==1].user_id.unique()))\n",
    "g1 = te[te.user_id.isin(tr.user_id.unique())]\n",
    "g2 = te[~te.user_id.isin(tr.user_id.unique())]\n",
    "p1 = tr[tr.user_id.isin(g1.user_id.unique())]\n",
    "p2 = tr[~tr.user_id.isin(g1.user_id.unique())]\n",
    "\n",
    "## No click users are removed\n",
    "int_users = set(p1.user_id.unique()) - set(pure_no_click)\n",
    "\n",
    "## No open users are removed\n",
    "into_users = set(p1.user_id.unique()) - set(pure_no_open)\n",
    "\n",
    "trm = p1[p1.user_id.isin(int_users)]\n",
    "tem = g1[g1.user_id.isin(int_users)] \n",
    "print(p1[p1.user_id.isin(int_users)].nunique())\n",
    "print(g1[g1.user_id.isin(int_users)].nunique())\n",
    "trm_merge = merge_campaign(trm,cd)\n",
    "tem_merge = merge_campaign(tem,cd)\n",
    "trm_sub = trm_merge[trm_merge.communication_type.isin(tem_merge.communication_type.unique())]\n",
    "tem = tem_merge\n",
    "trm = trm_merge\n",
    "trm.shape[0],tem.shape[0]"
   ]
  },
  {
   "cell_type": "markdown",
   "metadata": {},
   "source": [
    "### Some important numbers. Recall the solution in the beginning"
   ]
  },
  {
   "cell_type": "code",
   "execution_count": 26,
   "metadata": {},
   "outputs": [
    {
     "name": "stdout",
     "output_type": "stream",
     "text": [
      "Total 1's in test set expected 9667.259540007683\n",
      "Total 1's in Common interesting set expected 7752.287076047376\n",
      "Hence total in the new set 1914.9724639603064\n",
      "Click rate expected from new users 0.012607709998487754\n"
     ]
    }
   ],
   "source": [
    "total_clicks = tr.is_click.sum()*te.shape[0]/tr.shape[0]\n",
    "interesting_user_clicks = trm.is_click.sum()*tem.shape[0]/trm.shape[0]\n",
    "new_user_clicks = total_clicks - interesting_user_clicks\n",
    "print(\"Total 1's in test set expected\",total_clicks)\n",
    "print(\"Total 1's in Common interesting set expected\",interesting_user_clicks)\n",
    "print(\"Hence total in the new set\",new_user_clicks)\n",
    "print(\"Click rate expected from new users\",new_user_clicks/g2.shape[0])"
   ]
  },
  {
   "cell_type": "code",
   "execution_count": 27,
   "metadata": {},
   "outputs": [
    {
     "name": "stdout",
     "output_type": "stream",
     "text": [
      "The P(click | only users who click at least once are present) 0.15441880118812373\n",
      "The P(open | only users who click at least once are present) 0.30251171345835975\n"
     ]
    }
   ],
   "source": [
    "print(\"The P(click | only users who click at least once are present)\", trm.is_click.mean())\n",
    "print(\"The P(open | only users who click at least once are present)\", trm.is_open.mean())"
   ]
  },
  {
   "cell_type": "code",
   "execution_count": 28,
   "metadata": {},
   "outputs": [
    {
     "name": "stdout",
     "output_type": "stream",
     "text": [
      "id             376486\n",
      "user_id         50303\n",
      "campaign_id        26\n",
      "is_open             2\n",
      "is_click            2\n",
      "mean_click         58\n",
      "mean_open          96\n",
      "dtype: int64\n",
      "id             227645\n",
      "campaign_id        26\n",
      "user_id         50303\n",
      "dtype: int64\n"
     ]
    }
   ],
   "source": [
    "print(p1[p1.user_id.isin(into_users)].nunique())\n",
    "print(g1[g1.user_id.isin(into_users)].nunique())"
   ]
  },
  {
   "cell_type": "code",
   "execution_count": 29,
   "metadata": {},
   "outputs": [
    {
     "data": {
      "text/html": [
       "<div>\n",
       "<style scoped>\n",
       "    .dataframe tbody tr th:only-of-type {\n",
       "        vertical-align: middle;\n",
       "    }\n",
       "\n",
       "    .dataframe tbody tr th {\n",
       "        vertical-align: top;\n",
       "    }\n",
       "\n",
       "    .dataframe thead tr th {\n",
       "        text-align: left;\n",
       "    }\n",
       "</style>\n",
       "<table border=\"1\" class=\"dataframe\">\n",
       "  <thead>\n",
       "    <tr>\n",
       "      <th></th>\n",
       "      <th>Train: All User Record count</th>\n",
       "      <th>All User count</th>\n",
       "      <th>All Users rates</th>\n",
       "      <th>Common Record count</th>\n",
       "      <th>Common User count</th>\n",
       "      <th>Common Users rates</th>\n",
       "    </tr>\n",
       "  </thead>\n",
       "  <tbody>\n",
       "    <tr>\n",
       "      <th>open_rate</th>\n",
       "      <td>1023191</td>\n",
       "      <td>168236</td>\n",
       "      <td>0.100460</td>\n",
       "      <td>978820</td>\n",
       "      <td>145737</td>\n",
       "      <td>0.099225</td>\n",
       "    </tr>\n",
       "    <tr>\n",
       "      <th>click_rate</th>\n",
       "      <td>1023191</td>\n",
       "      <td>168236</td>\n",
       "      <td>0.012492</td>\n",
       "      <td>978820</td>\n",
       "      <td>145737</td>\n",
       "      <td>0.012694</td>\n",
       "    </tr>\n",
       "  </tbody>\n",
       "</table>\n",
       "</div>"
      ],
      "text/plain": [
       "           Train: All User Record count All User count All Users rates  \\\n",
       "open_rate                       1023191         168236        0.100460   \n",
       "click_rate                      1023191         168236        0.012492   \n",
       "\n",
       "           Common Record count Common User count Common Users rates  \n",
       "open_rate               978820            145737           0.099225  \n",
       "click_rate              978820            145737           0.012694  "
      ]
     },
     "execution_count": 29,
     "metadata": {},
     "output_type": "execute_result"
    }
   ],
   "source": [
    "rates_array = pd.DataFrame([[tr.id.nunique(),tr.user_id.nunique(),tr.is_open.mean(),p1.id.nunique(),p1.user_id.nunique(), p1.is_open.mean()],[tr.id.nunique(),tr.user_id.nunique(),tr.is_click.mean(),p1.id.nunique(),p1.user_id.nunique(),p1.is_click.mean()]],index=[['open_rate','click_rate']])\n",
    "rates_array.columns = [['Train: All User Record count','All User count','All Users rates','Common Record count','Common User count','Common Users rates']]\n",
    "rates_array"
   ]
  },
  {
   "cell_type": "code",
   "execution_count": 30,
   "metadata": {},
   "outputs": [
    {
     "data": {
      "text/html": [
       "<div>\n",
       "<style scoped>\n",
       "    .dataframe tbody tr th:only-of-type {\n",
       "        vertical-align: middle;\n",
       "    }\n",
       "\n",
       "    .dataframe tbody tr th {\n",
       "        vertical-align: top;\n",
       "    }\n",
       "\n",
       "    .dataframe thead tr th {\n",
       "        text-align: left;\n",
       "    }\n",
       "</style>\n",
       "<table border=\"1\" class=\"dataframe\">\n",
       "  <thead>\n",
       "    <tr>\n",
       "      <th></th>\n",
       "      <th>Test: All User Record count</th>\n",
       "      <th>All User count</th>\n",
       "      <th>Common Record count</th>\n",
       "      <th>Common User count</th>\n",
       "    </tr>\n",
       "  </thead>\n",
       "  <tbody>\n",
       "    <tr>\n",
       "      <th>count</th>\n",
       "      <td>773858</td>\n",
       "      <td>198219</td>\n",
       "      <td>621969</td>\n",
       "      <td>145737</td>\n",
       "    </tr>\n",
       "  </tbody>\n",
       "</table>\n",
       "</div>"
      ],
      "text/plain": [
       "      Test: All User Record count All User count Common Record count  \\\n",
       "count                      773858         198219              621969   \n",
       "\n",
       "      Common User count  \n",
       "count            145737  "
      ]
     },
     "execution_count": 30,
     "metadata": {},
     "output_type": "execute_result"
    }
   ],
   "source": [
    "count_array = pd.DataFrame([[te.id.nunique(),te.user_id.nunique(),g1.id.nunique(),g1.user_id.nunique()]],index=[['count']])\n",
    "count_array.columns = [['Test: All User Record count','All User count','Common Record count','Common User count']]\n",
    "count_array"
   ]
  },
  {
   "cell_type": "code",
   "execution_count": 31,
   "metadata": {},
   "outputs": [
    {
     "name": "stdout",
     "output_type": "stream",
     "text": [
      "send_date\n",
      "2017-07-02    0.217045\n",
      "2017-07-16    0.168278\n",
      "2017-07-30    0.152489\n",
      "2017-08-13    0.093835\n",
      "2017-08-27    0.071535\n",
      "2017-09-10    0.151178\n",
      "2017-09-24    0.221830\n",
      "2017-10-08    0.161920\n",
      "2017-10-22    0.202410\n",
      "2017-11-05    0.186133\n",
      "2017-11-19    0.154769\n",
      "2017-12-03    0.160418\n",
      "Name: is_click, dtype: float64\n",
      "lag1 send_date\n",
      "2017-07-02    0.168278\n",
      "2017-07-16    0.217045\n",
      "2017-07-30    0.168278\n",
      "2017-08-13    0.152489\n",
      "2017-08-27    0.093835\n",
      "2017-09-10    0.071535\n",
      "2017-09-24    0.151178\n",
      "2017-10-08    0.221830\n",
      "2017-10-22    0.161920\n",
      "2017-11-05    0.202410\n",
      "2017-11-19    0.186133\n",
      "2017-12-03    0.154769\n",
      "Name: is_click, dtype: float64\n",
      "lag2 send_date\n",
      "2017-07-02    0.217045\n",
      "2017-07-16    0.168278\n",
      "2017-07-30    0.217045\n",
      "2017-08-13    0.168278\n",
      "2017-08-27    0.152489\n",
      "2017-09-10    0.093835\n",
      "2017-09-24    0.071535\n",
      "2017-10-08    0.151178\n",
      "2017-10-22    0.221830\n",
      "2017-11-05    0.161920\n",
      "2017-11-19    0.202410\n",
      "2017-12-03    0.186133\n",
      "Name: is_click, dtype: float64\n",
      "diff\n"
     ]
    },
    {
     "data": {
      "text/plain": [
       "count    12.000000\n",
       "mean      0.005190\n",
       "std       0.051177\n",
       "min      -0.079643\n",
       "25%      -0.042559\n",
       "50%       0.019288\n",
       "75%       0.048767\n",
       "max       0.059910\n",
       "Name: is_click, dtype: float64"
      ]
     },
     "execution_count": 31,
     "metadata": {},
     "output_type": "execute_result"
    }
   ],
   "source": [
    "biweekly_mean = trm.resample('2W').is_click.mean()\n",
    "print(biweekly_mean)\n",
    "temp = biweekly_mean.shift(1)\n",
    "temp.fillna(temp[2],inplace=True)\n",
    "print(\"lag1\",temp)\n",
    "temp1 = temp.shift(1)\n",
    "temp1.fillna(temp1[2],inplace=True)\n",
    "print(\"lag2\",temp1)\n",
    "print(\"diff\")\n",
    "diff = temp1 - temp\n",
    "diff.describe()"
   ]
  },
  {
   "cell_type": "code",
   "execution_count": 32,
   "metadata": {},
   "outputs": [
    {
     "data": {
      "image/png": "[encoded data removed]",
      "text/plain": [
       "<matplotlib.figure.Figure at 0x1f59f197748>"
      ]
     },
     "metadata": {},
     "output_type": "display_data"
    },
    {
     "data": {
      "image/png": "[encoded data removed]",
      "text/plain": [
       "<matplotlib.figure.Figure at 0x1f59d10a438>"
      ]
     },
     "metadata": {},
     "output_type": "display_data"
    },
    {
     "data": {
      "image/png": "[encoded data removed]",
      "text/plain": [
       "<matplotlib.figure.Figure at 0x1f5a4c8bba8>"
      ]
     },
     "metadata": {},
     "output_type": "display_data"
    }
   ],
   "source": [
    "_ = plt.plot(trm.resample('2W').is_click.mean())\n",
    "_ = plt.title('Click rate over time across all users in train data')\n",
    "_ = plt.figure()\n",
    "_ = plt.plot(trm.resample('2W').is_open.mean())\n",
    "_ = plt.title('Open rate over time across all users in train data')\n",
    "_ = plt.figure()\n",
    "_ = plt.plot(trm.resample('2W').is_click.mean()/trm.resample('2W').is_open.mean())\n",
    "_ = plt.title('Click rate by Open rate over time across all users in train data')"
   ]
  },
  {
   "cell_type": "code",
   "execution_count": 33,
   "metadata": {},
   "outputs": [
    {
     "data": {
      "image/png": "[encoded data removed]",
      "text/plain": [
       "<matplotlib.figure.Figure at 0x1f59f62c7f0>"
      ]
     },
     "metadata": {},
     "output_type": "display_data"
    },
    {
     "data": {
      "image/png": "[encoded data removed]",
      "text/plain": [
       "<matplotlib.figure.Figure at 0x1f59f633fd0>"
      ]
     },
     "metadata": {},
     "output_type": "display_data"
    }
   ],
   "source": [
    "ctype_mean_click = trm.groupby('communication_type').is_click.mean() \n",
    "ctype_mean_open = trm.groupby('communication_type').is_open.mean()\n",
    "_ = plt.figure(figsize=(8,6))\n",
    "_ = plt.barh(trm.communication_type.unique(),ctype_mean_open,color='orange')\n",
    "_ = plt.title('Mean open rate by communication type')\n",
    "_ = plt.figure(figsize=(8,6))\n",
    "_ = plt.title('Mean click rate by communication type')\n",
    "_ = plt.barh(trm.communication_type.unique(),ctype_mean_click,color='g')"
   ]
  },
  {
   "cell_type": "markdown",
   "metadata": {},
   "source": [
    "### Text Analysis Starts here"
   ]
  },
  {
   "cell_type": "code",
   "execution_count": 34,
   "metadata": {},
   "outputs": [
    {
     "name": "stdout",
     "output_type": "stream",
     "text": [
      "[nltk_data] Downloading package punkt to\n",
      "[nltk_data]     C:\\Users\\Aparn\\AppData\\Roaming\\nltk_data...\n",
      "[nltk_data]   Package punkt is already up-to-date!\n",
      "[nltk_data] Downloading package stopwords to\n",
      "[nltk_data]     C:\\Users\\Aparn\\AppData\\Roaming\\nltk_data...\n",
      "[nltk_data]   Package stopwords is already up-to-date!\n"
     ]
    }
   ],
   "source": [
    "import nltk\n",
    "import string\n",
    "from nltk import word_tokenize          \n",
    "from nltk.stem.porter import PorterStemmer\n",
    "nltk.download('punkt')\n",
    "nltk.download('stopwords')\n",
    "from nltk.corpus import stopwords\n",
    "from sklearn.feature_extraction.text import CountVectorizer\n",
    "from sklearn.feature_extraction.text import TfidfVectorizer\n",
    "\n",
    "stemmer = PorterStemmer()\n",
    "def stem_tokens(tokens, stemmer):\n",
    "    \"\"\"\n",
    "    Produces lemmatized tokens using provided stemmer.\n",
    "    \"\"\"\n",
    "    stemmed = []\n",
    "    for item in tokens:\n",
    "        stemmed.append(stemmer.stem(item))\n",
    "    return stemmed\n",
    "\n",
    "def tokenize(text):\n",
    "    \"\"\"\n",
    "    Tokenizes the text and returns stems of all tokens.\n",
    "    \"\"\"\n",
    "    tokens = word_tokenize(text)\n",
    "    stems = stem_tokens(tokens, stemmer)\n",
    "    return stems\n",
    "def tokenize_text(campaign,max_features=100,max_df=1.0,min_df=2,col_name='email_body',ngram_range = (1,2)) :\n",
    "    stop =stopwords.words('english') + list(string.punctuation) +  ['July','August','septemb','October','novemb','December'] + [\"''\", \"'s\", \"'s largest\", '00:00', '00:00 hr', '1', '10', '11:59', '11:59 pm', '12', '15', '2', '2017', '2017.', '2018','24', '25', '3', '5', '``']\n",
    "    vectorizer = TfidfVectorizer(stop_words=stop,max_df=max_df, min_df=min_df, max_features = max_features, ngram_range = ngram_range, tokenizer = tokenize)\n",
    "    vectorizer.fit(campaign[col_name])\n",
    "    X = vectorizer.transform(campaign.loc[:54,col_name])\n",
    "    X = X.tocsc() # some versions of sklearn return COO formatmax_features = 100, ngram_range = (1,1), stop_words = 'english', tokenizer = tokenize\n",
    "    feat = vectorizer.get_feature_names()\n",
    "    print(\"Shape :\",X.shape)\n",
    "    return X,vectorizer\n",
    "def transform_text(campaign,vectorizer=None,col_name='email_body') :\n",
    "    X = vectorizer.transform(campaign.loc[55:,col_name])\n",
    "    X = X.tocsc() # some versions of sklearn return COO formatmax_features = 100, ngram_range = (1,1), stop_words = 'english', tokenizer = tokenize\n",
    "    feat = vectorizer.get_feature_names()\n",
    "    print(\"Shape :\",X.shape)\n",
    "    return X\n",
    "\n",
    "#Print most frequent that are not punctuation marks or num\n",
    "def check_punc(line):\n",
    "    \"\"\"\n",
    "    Runs through all tokens and returns None if token is punctuation.\n",
    "    Returns token if not punctuation.\n",
    "    \"\"\"\n",
    "    for l in line[0]:\n",
    "        if l in string.punctuation:\n",
    "            return\n",
    "    return line   #,'2017.','2017','2018',\"'s\",'24','3','\\x96','15','abinbev',\n"
   ]
  },
  {
   "cell_type": "markdown",
   "metadata": {},
   "source": [
    "#### Body or Subject Analysis"
   ]
  },
  {
   "cell_type": "code",
   "execution_count": 35,
   "metadata": {},
   "outputs": [],
   "source": [
    "def feature_generate(cd,max_features=100,max_df=0.2,min_df=2,col_name='email_body') :\n",
    "    X , vect_one = tokenize_text(cd,max_features=max_features,max_df=max_df,min_df=min_df,col_name='email_body')\n",
    "    print(X.toarray().shape)\n",
    "    num_feat = X.toarray().shape[1]\n",
    "    body_feat = vect_one.get_feature_names()\n",
    "    print(body_feat)\n",
    "    #Zip together words and their frequencies\n",
    "    freq_one = zip(body_feat, np.asarray(X.sum(axis=0)).ravel())\n",
    "    sort_freq_one = sorted(list(freq_one), key=lambda x: x[1], reverse = True)\n",
    "\n",
    "    no_punc = [(lambda x: check_punc(x))(x) for x in sort_freq_one]\n",
    "    no_punc_index = [i for i in range(len(no_punc)) if no_punc[i] is not None]\n",
    "\n",
    "    short = [x for x in no_punc if x is not None]\n",
    "    print(\"Most Frequent\")\n",
    "    for feature, score in short[0:20]:\n",
    "        print('Feature is \\\"',feature, '\\\" with frequency',score)\n",
    "    print(\"Least Frequent\")\n",
    "    for feature, score in short[-20:]:\n",
    "        print('Feature is \\\"',feature, '\\\" with frequency',score) \n",
    "    yi = np.cumsum(np.asarray(X.sum(axis=0)).ravel())\n",
    "    _ = plt.plot(np.arange(len(yi)),np.asarray(X.sum(axis=0)).ravel())\n",
    "    tr_features = pd.DataFrame(X.toarray(),index=cd.index[:26])\n",
    "\n",
    "    test = transform_text(cd,col_name='email_body',vectorizer=vect_one)\n",
    "    test_features = pd.DataFrame(test.toarray(),index=cd.index[26:])\n",
    "    \n",
    "    return tr_features, test_features, vect_one"
   ]
  },
  {
   "cell_type": "code",
   "execution_count": 36,
   "metadata": {},
   "outputs": [
    {
     "name": "stdout",
     "output_type": "stream",
     "text": [
      "Shape : (26, 163)\n",
      "(26, 163)\n",
      "['across', 'addit', 'advanc', 'algorithm', 'analyt vidhya', 'announc', 'articl', 'artifici', 'artifici intellig', 'attend', 'befor', 'bengaluru', 'best', 'best data', 'big', 'build', 'busi', 'cash', 'cash prize', 'challeng', 'chanc', 'chang', 'come part', 'commun', 'compani', 'competit', 'confer', 'contest', 'creat', 'data engin', 'data scientist', 'datahack', 'datahack summit', 'date', 'day', 'dear hacker', 'deep', 'deep learn', 'deliv', 'dream', 'eager', 'end', 'engin', 'event', 'excit', 'excit event', 'expert', 'februari', 'find', 'first', 'futur', 'global', 'go', 'ha', 'hacker', 'happen', 'help', 'hire', 'hire hackathon', 'hour', 'hunt', 'identifi', 'includ', 'india', 'industri', 'intellig', 'intellig machin', 'interview', 'invit', 'jain', 'januari', 'join', 'keep', 'know', 'kunal', 'kunal jain', 'languag', 'languag process', 'largest', 'last', 'lead', 'leader', 'learn upcom', 'like', 'look', 'make', 'mckinsey', 'meet', 'meetup', 'miss', 'model', 'month', 'natur', 'natur languag', 'need', 'new', 'newslett', 'newslett dear', 'next', 'one', 'onlin', 'opportun', 'organ', 'part', 'part thi', 'particip', 'peopl', 'pm', 'practition', 'predict', 'prize', 'prize ultim', 'problem', 'process', 'profession', 'program', 'read', 'read know', 'readi', 'regard', 'regard kunal', 'regist', 'scienc practition', 'scienc profession', 'scientist', 'scientist data', 'see', 'session', 'solv', 'speaker', 'start', 'summit', 'take', 'talent', 'team', 'thought', 'ticket', 'time', 'today', 'togeth', 'tool', 'top', 'ultim', 'ultim learn', 'uniqu', 'upcom', 'upcom event', 'updat', 'us', 'use', 'variou', 'vidhya', 'visual', 'want', 'way', 'win', 'winner', 'work', 'workshop', 'world', 'would', 'year', '\\x96']\n",
      "Most Frequent\n",
      "Feature is \" event \" with frequency 3.1996267966269785\n",
      "Feature is \" summit \" with frequency 3.139273269754788\n",
      "Feature is \" confer \" with frequency 2.8030749931666072\n",
      "Feature is \" datahack summit \" with frequency 2.607215011850169\n",
      "Feature is \" session \" with frequency 2.5826168452395755\n",
      "Feature is \" datahack \" with frequency 2.541202003272611\n",
      "Feature is \" announc \" with frequency 1.7443299313797564\n",
      "Feature is \" excit \" with frequency 1.7034004925789719\n",
      "Feature is \" predict \" with frequency 1.6484381753335555\n",
      "Feature is \" ticket \" with frequency 1.561040047171416\n",
      "Feature is \" upcom \" with frequency 1.5548819559327345\n",
      "Feature is \" workshop \" with frequency 1.5445370325371204\n",
      "Feature is \" day \" with frequency 1.538617149340866\n",
      "Feature is \" know \" with frequency 1.5241268191942934\n",
      "Feature is \" new \" with frequency 1.5200402393737598\n",
      "Feature is \" big \" with frequency 1.454240743146756\n",
      "Feature is \" want \" with frequency 1.369520996655126\n",
      "Feature is \" see \" with frequency 1.277535148327633\n",
      "Feature is \" practition \" with frequency 1.260066010183595\n",
      "Feature is \" make \" with frequency 1.259552689747386\n",
      "Least Frequent\n",
      "Feature is \" algorithm \" with frequency 0.2582091067317897\n",
      "Feature is \" help \" with frequency 0.2458901755715618\n",
      "Feature is \" advanc \" with frequency 0.22175501391891872\n",
      "Feature is \" scientist data \" with frequency 0.2035795291813021\n",
      "Feature is \" build \" with frequency 0.19265349149050182\n",
      "Feature is \" hire hackathon \" with frequency 0.14324445250660794\n",
      "Feature is \" talent \" with frequency 0.13345456428431862\n",
      "Feature is \" dream \" with frequency 0.12169348538642756\n",
      "Feature is \" contest \" with frequency 0.11663069565042644\n",
      "Feature is \" identifi \" with frequency 0.1160936491162426\n",
      "Feature is \" hunt \" with frequency 0.10429496303801761\n",
      "Feature is \" engin \" with frequency 0.10000562720819192\n",
      "Feature is \" global \" with frequency 0.0744509309042262\n",
      "Feature is \" interview \" with frequency 0.0744509309042262\n",
      "Feature is \" data engin \" with frequency 0.0\n",
      "Feature is \" dear hacker \" with frequency 0.0\n",
      "Feature is \" end \" with frequency 0.0\n",
      "Feature is \" februari \" with frequency 0.0\n",
      "Feature is \" hacker \" with frequency 0.0\n",
      "Feature is \" januari \" with frequency 0.0\n",
      "Shape : (26, 163)\n"
     ]
    },
    {
     "data": {
      "image/png": "[encoded data removed]",
      "text/plain": [
       "<matplotlib.figure.Figure at 0x1f5b5217ef0>"
      ]
     },
     "metadata": {},
     "output_type": "display_data"
    }
   ],
   "source": [
    "otr_features, ote_features, o_vect_one = feature_generate(cd,max_features=200,max_df=0.4,min_df=0.1,col_name='subject')\n",
    "num_feat_sub = otr_features.shape[1]"
   ]
  },
  {
   "cell_type": "code",
   "execution_count": 37,
   "metadata": {},
   "outputs": [
    {
     "name": "stdout",
     "output_type": "stream",
     "text": [
      "Shape : (26, 318)\n",
      "(26, 318)\n",
      "['across', 'addit', 'advanc', 'ai', 'aim', 'algorithm', 'also', 'analysi', 'analyt onlin', 'analyt vidhya', 'announc', 'announc new', 'appli', 'applic', 'articl', 'artifici', 'artifici intellig', 'attend', 'august', 'avbyt', 'avian announc', 'avian eager', 'away', 'awesom', 'back', 'bangalor', 'befor', 'bengaluru', 'best', 'best data', 'better', 'big', 'bird', 'book', 'born', 'build', 'busi', 'busi problem', 'case', 'case studi', 'cash', 'cash prize', 'center', 'center bengaluru', 'challeng', 'challeng meetup', 'chanc', 'chang', 'check', 'click', 'click predict', 'code', 'come part', 'commun', 'compani', 'competit', 'competit come', 'comput', 'conduct', 'confer', 'connect', 'contest', 'convent', 'convent center', 'craft', 'creat', 'custom', 'data engin', 'data scientist', 'datahack', 'datahack summit', 'date', 'day', 'dear hacker', 'deep', 'deep learn', 'deliv', 'detail', 'develop', 'dr.', 'dr. kirk', 'dream', 'eager', 'eager know', 'earli', 'earli bird', 'ecosystem', 'end', 'end date', 'engin', 'enthusiast', 'evangelist', 'event', 'event competit', 'excel', 'excit', 'excit event', 'experi', 'expert', 'februari', 'feel', 'find', 'first', 'futur', 'get readi', 'global', 'go', 'great', 'ha', 'hack', 'hack session', 'hackathon particip', 'hacker', 'hands-on', 'happen', 'help', 'hi', 'hire', 'hire best', 'hire hackathon', 'hour', 'hr', 'hr ist', 'huge', 'hunt', 'identifi', 'iit', 'impact', 'includ', 'india', 'india largest', 'industri', 'inform', 'inr', 'intellig', 'intellig machin', 'interact', 'interest', 'interview', 'interview opportun', 'introduct', 'invit', 'ipad', 'ist', 'jain', 'januari', 'job', 'join', 'keep', 'keep learn', 'keynot', 'kirk', 'kirk born', 'know', 'know excit', 'know upcom', 'knowledg', 'kunal', 'kunal jain', 'languag', 'languag process', 'largest', 'last', 'latest', 'lead', 'leader', 'learn data', 'learn deep', 'learn hackathon', 'learn machin', 'learn upcom', 'let', 'like', 'live', 'look', 'make', 'make sure', 'manag', 'mani', 'march', 'mckinsey', 'mckinsey analyt', 'meet', 'meetup', 'meetup thi', 'miss', 'mlr', 'mlr convent', 'model', 'month', \"n't\", 'natur', 'natur languag', 'need', 'network', 'new', 'newslett', 'newslett dear', 'next', 'nlp', 'offer', 'one', 'onlin', 'onlin hackathon', 'opportun', 'organ', 'part', 'part thi', 'particip', 'pass', 'peopl', 'perform', 'plan', 'pm', 'pm prize', 'practic', 'practition', 'predict', 'prepar', 'present', 'price', 'prize', 'prize ultim', 'prize worth', 'problem', 'process', 'profession', 'program', 'publish', 'read', 'read know', 'readi', 'readi cash', 'recommend', 'recruit', 'regard', 'regard kunal', 'regist', 'right', 'roi', 'scienc ecosystem', 'scienc hackathon', 'scienc practition', 'scienc profession', 'scienc team', 'scienc world', 'scientist', 'scientist data', 'see', 'session', 'share', 'skill', 'solut', 'solv', 'speaker', 'stand', 'start', 'start date', 'step', 'strategi', 'student', 'studi', 'summit', 'sure', 'take', 'talent', 'talent hunt', 'talk', 'team', 'tech', 'techniqu', 'thi competit', 'thi hackathon', 'thi week', 'thing', 'thought', 'thought leader', 'ticket', 'till', 'time', 'today', 'togeth', 'tool', 'top', 'topic', 'trip', 'ultim', 'ultim learn', 'understand', 'uniqu', 'upcom', 'upcom challeng', 'upcom event', 'updat', 'upto', 'us', 'use', 'variou', 'venu', 'veri', 'vidhya', 'vision', 'visual', 'wait', 'wait regist', 'want', 'way', 'week', 'win', 'winner', 'work', 'workshop', 'world', 'worth', 'would', 'year', '\\x96', '\\x97']\n",
      "Most Frequent\n",
      "Feature is \" summit \" with frequency 2.428440693897375\n",
      "Feature is \" event \" with frequency 2.304894977521874\n",
      "Feature is \" confer \" with frequency 2.2367823682464514\n",
      "Feature is \" session \" with frequency 2.112652751427368\n",
      "Feature is \" datahack summit \" with frequency 2.0188877072524405\n",
      "Feature is \" datahack \" with frequency 1.9677707679397118\n",
      "Feature is \" inr \" with frequency 1.3182712815647222\n",
      "Feature is \" announc \" with frequency 1.2612177002153275\n",
      "Feature is \" know \" with frequency 1.2347728737762775\n",
      "Feature is \" workshop \" with frequency 1.2263860879565243\n",
      "Feature is \" big \" with frequency 1.2167739368959043\n",
      "Feature is \" upcom \" with frequency 1.2092610698115214\n",
      "Feature is \" excit \" with frequency 1.179651632267408\n",
      "Feature is \" day \" with frequency 1.1778040114527513\n",
      "Feature is \" ticket \" with frequency 1.1731559092034638\n",
      "Feature is \" predict \" with frequency 1.1318714299680133\n",
      "Feature is \" new \" with frequency 1.1246088336832556\n",
      "Feature is \" click \" with frequency 1.0598144173906943\n",
      "Feature is \" practition \" with frequency 0.9845436958377939\n",
      "Feature is \" see \" with frequency 0.9782180265513705\n",
      "Least Frequent\n",
      "Feature is \" avbyt \" with frequency 0.0\n",
      "Feature is \" better \" with frequency 0.0\n",
      "Feature is \" data engin \" with frequency 0.0\n",
      "Feature is \" dear hacker \" with frequency 0.0\n",
      "Feature is \" develop \" with frequency 0.0\n",
      "Feature is \" end \" with frequency 0.0\n",
      "Feature is \" end date \" with frequency 0.0\n",
      "Feature is \" februari \" with frequency 0.0\n",
      "Feature is \" hacker \" with frequency 0.0\n",
      "Feature is \" interview opportun \" with frequency 0.0\n",
      "Feature is \" ipad \" with frequency 0.0\n",
      "Feature is \" januari \" with frequency 0.0\n",
      "Feature is \" learn hackathon \" with frequency 0.0\n",
      "Feature is \" march \" with frequency 0.0\n",
      "Feature is \" pm prize \" with frequency 0.0\n",
      "Feature is \" roi \" with frequency 0.0\n",
      "Feature is \" start date \" with frequency 0.0\n",
      "Feature is \" talent hunt \" with frequency 0.0\n",
      "Feature is \" thi hackathon \" with frequency 0.0\n",
      "Feature is \" vision \" with frequency 0.0\n",
      "Shape : (26, 318)\n"
     ]
    },
    {
     "data": {
      "image/png": "[encoded data removed]",
      "text/plain": [
       "<matplotlib.figure.Figure at 0x1f5b52b4860>"
      ]
     },
     "metadata": {},
     "output_type": "display_data"
    }
   ],
   "source": [
    "ctr_features, cte_features, c_vect_one = feature_generate(cd,max_features=None,max_df=0.4,min_df=4,col_name='email_body')\n",
    "num_feat_body= ctr_features.shape[1]"
   ]
  },
  {
   "cell_type": "code",
   "execution_count": 38,
   "metadata": {},
   "outputs": [
    {
     "name": "stdout",
     "output_type": "stream",
     "text": [
      "0\n",
      "0\n"
     ]
    }
   ],
   "source": [
    "temX = merge_campaign(tem,ote_features)\n",
    "trmX = merge_campaign(trm,otr_features)\n",
    "print(trmX.isnull().any().sum())\n",
    "print(temX.isnull().any().sum())"
   ]
  },
  {
   "cell_type": "code",
   "execution_count": 39,
   "metadata": {},
   "outputs": [
    {
     "name": "stdout",
     "output_type": "stream",
     "text": [
      "0\n",
      "0\n"
     ]
    },
    {
     "data": {
      "image/png": "[encoded data removed]",
      "text/plain": [
       "<matplotlib.figure.Figure at 0x1f5b5301668>"
      ]
     },
     "metadata": {},
     "output_type": "display_data"
    }
   ],
   "source": [
    "temXb = merge_campaign(tem,cte_features)\n",
    "trmXb = merge_campaign(trm,ctr_features)\n",
    "print(trmXb.isnull().any().sum())\n",
    "print(temXb.isnull().any().sum())\n",
    "trmXb['click_rate'] = trmXb.user_id.map(trmX.groupby('user_id')['is_click'].mean())\n",
    "trmXb['open_rate'] = trmXb.user_id.map(trmX.groupby('user_id')['is_open'].mean())\n",
    "#trmXb['click_rate_by_type'] = trmXb['click_rate'] * trmXb.communication_type.map(trmX.groupby('communication_type')['is_click'].mean())\n",
    "#trmXb['open_rate_by_type'] = trmXb['open_rate']* trmXb.communication_type.map(trmX.groupby('communication_type')['is_open'].mean())\n",
    "similar = pd.DataFrame(np.dot(ctr_features,cte_features.T))\n",
    "_ = plt.figure(figsize=(12,8))\n",
    "_ = sns.heatmap(similar,cmap='bwr')\n",
    "_ = plt.title('Similarity between campaign bodies in train and test set')"
   ]
  },
  {
   "cell_type": "code",
   "execution_count": 40,
   "metadata": {},
   "outputs": [
    {
     "name": "stdout",
     "output_type": "stream",
     "text": [
      "0\n"
     ]
    }
   ],
   "source": [
    "temXb['open_rate'] = temXb.user_id.map(trmX.groupby('user_id')['is_open'].mean())\n",
    "temXb['click_rate'] = temXb.user_id.map(trmX.groupby('user_id')['is_click'].mean())\n",
    "#temXb['click_rate_by_type'] = temXb['click_rate'] * temXb.communication_type.map(trmX.groupby('communication_type')['is_click'].mean())\n",
    "#temXb['open_rate_by_type'] = temXb['open_rate']  * temXb.communication_type.map(trmX.groupby('communication_type')['is_open'].mean())\n",
    "print(temXb.isnull().any().sum())\n",
    "temXb.fillna(0,inplace=True)"
   ]
  },
  {
   "cell_type": "code",
   "execution_count": 41,
   "metadata": {},
   "outputs": [],
   "source": [
    "# Time Stamp related Features\n",
    "# Define a function to do feature engineering\n",
    "def feature_eng(df) :\n",
    "    df = df.assign(wk_day = df.index.weekday)   \n",
    "    df = df.assign(time_elapsed = df.index - datetime(2017,6,30))\n",
    "    df = df.assign(lag = df.groupby('user_id')['time_elapsed'].shift(1))\n",
    "    df.lag = df.lag.fillna(0)\n",
    "    df = df.assign(interval = df.time_elapsed-df.lag)\n",
    "    df['interval'] = df.interval.apply(lambda x : np.log(np.round(x.days+x.seconds/3600/24,2)))\n",
    "    cat_list = pd.get_dummies(df['wk_day'],prefix='wk_day', drop_first=True) \n",
    "    df.drop(['time_elapsed','lag','wk_day'],axis=1,inplace=True)\n",
    "    df = pd.concat([df,cat_list],axis=1)\n",
    "    return df\n"
   ]
  },
  {
   "cell_type": "code",
   "execution_count": 42,
   "metadata": {},
   "outputs": [
    {
     "data": {
      "text/html": [
       "<div>\n",
       "<style scoped>\n",
       "    .dataframe tbody tr th:only-of-type {\n",
       "        vertical-align: middle;\n",
       "    }\n",
       "\n",
       "    .dataframe tbody tr th {\n",
       "        vertical-align: top;\n",
       "    }\n",
       "\n",
       "    .dataframe thead th {\n",
       "        text-align: right;\n",
       "    }\n",
       "</style>\n",
       "<table border=\"1\" class=\"dataframe\">\n",
       "  <thead>\n",
       "    <tr style=\"text-align: right;\">\n",
       "      <th></th>\n",
       "      <th>id</th>\n",
       "      <th>campaign_id</th>\n",
       "      <th>user_id</th>\n",
       "      <th>communication_type</th>\n",
       "      <th>total_links</th>\n",
       "      <th>no_of_internal_links</th>\n",
       "      <th>no_of_images</th>\n",
       "      <th>no_of_sections</th>\n",
       "      <th>email_body</th>\n",
       "      <th>subject</th>\n",
       "      <th>...</th>\n",
       "      <th>310</th>\n",
       "      <th>311</th>\n",
       "      <th>312</th>\n",
       "      <th>313</th>\n",
       "      <th>314</th>\n",
       "      <th>315</th>\n",
       "      <th>316</th>\n",
       "      <th>317</th>\n",
       "      <th>open_rate</th>\n",
       "      <th>click_rate</th>\n",
       "    </tr>\n",
       "    <tr>\n",
       "      <th>send_date</th>\n",
       "      <th></th>\n",
       "      <th></th>\n",
       "      <th></th>\n",
       "      <th></th>\n",
       "      <th></th>\n",
       "      <th></th>\n",
       "      <th></th>\n",
       "      <th></th>\n",
       "      <th></th>\n",
       "      <th></th>\n",
       "      <th></th>\n",
       "      <th></th>\n",
       "      <th></th>\n",
       "      <th></th>\n",
       "      <th></th>\n",
       "      <th></th>\n",
       "      <th></th>\n",
       "      <th></th>\n",
       "      <th></th>\n",
       "      <th></th>\n",
       "      <th></th>\n",
       "    </tr>\n",
       "  </thead>\n",
       "  <tbody>\n",
       "    <tr>\n",
       "      <th>2018-01-02 08:00:00</th>\n",
       "      <td>56_38619</td>\n",
       "      <td>56</td>\n",
       "      <td>38619</td>\n",
       "      <td>Newsletter</td>\n",
       "      <td>42</td>\n",
       "      <td>38</td>\n",
       "      <td>10</td>\n",
       "      <td>4</td>\n",
       "      <td>\\r\\nJanuary 2018 Newsletter\\r\\n \\r\\nDear AVian...</td>\n",
       "      <td>[January] Year 2018 - Bigger &amp; Exciting challe...</td>\n",
       "      <td>...</td>\n",
       "      <td>0.0</td>\n",
       "      <td>0.0</td>\n",
       "      <td>0.0</td>\n",
       "      <td>0.0</td>\n",
       "      <td>0.088477</td>\n",
       "      <td>0.287634</td>\n",
       "      <td>0.0</td>\n",
       "      <td>0.0</td>\n",
       "      <td>0.250000</td>\n",
       "      <td>0.125000</td>\n",
       "    </tr>\n",
       "    <tr>\n",
       "      <th>2018-01-02 08:00:00</th>\n",
       "      <td>56_29713</td>\n",
       "      <td>56</td>\n",
       "      <td>29713</td>\n",
       "      <td>Newsletter</td>\n",
       "      <td>42</td>\n",
       "      <td>38</td>\n",
       "      <td>10</td>\n",
       "      <td>4</td>\n",
       "      <td>\\r\\nJanuary 2018 Newsletter\\r\\n \\r\\nDear AVian...</td>\n",
       "      <td>[January] Year 2018 - Bigger &amp; Exciting challe...</td>\n",
       "      <td>...</td>\n",
       "      <td>0.0</td>\n",
       "      <td>0.0</td>\n",
       "      <td>0.0</td>\n",
       "      <td>0.0</td>\n",
       "      <td>0.088477</td>\n",
       "      <td>0.287634</td>\n",
       "      <td>0.0</td>\n",
       "      <td>0.0</td>\n",
       "      <td>0.230769</td>\n",
       "      <td>0.076923</td>\n",
       "    </tr>\n",
       "    <tr>\n",
       "      <th>2018-01-02 08:00:00</th>\n",
       "      <td>56_41058</td>\n",
       "      <td>56</td>\n",
       "      <td>41058</td>\n",
       "      <td>Newsletter</td>\n",
       "      <td>42</td>\n",
       "      <td>38</td>\n",
       "      <td>10</td>\n",
       "      <td>4</td>\n",
       "      <td>\\r\\nJanuary 2018 Newsletter\\r\\n \\r\\nDear AVian...</td>\n",
       "      <td>[January] Year 2018 - Bigger &amp; Exciting challe...</td>\n",
       "      <td>...</td>\n",
       "      <td>0.0</td>\n",
       "      <td>0.0</td>\n",
       "      <td>0.0</td>\n",
       "      <td>0.0</td>\n",
       "      <td>0.088477</td>\n",
       "      <td>0.287634</td>\n",
       "      <td>0.0</td>\n",
       "      <td>0.0</td>\n",
       "      <td>0.166667</td>\n",
       "      <td>0.166667</td>\n",
       "    </tr>\n",
       "    <tr>\n",
       "      <th>2018-01-02 08:00:00</th>\n",
       "      <td>56_10622</td>\n",
       "      <td>56</td>\n",
       "      <td>10622</td>\n",
       "      <td>Newsletter</td>\n",
       "      <td>42</td>\n",
       "      <td>38</td>\n",
       "      <td>10</td>\n",
       "      <td>4</td>\n",
       "      <td>\\r\\nJanuary 2018 Newsletter\\r\\n \\r\\nDear AVian...</td>\n",
       "      <td>[January] Year 2018 - Bigger &amp; Exciting challe...</td>\n",
       "      <td>...</td>\n",
       "      <td>0.0</td>\n",
       "      <td>0.0</td>\n",
       "      <td>0.0</td>\n",
       "      <td>0.0</td>\n",
       "      <td>0.088477</td>\n",
       "      <td>0.287634</td>\n",
       "      <td>0.0</td>\n",
       "      <td>0.0</td>\n",
       "      <td>0.300000</td>\n",
       "      <td>0.100000</td>\n",
       "    </tr>\n",
       "    <tr>\n",
       "      <th>2018-01-02 08:00:00</th>\n",
       "      <td>56_39758</td>\n",
       "      <td>56</td>\n",
       "      <td>39758</td>\n",
       "      <td>Newsletter</td>\n",
       "      <td>42</td>\n",
       "      <td>38</td>\n",
       "      <td>10</td>\n",
       "      <td>4</td>\n",
       "      <td>\\r\\nJanuary 2018 Newsletter\\r\\n \\r\\nDear AVian...</td>\n",
       "      <td>[January] Year 2018 - Bigger &amp; Exciting challe...</td>\n",
       "      <td>...</td>\n",
       "      <td>0.0</td>\n",
       "      <td>0.0</td>\n",
       "      <td>0.0</td>\n",
       "      <td>0.0</td>\n",
       "      <td>0.088477</td>\n",
       "      <td>0.287634</td>\n",
       "      <td>0.0</td>\n",
       "      <td>0.0</td>\n",
       "      <td>0.500000</td>\n",
       "      <td>0.166667</td>\n",
       "    </tr>\n",
       "  </tbody>\n",
       "</table>\n",
       "<p>5 rows × 331 columns</p>\n",
       "</div>"
      ],
      "text/plain": [
       "                           id  campaign_id  user_id communication_type  \\\n",
       "send_date                                                                \n",
       "2018-01-02 08:00:00  56_38619           56    38619         Newsletter   \n",
       "2018-01-02 08:00:00  56_29713           56    29713         Newsletter   \n",
       "2018-01-02 08:00:00  56_41058           56    41058         Newsletter   \n",
       "2018-01-02 08:00:00  56_10622           56    10622         Newsletter   \n",
       "2018-01-02 08:00:00  56_39758           56    39758         Newsletter   \n",
       "\n",
       "                     total_links  no_of_internal_links  no_of_images  \\\n",
       "send_date                                                              \n",
       "2018-01-02 08:00:00           42                    38            10   \n",
       "2018-01-02 08:00:00           42                    38            10   \n",
       "2018-01-02 08:00:00           42                    38            10   \n",
       "2018-01-02 08:00:00           42                    38            10   \n",
       "2018-01-02 08:00:00           42                    38            10   \n",
       "\n",
       "                     no_of_sections  \\\n",
       "send_date                             \n",
       "2018-01-02 08:00:00               4   \n",
       "2018-01-02 08:00:00               4   \n",
       "2018-01-02 08:00:00               4   \n",
       "2018-01-02 08:00:00               4   \n",
       "2018-01-02 08:00:00               4   \n",
       "\n",
       "                                                            email_body  \\\n",
       "send_date                                                                \n",
       "2018-01-02 08:00:00  \\r\\nJanuary 2018 Newsletter\\r\\n \\r\\nDear AVian...   \n",
       "2018-01-02 08:00:00  \\r\\nJanuary 2018 Newsletter\\r\\n \\r\\nDear AVian...   \n",
       "2018-01-02 08:00:00  \\r\\nJanuary 2018 Newsletter\\r\\n \\r\\nDear AVian...   \n",
       "2018-01-02 08:00:00  \\r\\nJanuary 2018 Newsletter\\r\\n \\r\\nDear AVian...   \n",
       "2018-01-02 08:00:00  \\r\\nJanuary 2018 Newsletter\\r\\n \\r\\nDear AVian...   \n",
       "\n",
       "                                                               subject  \\\n",
       "send_date                                                                \n",
       "2018-01-02 08:00:00  [January] Year 2018 - Bigger & Exciting challe...   \n",
       "2018-01-02 08:00:00  [January] Year 2018 - Bigger & Exciting challe...   \n",
       "2018-01-02 08:00:00  [January] Year 2018 - Bigger & Exciting challe...   \n",
       "2018-01-02 08:00:00  [January] Year 2018 - Bigger & Exciting challe...   \n",
       "2018-01-02 08:00:00  [January] Year 2018 - Bigger & Exciting challe...   \n",
       "\n",
       "                        ...      310  311  312  313       314       315  316  \\\n",
       "send_date               ...                                                    \n",
       "2018-01-02 08:00:00     ...      0.0  0.0  0.0  0.0  0.088477  0.287634  0.0   \n",
       "2018-01-02 08:00:00     ...      0.0  0.0  0.0  0.0  0.088477  0.287634  0.0   \n",
       "2018-01-02 08:00:00     ...      0.0  0.0  0.0  0.0  0.088477  0.287634  0.0   \n",
       "2018-01-02 08:00:00     ...      0.0  0.0  0.0  0.0  0.088477  0.287634  0.0   \n",
       "2018-01-02 08:00:00     ...      0.0  0.0  0.0  0.0  0.088477  0.287634  0.0   \n",
       "\n",
       "                     317  open_rate  click_rate  \n",
       "send_date                                        \n",
       "2018-01-02 08:00:00  0.0   0.250000    0.125000  \n",
       "2018-01-02 08:00:00  0.0   0.230769    0.076923  \n",
       "2018-01-02 08:00:00  0.0   0.166667    0.166667  \n",
       "2018-01-02 08:00:00  0.0   0.300000    0.100000  \n",
       "2018-01-02 08:00:00  0.0   0.500000    0.166667  \n",
       "\n",
       "[5 rows x 331 columns]"
      ]
     },
     "execution_count": 42,
     "metadata": {},
     "output_type": "execute_result"
    }
   ],
   "source": [
    "temXb.head()"
   ]
  },
  {
   "cell_type": "code",
   "execution_count": 43,
   "metadata": {},
   "outputs": [],
   "source": [
    "trmXb = feature_eng(trmXb)\n",
    "temXb = feature_eng(temXb)\n",
    "temXb = temXb.assign(wk_day_5 = 0)\n",
    "temXb = temXb.assign(wk_day_6 = 0)"
   ]
  },
  {
   "cell_type": "code",
   "execution_count": 44,
   "metadata": {},
   "outputs": [],
   "source": [
    "from sklearn.naive_bayes import MultinomialNB\n",
    "from sklearn.linear_model import LogisticRegression\n",
    "from sklearn.ensemble import RandomForestClassifier\n",
    "from sklearn.tree import DecisionTreeClassifier\n",
    "from sklearn.model_selection import train_test_split\n",
    "from sklearn.metrics import confusion_matrix, classification_report\n",
    "from sklearn.metrics import average_precision_score,f1_score,roc_curve,auc\n",
    "\n",
    "def find_auc_score(clf,Xin,yin,color='b',name='My Classifier',label=1,prob=1) :\n",
    "    '''Function to plot Receiver characteristics and find AUC'''\n",
    "    if prob == 1:\n",
    "        yscore = clf.predict_proba(Xin)\n",
    "    else :\n",
    "        yscore = clf.decision_function(Xin)\n",
    "    false_positive_rate, true_positive_rate, thresholds = roc_curve(yin, yscore[:,label],pos_label=label)\n",
    "    fpr = (false_positive_rate > 0.4).argmin()\n",
    "    roc_auc = auc(false_positive_rate, true_positive_rate)\n",
    "    plt.title('Receiver Operating Characteristic')\n",
    "    plt.plot(false_positive_rate, true_positive_rate,color ,label='AUC '+name+' = %0.4f'% roc_auc)\n",
    "    plt.legend(loc='lower right')\n",
    "    plt.plot([0,1],[0,1],'r--')\n",
    "    plt.xlim([-0.01,1.01])\n",
    "    plt.ylim([-0.01,1.01])\n",
    "    plt.ylabel('True Positive Rate')\n",
    "    plt.xlabel('False Positive Rate')\n",
    "    return roc_auc"
   ]
  },
  {
   "cell_type": "code",
   "execution_count": 45,
   "metadata": {},
   "outputs": [],
   "source": [
    "import time\n",
    "def build_rf_model(n_estimators=50,max_features=25,min_samples_leaf=4,max_depth=6):\n",
    "    rf = RandomForestClassifier(n_estimators=n_estimators,max_features=max_features,min_samples_leaf=min_samples_leaf,max_depth=max_depth)\n",
    "    rf.fit(X_train,y_train)\n",
    "    y_pred = rf.predict_proba(X_test)\n",
    "    rf_test = rf.score(X_test,y_test)\n",
    "    auc_metric = np.round(find_auc_score(rf,X_test,y_test,color='b',name='My Classifier',label=1,prob=1),4)\n",
    "    return rf\n",
    "def build_nb_model():\n",
    "    nb = MultinomialNB()\n",
    "    nb.fit(X_train,y_train)\n",
    "    y_pred = nb.predict_proba(X_test)\n",
    "    nb_test = nb.score(X_test,y_test)\n",
    "    auc_metric = np.round(find_auc_score(nb,X_test,y_test,color='b',name='My Classifier',label=1,prob=1),4)\n",
    "    return nb\n",
    "\n",
    "def build_lr_model(C=100000):\n",
    "    lr = LogisticRegression(C=C)\n",
    "    lr.fit(X_train,y_train)\n",
    "    y_pred = lr.predict_proba(X_test)\n",
    "    lr_test = lr.score(X_test,y_test)\n",
    "    auc_metric = np.round(find_auc_score(lr,X_test,y_test,color='b',name='My Classifier',label=1,prob=1),4)\n",
    "    return lr"
   ]
  },
  {
   "cell_type": "code",
   "execution_count": 46,
   "metadata": {},
   "outputs": [
    {
     "name": "stdout",
     "output_type": "stream",
     "text": [
      "Wall time: 5.79 s\n"
     ]
    },
    {
     "data": {
      "image/png": "[encoded data removed]",
      "text/plain": [
       "<matplotlib.figure.Figure at 0x1f5b52fd780>"
      ]
     },
     "metadata": {},
     "output_type": "display_data"
    },
    {
     "data": {
      "image/png": "[encoded data removed]",
      "text/plain": [
       "<matplotlib.figure.Figure at 0x1f5b52ff4e0>"
      ]
     },
     "metadata": {},
     "output_type": "display_data"
    }
   ],
   "source": [
    "%%time\n",
    "X_train,X_test,y_train,y_test = train_test_split(pd.concat([trmX.iloc[:,-num_feat_sub:],trmXb.iloc[:,-num_feat_body-9:]],axis=1),trmX.is_click,test_size=0.3,random_state=42,stratify=trmX.is_click)\n",
    "do_rf1 = 0\n",
    "if (do_rf1 == 0) :\n",
    "    clfb =  build_lr_model()\n",
    "    ypredb = clfb.predict_proba(X_test)\n",
    "    test_pred = clfb.predict_proba(pd.concat([temX.iloc[:,-num_feat_sub:],temXb.iloc[:,-num_feat_body-9:]],axis=1))\n",
    "    plt.figure()\n",
    "    find_auc_score(clfb,X_train,y_train,color='g')\n",
    "else :\n",
    "    rf1 =  build_rf_model(n_estimators=100,max_features=100)#,min_samples_leaf=6,max_depth=12)\n",
    "    ypredb = rf1.predict_proba(X_test)\n",
    "    test_pred = rf1.predict_proba(pd.concat([temX.iloc[:,-num_feat_sub:],temXb.iloc[:,-num_feat_body-9:]],axis=1))\n",
    "    plt.figure()\n",
    "    find_auc_score(rf1,X_train,y_train,color='g')"
   ]
  },
  {
   "cell_type": "code",
   "execution_count": 47,
   "metadata": {},
   "outputs": [
    {
     "data": {
      "text/plain": [
       "<matplotlib.axes._subplots.AxesSubplot at 0x1f5b6c87128>"
      ]
     },
     "execution_count": 47,
     "metadata": {},
     "output_type": "execute_result"
    },
    {
     "data": {
      "image/png": "[encoded data removed]",
      "text/plain": [
       "<matplotlib.figure.Figure at 0x1f5b5251b70>"
      ]
     },
     "metadata": {},
     "output_type": "display_data"
    },
    {
     "data": {
      "image/png": "[encoded data removed]",
      "text/plain": [
       "<matplotlib.figure.Figure at 0x1f5b52516d8>"
      ]
     },
     "metadata": {},
     "output_type": "display_data"
    }
   ],
   "source": [
    "_ = pd.Series(test_pred[:,1]).hist(bins=25)\n",
    "_ = plt.title(\"Histogram of the probabilities on the test data from classifier 1 (Before scaling)\")\n",
    "_ = plt.figure()\n",
    "pd.Series(ypredb[:,1]).hist(bins=25)"
   ]
  },
  {
   "cell_type": "code",
   "execution_count": 48,
   "metadata": {},
   "outputs": [
    {
     "data": {
      "text/plain": [
       "<matplotlib.axes._subplots.AxesSubplot at 0x1f5b6c72dd8>"
      ]
     },
     "execution_count": 48,
     "metadata": {},
     "output_type": "execute_result"
    },
    {
     "data": {
      "image/png": "[encoded data removed]",
      "text/plain": [
       "<matplotlib.figure.Figure at 0x1f5b52ec940>"
      ]
     },
     "metadata": {},
     "output_type": "display_data"
    }
   ],
   "source": [
    "pd.Series(ypredb[:,1]).hist(bins=25)"
   ]
  },
  {
   "cell_type": "code",
   "execution_count": 49,
   "metadata": {},
   "outputs": [],
   "source": [
    "def prepare_my_submit(predicted1,predicted2) : \n",
    "    pp = te.copy()\n",
    "    pp = pp.assign(is_click = 0)\n",
    "    pp.loc[pp.user_id.isin(temX.user_id.unique()),'is_click'] = predicted1\n",
    "    pp.loc[pp.user_id.isin(g2.user_id.unique()),'is_click'] = predicted2\n",
    "    pp.loc[pp.user_id.isin(pure_click),'is_click'] = 1\n",
    "     # It is always a good practice to assign an infinitesimally small value to prevent underflow, incase log is taken\n",
    "    pp.loc[pp.user_id.isin(pure_no_click),'is_click'] = 0.000001   \n",
    "    sum_1 = pp.is_click.value_counts()*pp.is_click.value_counts().index\n",
    "    sub_df = pp[['id','is_click']]\n",
    "    sub_df.to_csv('aparna_final_submission_corrected.csv',index=False)\n",
    "    return sub_df"
   ]
  },
  {
   "cell_type": "markdown",
   "metadata": {},
   "source": [
    "### Classifier 2: For the new users in test set.    \n",
    "This is a bit tough to train as there is no previous mean open or click information. However, to mimic the scenario, a new bunch of users from start of a month are taken and their mean and distributions are similar to original distribution of the train set. These are 20% of the total set and hence did not give so much attention as given to the other one. The first one was more important. [Recall Pareto Principle](https://en.wikipedia.org/wiki/Pareto_principle)"
   ]
  },
  {
   "cell_type": "code",
   "execution_count": 50,
   "metadata": {},
   "outputs": [
    {
     "data": {
      "text/plain": [
       "id             54897\n",
       "user_id        10445\n",
       "campaign_id       20\n",
       "is_open            2\n",
       "is_click           2\n",
       "mean_click        24\n",
       "mean_open         40\n",
       "dtype: int64"
      ]
     },
     "execution_count": 50,
     "metadata": {},
     "output_type": "execute_result"
    }
   ],
   "source": [
    "new_users_oct = set(tr['2017-10-01':'2017-10-31'].user_id.unique()) - set(tr['2017-09-01':'2017-09-30'].user_id.unique())\n",
    "q2 = tr[tr.user_id.isin(new_users_oct)]\n",
    "q2.nunique()"
   ]
  },
  {
   "cell_type": "code",
   "execution_count": 51,
   "metadata": {},
   "outputs": [
    {
     "data": {
      "text/plain": [
       "id             294085\n",
       "user_id         59217\n",
       "campaign_id        23\n",
       "is_open             2\n",
       "is_click            2\n",
       "mean_click         40\n",
       "mean_open          61\n",
       "dtype: int64"
      ]
     },
     "execution_count": 51,
     "metadata": {},
     "output_type": "execute_result"
    }
   ],
   "source": [
    "new_users_nov = set(tr['2017-11-01':'2017-11-30'].user_id.unique()) - set(tr['2017-10-01':'2017-10-31'].user_id.unique())\n",
    "r2 = tr[tr.user_id.isin(new_users_nov)]\n",
    "r2.nunique()"
   ]
  },
  {
   "cell_type": "code",
   "execution_count": 52,
   "metadata": {},
   "outputs": [
    {
     "name": "stdout",
     "output_type": "stream",
     "text": [
      "Mean of the new users clicks oct 0.012277537934677668\n",
      "Mean of the new users clicks sep 0.01068398592243739\n"
     ]
    }
   ],
   "source": [
    "print(\"Mean of the new users clicks oct\",q2.is_click.mean())\n",
    "print(\"Mean of the new users clicks sep\",r2.is_click.mean())"
   ]
  },
  {
   "cell_type": "code",
   "execution_count": 53,
   "metadata": {},
   "outputs": [],
   "source": [
    "g2mX = merge_campaign(g2,ote_features)\n",
    "p2mX = merge_campaign(q2,otr_features)\n",
    "g2mXb = merge_campaign(g2,cte_features)\n",
    "p2mXb = merge_campaign(q2,ctr_features)\n",
    "\n",
    "r2mX = merge_campaign(r2,otr_features)\n",
    "r2mXb = merge_campaign(r2,ctr_features)\n"
   ]
  },
  {
   "cell_type": "code",
   "execution_count": 54,
   "metadata": {},
   "outputs": [
    {
     "name": "stdout",
     "output_type": "stream",
     "text": [
      "Wall time: 18.9 s\n"
     ]
    }
   ],
   "source": [
    "%%time\n",
    "p2mXb = feature_eng(p2mXb)\n",
    "g2mXb = feature_eng(g2mXb)\n",
    "r2mXb = feature_eng(r2mXb)\n",
    "\n",
    "g2mXb = g2mXb.assign(wk_day_5 = 0)\n",
    "g2mXb = g2mXb.assign(wk_day_6 = 0)\n"
   ]
  },
  {
   "cell_type": "code",
   "execution_count": 55,
   "metadata": {},
   "outputs": [
    {
     "name": "stdout",
     "output_type": "stream",
     "text": [
      "Wall time: 17.1 s\n"
     ]
    },
    {
     "data": {
      "image/png": "[encoded data removed]",
      "text/plain": [
       "<matplotlib.figure.Figure at 0x1f5baa09208>"
      ]
     },
     "metadata": {},
     "output_type": "display_data"
    },
    {
     "data": {
      "image/png": "[encoded data removed]",
      "text/plain": [
       "<matplotlib.figure.Figure at 0x1f5b52d99e8>"
      ]
     },
     "metadata": {},
     "output_type": "display_data"
    }
   ],
   "source": [
    "%%time\n",
    "X_train = pd.concat([p2mX.iloc[:,-num_feat_sub:],p2mXb.iloc[:,-num_feat_body-7:]],axis=1)\n",
    "X_test = pd.concat([r2mX.iloc[:,-num_feat_sub:],r2mXb.iloc[:,-num_feat_body-7:]],axis=1)\n",
    "y_train = p2mXb.is_click\n",
    "y_test = r2mXb.is_click \n",
    "do_rf2 = 0\n",
    "if (do_rf2 == 0) :\n",
    "    clfb2 =  build_lr_model(C=10000)\n",
    "    ypredb2 = clfb2.predict_proba(X_test)\n",
    "    test_pred2 = clfb2.predict_proba(pd.concat([g2mX.iloc[:,-num_feat_sub:],g2mXb.iloc[:,-num_feat_body-7:]],axis=1))\n",
    "    plt.figure()\n",
    "    find_auc_score(clfb2,X_train,y_train,color='g')\n",
    "else :\n",
    "    rf2 =  build_rf_model(n_estimators=100,max_features=100)#,min_samples_leaf=6,max_depth=6)\n",
    "    ypredb2 = rf2.predict_proba(X_test)\n",
    "    test_pred2 = rf2.predict_proba(pd.concat([g2mX.iloc[:,-num_feat_sub:],g2mXb.iloc[:,-num_feat_body-7:]],axis=1))\n",
    "    plt.figure()\n",
    "    find_auc_score(rf2,X_train,y_train,color='g')"
   ]
  },
  {
   "cell_type": "markdown",
   "metadata": {},
   "source": [
    "### V2 of notebook starts here: Some additional comments and possible corrections to code\n",
    "Even after contest was over, I could not rest, since something did not feel right. Hence I spent a day investigating what went wrong. I kept getting 0.644 kind of score, which is just a little above commonsense (by submitting mean click rate observed) despite training classifiers. Hence investigated reasons.\n",
    "\n",
    "A few cells are edited, new cells are added with comments."
   ]
  },
  {
   "cell_type": "code",
   "execution_count": 76,
   "metadata": {},
   "outputs": [
    {
     "name": "stdout",
     "output_type": "stream",
     "text": [
      "Total Number of clicks from common users and new users: 19653.0 and 3605.0 respectively\n",
      "The click rate from common users and new users respectively: 0.0316 and 0.0237 respectively\n",
      "Overall click Rate: 0.0301\n"
     ]
    }
   ],
   "source": [
    "## This cell was in V1, only first two lines\n",
    "n1,n2 = test_pred[:,1].sum(), test_pred2[:,1].sum()\n",
    "n1,n2\n",
    "## Added in V2\n",
    "print(\"Total Number of clicks from common users and new users:\",np.round(n1),\"and\",np.round(n2),\"respectively\")\n",
    "pAgivenA1 = n1/g1.shape[0]\n",
    "pAgivenA2 = n2/g2.shape[0]\n",
    "print(\"The click rate from common users and new users respectively:\",np.round(pAgivenA1pA1,4),\"and\",np.round(pAgivenA2pA2,4),\"respectively\")\n",
    "test_click_rate = (n1+n2)/te.shape[0]\n",
    "print(\"Overall click Rate:\",np.round(test_click_rate,4))"
   ]
  },
  {
   "cell_type": "markdown",
   "metadata": {},
   "source": [
    "**Note:**  This Markdown cell and two more cells below are also added in the V2.         \n",
    "In the submission version V1, I made a mistake of interpreting predictions as P(A|A1) and P(A|A2) respectively. \n",
    "In reality they are, P(A|A1)\\*P(A1) and P(A|A2)\\*P(A2) respectively.\n",
    "\n",
    "Cross check by applying the total probability formula. "
   ]
  },
  {
   "cell_type": "code",
   "execution_count": 77,
   "metadata": {},
   "outputs": [
    {
     "name": "stdout",
     "output_type": "stream",
     "text": [
      "Total -theoretical- click prob from two classifiers: 0.0301\n",
      "Difference observed 0.0\n"
     ]
    }
   ],
   "source": [
    "# Added in V2\n",
    "total_prob_from_2_classifiers = pAgivenA1 *  (g1.shape[0]/te.shape[0]) + pAgivenA2 * (g2.shape[0]/te.shape[0])\n",
    "print(\"Total -theoretical- click prob from two classifiers:\",np.round(total_prob_from_2_classifiers,4))\n",
    "print(\"Difference observed\",np.round(test_click_rate - total_prob_from_2_classifiers,4))"
   ]
  },
  {
   "cell_type": "code",
   "execution_count": 79,
   "metadata": {},
   "outputs": [
    {
     "data": {
      "image/png": "[encoded data removed]",
      "text/plain": [
       "<matplotlib.figure.Figure at 0x1f5c6d0d668>"
      ]
     },
     "metadata": {},
     "output_type": "display_data"
    }
   ],
   "source": [
    "# As in V1\n",
    "_ =  pd.Series(test_pred[:,1]*7752/n1).hist(bins=20)\n",
    "_ =  pd.Series(test_pred2[:,1]*1914/n2).hist(bins=20)\n",
    "_ = plt.title(\"Histogram of the probabilities on the test data from classifier 1 and 2\")"
   ]
  },
  {
   "cell_type": "markdown",
   "metadata": {},
   "source": [
    "The probabilities are just fine. When they are interleaved, I would expect good AUC.\n",
    "## Biggest Edit in V2: \n",
    "No. The probabilities are NOT just fine. The above cell had a bug. It is because of assumption on the click rate on the test data and concluding there should be 9667 overall clicks, 7752 should come from 1 set and 1914 should come from the other and if they didnt, scale it appropriately. What should've been done is, just leave them as they are. Added another cell below. In the output one can see that due to not scaling, the results from two classifiers interfere less than before. \n",
    "Here is a good resource on AUC [Quora answer on why AUC-ROC is insensitive to class imbalance](https://www.quora.com/Why-is-AUC-Area-under-ROC-insensitive-to-class-distribution-changes) If one scrolls below the technique I used is explained very well. The class prior probabilities do not come into the picture. Hence I should've submitted it just as it comes from the classifier. **I just used two different classifiers for two population groups, with two different mean click rates**"
   ]
  },
  {
   "cell_type": "code",
   "execution_count": 95,
   "metadata": {},
   "outputs": [
    {
     "name": "stdout",
     "output_type": "stream",
     "text": [
      "Probabilities of various populations are, 0.06487365899170132 0.19627502720137285 0.7388513138069258\n"
     ]
    },
    {
     "data": {
      "image/png": "[encoded data removed]",
      "text/plain": [
       "<matplotlib.figure.Figure at 0x1f5c5b33a20>"
      ]
     },
     "metadata": {},
     "output_type": "display_data"
    }
   ],
   "source": [
    "## This cell also added in V2\n",
    "PA1inTest = test_pred[:,1].shape[0]/te.shape[0]\n",
    "PA2inTest = test_pred2[:,1].shape[0]/te.shape[0]\n",
    "PA3inTest = (g1.shape[0] - test_pred[:,1].shape[0])/te.shape[0]\n",
    "\n",
    "print(\"Probabilities of various populations are,\",PA1inTest,PA2inTest,PA3inTest)\n",
    "\n",
    "_ = pd.Series(test_pred[:,1]).hist(bins=20)\n",
    "_ = pd.Series(test_pred2[:,1]).hist(bins=20)\n",
    "_ = plt.title(\"Histogram of the probabilities on the test data from classifier 1 and 2\")"
   ]
  },
  {
   "cell_type": "code",
   "execution_count": 94,
   "metadata": {},
   "outputs": [
    {
     "name": "stdout",
     "output_type": "stream",
     "text": [
      "Range of good thresholds:0.03019738 to 0.06081006\n",
      "Mean click rate 0.0128\n"
     ]
    },
    {
     "data": {
      "image/png": "[encoded data removed]",
      "text/plain": [
       "<matplotlib.figure.Figure at 0x1f5b6b1df60>"
      ]
     },
     "metadata": {},
     "output_type": "display_data"
    }
   ],
   "source": [
    "# Submission as in competition - V1 version\n",
    "sub_df = prepare_my_submit(test_pred[:,1]*7752/n1,test_pred2[:,1]*1914/n2)\n",
    "_ = np.log(sub_df.is_click).hist(bins=20)\n",
    "_ = plt.title('Logistic Probabilities')\n",
    "_ = plt.axvline(-3,color='m')\n",
    "print(\"Range of good thresholds:{:.8f} to {:.8f}\".format(np.exp(-3.5),np.exp(-2.8)))\n",
    "# Added in V2, in this cell itself.\n",
    "print(\"Mean click rate\",np.round(sub_df.is_click.mean(),4))"
   ]
  },
  {
   "cell_type": "markdown",
   "metadata": {},
   "source": [
    "### More Correct submission would have been this:\n",
    "\n",
    "Note the mean click rate coinciding with outputs in above cells"
   ]
  },
  {
   "cell_type": "code",
   "execution_count": 93,
   "metadata": {},
   "outputs": [
    {
     "name": "stdout",
     "output_type": "stream",
     "text": [
      "Mean click rate 0.0301\n"
     ]
    },
    {
     "data": {
      "image/png": "[encoded data removed]",
      "text/plain": [
       "<matplotlib.figure.Figure at 0x1f5b6cb7f60>"
      ]
     },
     "metadata": {},
     "output_type": "display_data"
    }
   ],
   "source": [
    "# V2: The more correct submission is this. I say more correct because the earlier one is not drastically wrong.\n",
    "sub_df = prepare_my_submit(test_pred[:,1],test_pred2[:,1])\n",
    "_ = np.log(sub_df.is_click).hist(bins=20)\n",
    "_ = plt.title('Logistic Probabilities')\n",
    "_ = plt.axvline(np.log(np.round(test_click_rate,4)),color='m')\n",
    "_ = plt.legend(['Mean click rate','Logistic Probabilities'],loc='best')\n",
    "print(\"Mean click rate\",np.round(sub_df.is_click.mean(),4))\n",
    "## Some concluding remarks added below"
   ]
  },
  {
   "cell_type": "markdown",
   "metadata": {},
   "source": [
    "### Concluding Remarks\n",
    "\n",
    "1. This was a good business problem to work on.\n",
    "2. It was challenging to do EDA and modeling in one week. \n",
    "3. I got good ranking for a first timer and may be a little better had I not done mistake. \n",
    "4. Had fun correcting the mistake after the contest got over.\n",
    "5. I am happy with the approach taken.\n",
    "6. Learnt by interacting with a lot of people on the slack channel. Got numerous approaches to this for learning from.\n",
    "\n",
    "##### Advantages of this 2 classifier approach over single classifier:\n",
    "\n",
    "+ Almost same performance with lower efforts\n",
    "+ Least amount of feature engineering.\n",
    "+ About 40 sec total run time on classifiers, compared to 45-60 mins run time for single.\n",
    "+ Logistic Regression models could do the job, because of class being more balanced on the first classifier at least.\n",
    "+ No hyperparameter tuning was required to achieve the same performance.\n",
    "+ Although due to mistake in the final submit, and not modeling no opener users' behaviors AUC in the competition might have been low, I am pretty sure that this model would do well in industry problems. Perhaps this is the standard technique, I feel like I learnt something new."
   ]
  },
  {
   "cell_type": "code",
   "execution_count": null,
   "metadata": {},
   "outputs": [],
   "source": []
  }
 ],
 "metadata": {
  "kernelspec": {
   "display_name": "Python 3",
   "language": "python",
   "name": "python3"
  },
  "language_info": {
   "codemirror_mode": {
    "name": "ipython",
    "version": 3
   },
   "file_extension": ".py",
   "mimetype": "text/x-python",
   "name": "python",
   "nbconvert_exporter": "python",
   "pygments_lexer": "ipython3",
   "version": "3.6.4"
  }
 },
 "nbformat": 4,
 "nbformat_minor": 2
}
