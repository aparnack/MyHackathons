{
 "cells": [
  {
   "cell_type": "markdown",
   "metadata": {},
   "source": [
    "## Objective\n",
    "\n",
    "+ To cover as much as possible thoroughly, making sure everyone here gets the idea.\n",
    "+ To make sure that everyone goes back thinking that Data and Predictive skills are easy to learn and master, if the correct process is followed.\n",
    "+ Demonstrate Data Science Process using an example hackathon problem.\n",
    "+ Attempted to make it intuitive and interpretable.\n",
    "+ Get feedback on my work from the ones who have already done this type of problems.\n",
    "+ Present a few machine learning techniques.\n",
    "+ Encourage audience to participate in hackathons.\n",
    "+ For me to get practice presenting my work.\n",
    "\n",
    "### How to make the best use of this presentation\n",
    "\n",
    "+ Look at pictures thoroughly, while actively listening.\n",
    "+ Do not bother about what is written, it is going to be shared.\n",
    "\n",
    "### McKinsey Hackathon on Stroke Probability Prediction\n",
    "\n",
    "***A Solution by Aparna C Shastry ***\n",
    "\n",
    "Dated April 14-15th GMT 00:00 (24 hr duration hackathon)\n",
    "\n",
    "[GitHub](https://github.com/aparnack/data_science)       \n",
    "[Twitter](https://twitter.com/aparsha2303)         \n",
    "[LinkedIn](https://www.linkedin.com/in/aparnacshastry/)        \n",
    "[Email](mailto:aparnashastrymls@gmail.com)        \n",
    "[Medium](https://medium.com/@aparnack)\n",
    "\n",
    "\n",
    "### Problem Statement\n",
    "Your Client, a chain of hospitals aiming to create the next generation of healthcare for its patients, has retained McKinsey to help achieve its vision. The company brings the best doctors and enables them to provide proactive health care for its patients. One such investment is a Center of Data Science Excellence.\n",
    "\n",
    " \n",
    "\n",
    "In this case, your client wants to have study around one of the critical disease \"Stroke\". Stroke is a disease that affects the arteries leading to and within the brain. A stroke occurs when a blood vessel that carries oxygen and nutrients to the brain is either blocked by a clot or bursts (or ruptures). When that happens, part of the brain cannot get the blood (and oxygen) it needs, so it and brain cells die.\n",
    "\n",
    " \n",
    "\n",
    "Over the last few years, the Client has captured several health, demographic and lifestyle details about its patients. This includes details such as age and gender, along with several health parameters (e.g. hypertension, body mass index) and lifestyle related variables (e.g. smoking status, occupation type).\n",
    "\n",
    " \n",
    "\n",
    "The Client wants you to predict the probability of stroke happening to their patients. This will help doctors take proactive health measures for these patients.\n",
    "\n",
    "#### Evaluation Metric\n",
    "\n",
    "It is AUC-ROC\n",
    "\n",
    "#### Public and Private Split\n",
    "Test data is further randomly divided into Public (30%) and Private (70%) data.\n",
    "\n",
    "+ Your initial responses will be checked and scored on the Public data.\n",
    "+ The final rankings would be based on your private score which will be published once the competition is over."
   ]
  },
  {
   "cell_type": "markdown",
   "metadata": {},
   "source": [
    "### My Solution\n",
    "\n",
    "Before doing any coding, let us note these \n",
    "#### Bias in the data:\n",
    "\n",
    "Our models and predictions are only as good as the data. Commonsense and Critical thinking are the keys to understand it thoroughly before doing modeling.\n",
    "**In this data I could think of mainly three types of biases:** The first two themselves are a little hard to distinguish in some cases. Selection Bias can occur due to surviving (but not vice versa)\n",
    "\n",
    "+ **Survivorship Bias**: Survivorship bias is a classic thinking fallacy where you learn lessons only from successful outcomes because the failures are often invisible. In this problem, people who are dead due to stroke or a combination of stroke and some other disease may not be in the dataset, no information is given.\n",
    "<img src=starbucks_arrest.jpg>     \n",
    "\n",
    "A more serious example is from [worldwar II aircraft study](http://clearthinking.co/survivorship-bias/) \n",
    "In this dataset, it is not clearly stated if the people are living or dead. From problem definition, it seems like it consists of people who are alive.\n",
    "\n",
    "+ **Selection Bias**: Selection bias is a distortion in a measure of association (such as a risk ratio) due to a sample selection that does not accurately reflect the target population. \n",
    "<img src=selection-bias_example.gif>     \n",
    "\n",
    "This bias is a part of almost any sampling, because aim of sampling itself is to study the unknowns. Hence how are we ever sure that we considered all random combinations of these unknowns? In this particular problem, survivorship bias has implied one kind of selection bias as well. Selection bias is also there because the hospital is visited more often by sick people, and the dataset is biased to represent sick people than healthy people. \n",
    "\n",
    "+ **Confounding Bias**: A situation in which the effect or association between an exposure and outcome is distorted by the presence of another variable.\n",
    "<img src=confounding_bias-example.jpg>    \n",
    "\n",
    "In this dataset, age is found to be the most determinant factor, after studying. Smoking is confounding factor, because it is also age dependent, and medicallly it improves chances of stroke. Now, there are a few ways to handle it. Some of them are beyond the scope of this presentation, as this is not so commonly heard term and hence some of us might have heard it the first time.\n",
    "\n",
    "### Studying the attributes:\n",
    "\n",
    "+ [This](https://www.mayoclinic.org/diseases-conditions/stroke/symptoms-causes/syc-20350113) article is from mayoclinic on stroke, risk factors, lifestyle factors affecting etc. It covers most features present in this dataset, such as age, gender, hypertension, heart disease, glucose level(article talks diabetes), bmi(article talks about overweight/obese) and smoking status. There is a possibility for feature engineering based on the domain knowledge derived through this.\n",
    "+ One should examine, ever_married, residence type, work type separately. Work type is partially addressed above because it says exercising reduces the risk of stroke. However, we do not have sufficient info in the work type to conclude whether work includes physical exercise or not.\n",
    "+ ever_married: Although not from reliable source, I found [this](https://www.today.com/health/odds-surviving-after-stroke-better-if-you-re-married-t106002) article on odds of survival after stroke if you are married. But commonsense says that being married might motivate one to keep a better lifestyle, yet this seems like a weak feature.\n",
    "+ Residence_type: There is no medical evidence on this. This may not have direct impact on stroke, but might help in imputation of missing values\n",
    "+ work_type: never worked might mean lack of exercise? Can not say. We need to see how it can be used later."
   ]
  },
  {
   "cell_type": "code",
   "execution_count": 1,
   "metadata": {},
   "outputs": [
    {
     "name": "stderr",
     "output_type": "stream",
     "text": [
      "C:\\Users\\Aparn\\Anaconda3\\lib\\site-packages\\statsmodels\\compat\\pandas.py:56: FutureWarning: The pandas.core.datetools module is deprecated and will be removed in a future version. Please use the pandas.tseries module instead.\n",
      "  from pandas.core import datetools\n"
     ]
    }
   ],
   "source": [
    "import pandas as pd\n",
    "import numpy as np\n",
    "import matplotlib.pyplot as plt\n",
    "%matplotlib inline\n",
    "import seaborn as sns\n",
    "from matplotlib.pylab import rcParams\n",
    "rcParams['figure.figsize'] = 15, 7\n",
    "import time\n",
    "import statsmodels.api as sm"
   ]
  },
  {
   "cell_type": "code",
   "execution_count": 2,
   "metadata": {},
   "outputs": [],
   "source": [
    "train = pd.read_csv('train_ajEneEa.csv')\n",
    "test = pd.read_csv('test_v2akXPA.csv')"
   ]
  },
  {
   "cell_type": "markdown",
   "metadata": {},
   "source": [
    "### Inspect the DataFrames"
   ]
  },
  {
   "cell_type": "code",
   "execution_count": 3,
   "metadata": {},
   "outputs": [
    {
     "data": {
      "text/html": [
       "<div>\n",
       "<style scoped>\n",
       "    .dataframe tbody tr th:only-of-type {\n",
       "        vertical-align: middle;\n",
       "    }\n",
       "\n",
       "    .dataframe tbody tr th {\n",
       "        vertical-align: top;\n",
       "    }\n",
       "\n",
       "    .dataframe thead th {\n",
       "        text-align: right;\n",
       "    }\n",
       "</style>\n",
       "<table border=\"1\" class=\"dataframe\">\n",
       "  <thead>\n",
       "    <tr style=\"text-align: right;\">\n",
       "      <th></th>\n",
       "      <th>id</th>\n",
       "      <th>gender</th>\n",
       "      <th>age</th>\n",
       "      <th>hypertension</th>\n",
       "      <th>heart_disease</th>\n",
       "      <th>ever_married</th>\n",
       "      <th>work_type</th>\n",
       "      <th>Residence_type</th>\n",
       "      <th>avg_glucose_level</th>\n",
       "      <th>bmi</th>\n",
       "      <th>smoking_status</th>\n",
       "      <th>stroke</th>\n",
       "    </tr>\n",
       "  </thead>\n",
       "  <tbody>\n",
       "    <tr>\n",
       "      <th>0</th>\n",
       "      <td>30669</td>\n",
       "      <td>Male</td>\n",
       "      <td>3.0</td>\n",
       "      <td>0</td>\n",
       "      <td>0</td>\n",
       "      <td>No</td>\n",
       "      <td>children</td>\n",
       "      <td>Rural</td>\n",
       "      <td>95.12</td>\n",
       "      <td>18.0</td>\n",
       "      <td>NaN</td>\n",
       "      <td>0</td>\n",
       "    </tr>\n",
       "    <tr>\n",
       "      <th>1</th>\n",
       "      <td>30468</td>\n",
       "      <td>Male</td>\n",
       "      <td>58.0</td>\n",
       "      <td>1</td>\n",
       "      <td>0</td>\n",
       "      <td>Yes</td>\n",
       "      <td>Private</td>\n",
       "      <td>Urban</td>\n",
       "      <td>87.96</td>\n",
       "      <td>39.2</td>\n",
       "      <td>never smoked</td>\n",
       "      <td>0</td>\n",
       "    </tr>\n",
       "    <tr>\n",
       "      <th>2</th>\n",
       "      <td>16523</td>\n",
       "      <td>Female</td>\n",
       "      <td>8.0</td>\n",
       "      <td>0</td>\n",
       "      <td>0</td>\n",
       "      <td>No</td>\n",
       "      <td>Private</td>\n",
       "      <td>Urban</td>\n",
       "      <td>110.89</td>\n",
       "      <td>17.6</td>\n",
       "      <td>NaN</td>\n",
       "      <td>0</td>\n",
       "    </tr>\n",
       "    <tr>\n",
       "      <th>3</th>\n",
       "      <td>56543</td>\n",
       "      <td>Female</td>\n",
       "      <td>70.0</td>\n",
       "      <td>0</td>\n",
       "      <td>0</td>\n",
       "      <td>Yes</td>\n",
       "      <td>Private</td>\n",
       "      <td>Rural</td>\n",
       "      <td>69.04</td>\n",
       "      <td>35.9</td>\n",
       "      <td>formerly smoked</td>\n",
       "      <td>0</td>\n",
       "    </tr>\n",
       "    <tr>\n",
       "      <th>4</th>\n",
       "      <td>46136</td>\n",
       "      <td>Male</td>\n",
       "      <td>14.0</td>\n",
       "      <td>0</td>\n",
       "      <td>0</td>\n",
       "      <td>No</td>\n",
       "      <td>Never_worked</td>\n",
       "      <td>Rural</td>\n",
       "      <td>161.28</td>\n",
       "      <td>19.1</td>\n",
       "      <td>NaN</td>\n",
       "      <td>0</td>\n",
       "    </tr>\n",
       "  </tbody>\n",
       "</table>\n",
       "</div>"
      ],
      "text/plain": [
       "      id  gender   age  hypertension  heart_disease ever_married  \\\n",
       "0  30669    Male   3.0             0              0           No   \n",
       "1  30468    Male  58.0             1              0          Yes   \n",
       "2  16523  Female   8.0             0              0           No   \n",
       "3  56543  Female  70.0             0              0          Yes   \n",
       "4  46136    Male  14.0             0              0           No   \n",
       "\n",
       "      work_type Residence_type  avg_glucose_level   bmi   smoking_status  \\\n",
       "0      children          Rural              95.12  18.0              NaN   \n",
       "1       Private          Urban              87.96  39.2     never smoked   \n",
       "2       Private          Urban             110.89  17.6              NaN   \n",
       "3       Private          Rural              69.04  35.9  formerly smoked   \n",
       "4  Never_worked          Rural             161.28  19.1              NaN   \n",
       "\n",
       "   stroke  \n",
       "0       0  \n",
       "1       0  \n",
       "2       0  \n",
       "3       0  \n",
       "4       0  "
      ]
     },
     "execution_count": 3,
     "metadata": {},
     "output_type": "execute_result"
    }
   ],
   "source": [
    "train.head()"
   ]
  },
  {
   "cell_type": "code",
   "execution_count": 4,
   "metadata": {},
   "outputs": [
    {
     "name": "stdout",
     "output_type": "stream",
     "text": [
      "Length of train rows: 43400\n"
     ]
    },
    {
     "data": {
      "text/html": [
       "<div>\n",
       "<style scoped>\n",
       "    .dataframe tbody tr th:only-of-type {\n",
       "        vertical-align: middle;\n",
       "    }\n",
       "\n",
       "    .dataframe tbody tr th {\n",
       "        vertical-align: top;\n",
       "    }\n",
       "\n",
       "    .dataframe thead th {\n",
       "        text-align: right;\n",
       "    }\n",
       "</style>\n",
       "<table border=\"1\" class=\"dataframe\">\n",
       "  <thead>\n",
       "    <tr style=\"text-align: right;\">\n",
       "      <th></th>\n",
       "      <th>Dtype</th>\n",
       "      <th>Number of Missing values</th>\n",
       "      <th>Percentage Missing</th>\n",
       "      <th>Unique values</th>\n",
       "    </tr>\n",
       "  </thead>\n",
       "  <tbody>\n",
       "    <tr>\n",
       "      <th>smoking_status</th>\n",
       "      <td>object</td>\n",
       "      <td>13292</td>\n",
       "      <td>30.626728</td>\n",
       "      <td>3</td>\n",
       "    </tr>\n",
       "    <tr>\n",
       "      <th>bmi</th>\n",
       "      <td>float64</td>\n",
       "      <td>1462</td>\n",
       "      <td>3.368664</td>\n",
       "      <td>555</td>\n",
       "    </tr>\n",
       "    <tr>\n",
       "      <th>id</th>\n",
       "      <td>int64</td>\n",
       "      <td>0</td>\n",
       "      <td>0.000000</td>\n",
       "      <td>43400</td>\n",
       "    </tr>\n",
       "    <tr>\n",
       "      <th>gender</th>\n",
       "      <td>object</td>\n",
       "      <td>0</td>\n",
       "      <td>0.000000</td>\n",
       "      <td>3</td>\n",
       "    </tr>\n",
       "    <tr>\n",
       "      <th>age</th>\n",
       "      <td>float64</td>\n",
       "      <td>0</td>\n",
       "      <td>0.000000</td>\n",
       "      <td>104</td>\n",
       "    </tr>\n",
       "    <tr>\n",
       "      <th>hypertension</th>\n",
       "      <td>int64</td>\n",
       "      <td>0</td>\n",
       "      <td>0.000000</td>\n",
       "      <td>2</td>\n",
       "    </tr>\n",
       "    <tr>\n",
       "      <th>heart_disease</th>\n",
       "      <td>int64</td>\n",
       "      <td>0</td>\n",
       "      <td>0.000000</td>\n",
       "      <td>2</td>\n",
       "    </tr>\n",
       "    <tr>\n",
       "      <th>ever_married</th>\n",
       "      <td>object</td>\n",
       "      <td>0</td>\n",
       "      <td>0.000000</td>\n",
       "      <td>2</td>\n",
       "    </tr>\n",
       "    <tr>\n",
       "      <th>work_type</th>\n",
       "      <td>object</td>\n",
       "      <td>0</td>\n",
       "      <td>0.000000</td>\n",
       "      <td>5</td>\n",
       "    </tr>\n",
       "    <tr>\n",
       "      <th>Residence_type</th>\n",
       "      <td>object</td>\n",
       "      <td>0</td>\n",
       "      <td>0.000000</td>\n",
       "      <td>2</td>\n",
       "    </tr>\n",
       "    <tr>\n",
       "      <th>avg_glucose_level</th>\n",
       "      <td>float64</td>\n",
       "      <td>0</td>\n",
       "      <td>0.000000</td>\n",
       "      <td>12543</td>\n",
       "    </tr>\n",
       "    <tr>\n",
       "      <th>stroke</th>\n",
       "      <td>int64</td>\n",
       "      <td>0</td>\n",
       "      <td>0.000000</td>\n",
       "      <td>2</td>\n",
       "    </tr>\n",
       "  </tbody>\n",
       "</table>\n",
       "</div>"
      ],
      "text/plain": [
       "                     Dtype  Number of Missing values  Percentage Missing  \\\n",
       "smoking_status      object                     13292           30.626728   \n",
       "bmi                float64                      1462            3.368664   \n",
       "id                   int64                         0            0.000000   \n",
       "gender              object                         0            0.000000   \n",
       "age                float64                         0            0.000000   \n",
       "hypertension         int64                         0            0.000000   \n",
       "heart_disease        int64                         0            0.000000   \n",
       "ever_married        object                         0            0.000000   \n",
       "work_type           object                         0            0.000000   \n",
       "Residence_type      object                         0            0.000000   \n",
       "avg_glucose_level  float64                         0            0.000000   \n",
       "stroke               int64                         0            0.000000   \n",
       "\n",
       "                   Unique values  \n",
       "smoking_status                 3  \n",
       "bmi                          555  \n",
       "id                         43400  \n",
       "gender                         3  \n",
       "age                          104  \n",
       "hypertension                   2  \n",
       "heart_disease                  2  \n",
       "ever_married                   2  \n",
       "work_type                      5  \n",
       "Residence_type                 2  \n",
       "avg_glucose_level          12543  \n",
       "stroke                         2  "
      ]
     },
     "execution_count": 4,
     "metadata": {},
     "output_type": "execute_result"
    }
   ],
   "source": [
    "# Inspect train set\n",
    "print (\"Length of train rows:\", len(train))\n",
    "inspect_train = pd.DataFrame({'Dtype': train.dtypes, 'Unique values': train.nunique() ,\n",
    "             'Number of Missing values': train.isnull().sum() ,\n",
    "              'Percentage Missing': (train.isnull().sum() / len(train)) * 100\n",
    "             }).sort_values(by='Number of Missing values',ascending = False)\n",
    "inspect_train"
   ]
  },
  {
   "cell_type": "markdown",
   "metadata": {},
   "source": [
    "BMI and smoking status have missing values"
   ]
  },
  {
   "cell_type": "code",
   "execution_count": 5,
   "metadata": {},
   "outputs": [
    {
     "name": "stdout",
     "output_type": "stream",
     "text": [
      "Length of test rows: 18601\n"
     ]
    },
    {
     "data": {
      "text/html": [
       "<div>\n",
       "<style scoped>\n",
       "    .dataframe tbody tr th:only-of-type {\n",
       "        vertical-align: middle;\n",
       "    }\n",
       "\n",
       "    .dataframe tbody tr th {\n",
       "        vertical-align: top;\n",
       "    }\n",
       "\n",
       "    .dataframe thead th {\n",
       "        text-align: right;\n",
       "    }\n",
       "</style>\n",
       "<table border=\"1\" class=\"dataframe\">\n",
       "  <thead>\n",
       "    <tr style=\"text-align: right;\">\n",
       "      <th></th>\n",
       "      <th>Dtype</th>\n",
       "      <th>Number of Missing values</th>\n",
       "      <th>Percentage Missing</th>\n",
       "      <th>Unique values</th>\n",
       "    </tr>\n",
       "  </thead>\n",
       "  <tbody>\n",
       "    <tr>\n",
       "      <th>smoking_status</th>\n",
       "      <td>object</td>\n",
       "      <td>5751</td>\n",
       "      <td>30.917693</td>\n",
       "      <td>3</td>\n",
       "    </tr>\n",
       "    <tr>\n",
       "      <th>bmi</th>\n",
       "      <td>float64</td>\n",
       "      <td>591</td>\n",
       "      <td>3.177249</td>\n",
       "      <td>500</td>\n",
       "    </tr>\n",
       "    <tr>\n",
       "      <th>id</th>\n",
       "      <td>int64</td>\n",
       "      <td>0</td>\n",
       "      <td>0.000000</td>\n",
       "      <td>18601</td>\n",
       "    </tr>\n",
       "    <tr>\n",
       "      <th>gender</th>\n",
       "      <td>object</td>\n",
       "      <td>0</td>\n",
       "      <td>0.000000</td>\n",
       "      <td>3</td>\n",
       "    </tr>\n",
       "    <tr>\n",
       "      <th>age</th>\n",
       "      <td>float64</td>\n",
       "      <td>0</td>\n",
       "      <td>0.000000</td>\n",
       "      <td>104</td>\n",
       "    </tr>\n",
       "    <tr>\n",
       "      <th>hypertension</th>\n",
       "      <td>int64</td>\n",
       "      <td>0</td>\n",
       "      <td>0.000000</td>\n",
       "      <td>2</td>\n",
       "    </tr>\n",
       "    <tr>\n",
       "      <th>heart_disease</th>\n",
       "      <td>int64</td>\n",
       "      <td>0</td>\n",
       "      <td>0.000000</td>\n",
       "      <td>2</td>\n",
       "    </tr>\n",
       "    <tr>\n",
       "      <th>ever_married</th>\n",
       "      <td>object</td>\n",
       "      <td>0</td>\n",
       "      <td>0.000000</td>\n",
       "      <td>2</td>\n",
       "    </tr>\n",
       "    <tr>\n",
       "      <th>work_type</th>\n",
       "      <td>object</td>\n",
       "      <td>0</td>\n",
       "      <td>0.000000</td>\n",
       "      <td>5</td>\n",
       "    </tr>\n",
       "    <tr>\n",
       "      <th>Residence_type</th>\n",
       "      <td>object</td>\n",
       "      <td>0</td>\n",
       "      <td>0.000000</td>\n",
       "      <td>2</td>\n",
       "    </tr>\n",
       "    <tr>\n",
       "      <th>avg_glucose_level</th>\n",
       "      <td>float64</td>\n",
       "      <td>0</td>\n",
       "      <td>0.000000</td>\n",
       "      <td>8744</td>\n",
       "    </tr>\n",
       "  </tbody>\n",
       "</table>\n",
       "</div>"
      ],
      "text/plain": [
       "                     Dtype  Number of Missing values  Percentage Missing  \\\n",
       "smoking_status      object                      5751           30.917693   \n",
       "bmi                float64                       591            3.177249   \n",
       "id                   int64                         0            0.000000   \n",
       "gender              object                         0            0.000000   \n",
       "age                float64                         0            0.000000   \n",
       "hypertension         int64                         0            0.000000   \n",
       "heart_disease        int64                         0            0.000000   \n",
       "ever_married        object                         0            0.000000   \n",
       "work_type           object                         0            0.000000   \n",
       "Residence_type      object                         0            0.000000   \n",
       "avg_glucose_level  float64                         0            0.000000   \n",
       "\n",
       "                   Unique values  \n",
       "smoking_status                 3  \n",
       "bmi                          500  \n",
       "id                         18601  \n",
       "gender                         3  \n",
       "age                          104  \n",
       "hypertension                   2  \n",
       "heart_disease                  2  \n",
       "ever_married                   2  \n",
       "work_type                      5  \n",
       "Residence_type                 2  \n",
       "avg_glucose_level           8744  "
      ]
     },
     "execution_count": 5,
     "metadata": {},
     "output_type": "execute_result"
    }
   ],
   "source": [
    "# Inspect test set\n",
    "print (\"Length of test rows:\", len(test))\n",
    "inspect_test = pd.DataFrame({'Dtype': test.dtypes, 'Unique values': test.nunique() ,\n",
    "             'Number of Missing values': test.isnull().sum() ,\n",
    "              'Percentage Missing': (test.isnull().sum() / len(test)) * 100\n",
    "             }).sort_values(by='Number of Missing values',ascending = False)\n",
    "inspect_test"
   ]
  },
  {
   "cell_type": "code",
   "execution_count": 6,
   "metadata": {},
   "outputs": [
    {
     "name": "stdout",
     "output_type": "stream",
     "text": [
      "Gender unique train and test: ['Male' 'Female' 'Other'] ['Male' 'Female' 'Other']\n",
      "Work type unique train and test: ['children' 'Private' 'Never_worked' 'Self-employed' 'Govt_job'] ['Private' 'Self-employed' 'children' 'Govt_job' 'Never_worked']\n",
      "Smoking status unique train and test: [nan 'never smoked' 'formerly smoked' 'smokes'] ['formerly smoked' nan 'never smoked' 'smokes']\n"
     ]
    }
   ],
   "source": [
    "# Check unique values of the qualitative(categorical) variables with more than 2 categories\n",
    "print(\"Gender unique train and test:\",train.gender.unique(),test.gender.unique())\n",
    "print(\"Work type unique train and test:\",train.work_type.unique(),test.work_type.unique())\n",
    "print(\"Smoking status unique train and test:\",train.smoking_status.unique(),test.smoking_status.unique())"
   ]
  },
  {
   "cell_type": "code",
   "execution_count": 7,
   "metadata": {},
   "outputs": [
    {
     "data": {
      "text/plain": [
       "0    0.981959\n",
       "1    0.018041\n",
       "Name: stroke, dtype: float64"
      ]
     },
     "execution_count": 7,
     "metadata": {},
     "output_type": "execute_result"
    },
    {
     "data": {
      "image/png": "[encoded data removed]",
      "text/plain": [
       "<matplotlib.figure.Figure at 0x266bf0c4ac8>"
      ]
     },
     "metadata": {},
     "output_type": "display_data"
    }
   ],
   "source": [
    "# check the percentage stroke and non stroke. Also plot a countplot\n",
    "ax = sns.countplot(train['stroke'])\n",
    "plt.title('Count of Non-stroke and Stroke')\n",
    "for p in ax.patches:\n",
    "        ax.annotate('{}'.format(p.get_height()), (p.get_x()+0.1, p.get_height()+50))\n",
    "train.stroke.value_counts()/train.stroke.count()"
   ]
  },
  {
   "cell_type": "code",
   "execution_count": 8,
   "metadata": {},
   "outputs": [],
   "source": [
    "test['stroke'] = 0"
   ]
  },
  {
   "cell_type": "markdown",
   "metadata": {},
   "source": [
    "### 1. Data Cleaning and Exploratory Data Analysis (EDA)"
   ]
  },
  {
   "cell_type": "code",
   "execution_count": 9,
   "metadata": {},
   "outputs": [],
   "source": [
    "data = pd.concat([train, test]) #concatenate both dataframes prior to EDA. I am still debating within myself if EDA should be done on both or only on Train\n",
    "target = data['stroke']  #target variable\n",
    "data = data.drop('stroke',axis=1)\n",
    "df = data.copy()"
   ]
  },
  {
   "cell_type": "code",
   "execution_count": 10,
   "metadata": {},
   "outputs": [
    {
     "data": {
      "text/plain": [
       "{dtype('int64'): Index(['id', 'hypertension', 'heart_disease'], dtype='object'),\n",
       " dtype('float64'): Index(['age', 'avg_glucose_level', 'bmi'], dtype='object'),\n",
       " dtype('O'): Index(['gender', 'ever_married', 'work_type', 'Residence_type',\n",
       "        'smoking_status'],\n",
       "       dtype='object')}"
      ]
     },
     "execution_count": 10,
     "metadata": {},
     "output_type": "execute_result"
    }
   ],
   "source": [
    "# let's break down the columns by their type (i.e. int64, float64, object)\n",
    "data.columns.to_series().groupby(data.dtypes).groups"
   ]
  },
  {
   "cell_type": "code",
   "execution_count": 11,
   "metadata": {},
   "outputs": [
    {
     "name": "stdout",
     "output_type": "stream",
     "text": [
      "Length of alldata rows: 62001\n"
     ]
    },
    {
     "data": {
      "text/html": [
       "<div>\n",
       "<style scoped>\n",
       "    .dataframe tbody tr th:only-of-type {\n",
       "        vertical-align: middle;\n",
       "    }\n",
       "\n",
       "    .dataframe tbody tr th {\n",
       "        vertical-align: top;\n",
       "    }\n",
       "\n",
       "    .dataframe thead th {\n",
       "        text-align: right;\n",
       "    }\n",
       "</style>\n",
       "<table border=\"1\" class=\"dataframe\">\n",
       "  <thead>\n",
       "    <tr style=\"text-align: right;\">\n",
       "      <th></th>\n",
       "      <th>Dtype</th>\n",
       "      <th>Number of Missing values</th>\n",
       "      <th>Percentage Missing</th>\n",
       "      <th>Unique values</th>\n",
       "    </tr>\n",
       "  </thead>\n",
       "  <tbody>\n",
       "    <tr>\n",
       "      <th>smoking_status</th>\n",
       "      <td>object</td>\n",
       "      <td>19043</td>\n",
       "      <td>30.714021</td>\n",
       "      <td>3</td>\n",
       "    </tr>\n",
       "    <tr>\n",
       "      <th>bmi</th>\n",
       "      <td>float64</td>\n",
       "      <td>2053</td>\n",
       "      <td>3.311237</td>\n",
       "      <td>582</td>\n",
       "    </tr>\n",
       "    <tr>\n",
       "      <th>id</th>\n",
       "      <td>int64</td>\n",
       "      <td>0</td>\n",
       "      <td>0.000000</td>\n",
       "      <td>62001</td>\n",
       "    </tr>\n",
       "    <tr>\n",
       "      <th>gender</th>\n",
       "      <td>object</td>\n",
       "      <td>0</td>\n",
       "      <td>0.000000</td>\n",
       "      <td>3</td>\n",
       "    </tr>\n",
       "    <tr>\n",
       "      <th>age</th>\n",
       "      <td>float64</td>\n",
       "      <td>0</td>\n",
       "      <td>0.000000</td>\n",
       "      <td>104</td>\n",
       "    </tr>\n",
       "    <tr>\n",
       "      <th>hypertension</th>\n",
       "      <td>int64</td>\n",
       "      <td>0</td>\n",
       "      <td>0.000000</td>\n",
       "      <td>2</td>\n",
       "    </tr>\n",
       "    <tr>\n",
       "      <th>heart_disease</th>\n",
       "      <td>int64</td>\n",
       "      <td>0</td>\n",
       "      <td>0.000000</td>\n",
       "      <td>2</td>\n",
       "    </tr>\n",
       "    <tr>\n",
       "      <th>ever_married</th>\n",
       "      <td>object</td>\n",
       "      <td>0</td>\n",
       "      <td>0.000000</td>\n",
       "      <td>2</td>\n",
       "    </tr>\n",
       "    <tr>\n",
       "      <th>work_type</th>\n",
       "      <td>object</td>\n",
       "      <td>0</td>\n",
       "      <td>0.000000</td>\n",
       "      <td>5</td>\n",
       "    </tr>\n",
       "    <tr>\n",
       "      <th>Residence_type</th>\n",
       "      <td>object</td>\n",
       "      <td>0</td>\n",
       "      <td>0.000000</td>\n",
       "      <td>2</td>\n",
       "    </tr>\n",
       "    <tr>\n",
       "      <th>avg_glucose_level</th>\n",
       "      <td>float64</td>\n",
       "      <td>0</td>\n",
       "      <td>0.000000</td>\n",
       "      <td>14143</td>\n",
       "    </tr>\n",
       "  </tbody>\n",
       "</table>\n",
       "</div>"
      ],
      "text/plain": [
       "                     Dtype  Number of Missing values  Percentage Missing  \\\n",
       "smoking_status      object                     19043           30.714021   \n",
       "bmi                float64                      2053            3.311237   \n",
       "id                   int64                         0            0.000000   \n",
       "gender              object                         0            0.000000   \n",
       "age                float64                         0            0.000000   \n",
       "hypertension         int64                         0            0.000000   \n",
       "heart_disease        int64                         0            0.000000   \n",
       "ever_married        object                         0            0.000000   \n",
       "work_type           object                         0            0.000000   \n",
       "Residence_type      object                         0            0.000000   \n",
       "avg_glucose_level  float64                         0            0.000000   \n",
       "\n",
       "                   Unique values  \n",
       "smoking_status                 3  \n",
       "bmi                          582  \n",
       "id                         62001  \n",
       "gender                         3  \n",
       "age                          104  \n",
       "hypertension                   2  \n",
       "heart_disease                  2  \n",
       "ever_married                   2  \n",
       "work_type                      5  \n",
       "Residence_type                 2  \n",
       "avg_glucose_level          14143  "
      ]
     },
     "execution_count": 11,
     "metadata": {},
     "output_type": "execute_result"
    }
   ],
   "source": [
    "# Inspect alldata set\n",
    "print (\"Length of alldata rows:\", len(data))\n",
    "inspect_alldata = pd.DataFrame({'Dtype': data.dtypes, 'Unique values': data.nunique() ,\n",
    "             'Number of Missing values': data.isnull().sum() ,\n",
    "              'Percentage Missing': (data.isnull().sum() / len(data)) * 100\n",
    "             }).sort_values(by='Number of Missing values',ascending = False)\n",
    "inspect_alldata"
   ]
  },
  {
   "cell_type": "markdown",
   "metadata": {},
   "source": [
    "**Remarks:** As per the Mayoclinic article, smoking is an important determinant. 30% missing values are significant. Let us examine them by age range"
   ]
  },
  {
   "cell_type": "markdown",
   "metadata": {},
   "source": [
    "##### Smoking Status"
   ]
  },
  {
   "cell_type": "code",
   "execution_count": 12,
   "metadata": {},
   "outputs": [
    {
     "name": "stdout",
     "output_type": "stream",
     "text": [
      "Number of people below age 10: 6157\n",
      "Number of smoking status entries in that range: 0\n"
     ]
    }
   ],
   "source": [
    "print(\"Number of people below age 10:\",data.loc[data.age < 10,'age'].count())\n",
    "print(\"Number of smoking status entries in that range:\",data.loc[data.age < 10,'smoking_status'].nunique())"
   ]
  },
  {
   "cell_type": "code",
   "execution_count": 13,
   "metadata": {},
   "outputs": [
    {
     "name": "stdout",
     "output_type": "stream",
     "text": [
      "Number of people in age range 10-19: 6058\n",
      "Number of smoking status entries in that range: 3\n",
      "never smoked       0.783738\n",
      "formerly smoked    0.129217\n",
      "smokes             0.087045\n",
      "Name: smoking_status, dtype: float64\n",
      "Number of people in age > 19: 49786\n",
      "Number of smoking status entries in that range: 3\n"
     ]
    },
    {
     "data": {
      "text/plain": [
       "never smoked       0.514152\n",
       "formerly smoked    0.259289\n",
       "smokes             0.226559\n",
       "Name: smoking_status, dtype: float64"
      ]
     },
     "execution_count": 13,
     "metadata": {},
     "output_type": "execute_result"
    },
    {
     "data": {
      "image/png": "[encoded data removed]",
      "text/plain": [
       "<matplotlib.figure.Figure at 0x266beeacd30>"
      ]
     },
     "metadata": {},
     "output_type": "display_data"
    },
    {
     "data": {
      "image/png": "[encoded data removed]",
      "text/plain": [
       "<matplotlib.figure.Figure at 0x266beeacac8>"
      ]
     },
     "metadata": {},
     "output_type": "display_data"
    }
   ],
   "source": [
    "print(\"Number of people in age range 10-19:\",data.loc[data.age.isin(range(10,20)),'age'].count())\n",
    "print(\"Number of smoking status entries in that range:\",data.loc[data.age.isin(range(10,20)),'smoking_status'].nunique())\n",
    "_ = (data.loc[data.age.isin(range(10,20)),'smoking_status'].value_counts()/data.loc[data.age.isin(range(10,20)),'smoking_status'].count()).plot.bar()\n",
    "_ = plt.title(\"Bar chart for smoking status age range 10-19\")\n",
    "print(data.loc[data.age.isin(range(10,20)),'smoking_status'].value_counts()/data.loc[data.age.isin(range(10,20)),'smoking_status'].count())\n",
    "print(\"Number of people in age > 19:\",data.loc[data.age > 19,'age'].count())\n",
    "print(\"Number of smoking status entries in that range:\",data.loc[data.age > 19,'smoking_status'].nunique())\n",
    "_ = plt.figure()\n",
    "_ = (data.loc[data.age > 19,'smoking_status'].value_counts()/data.loc[data.age > 19,'smoking_status'].count()).plot.bar()\n",
    "_ = plt.title(\"Bar chart for smoking status age above 19\")\n",
    "data.loc[data.age > 19,'smoking_status'].value_counts()/data.loc[data.age > 19,'smoking_status'].count()"
   ]
  },
  {
   "cell_type": "markdown",
   "metadata": {},
   "source": [
    "+ Above bar charts how the fraction of three different smoking status vary in two different age ranges.    \n",
    "+ Safely replace smoking status of all kids below age 10 with never smoked. It reduces missing values by ~33% of total missing  \n",
    "+ Even the ages 10-19 have more number of never smoked than the other two. One of the simple imputation (meaning replacing missing data values) methods is to replace by the value with highest frequency. This reduces missing values by another 33%. \n",
    "+ Rest of them can be left as they are. They are handled by one hot encoding later."
   ]
  },
  {
   "cell_type": "code",
   "execution_count": 14,
   "metadata": {},
   "outputs": [],
   "source": [
    "data.loc[data.age < 20,'smoking_status'] = 'never smoked'\n",
    "train.loc[train.age < 20,'smoking_status'] = 'never smoked'\n",
    "test.loc[test.age < 20,'smoking_status'] = 'never smoked'"
   ]
  },
  {
   "cell_type": "markdown",
   "metadata": {},
   "source": [
    "##### Avg Glucose Level "
   ]
  },
  {
   "cell_type": "code",
   "execution_count": 15,
   "metadata": {},
   "outputs": [
    {
     "data": {
      "text/plain": [
       "<matplotlib.legend.Legend at 0x266bf730e48>"
      ]
     },
     "execution_count": 15,
     "metadata": {},
     "output_type": "execute_result"
    },
    {
     "data": {
      "image/png": "[encoded data removed]",
      "text/plain": [
       "<matplotlib.figure.Figure at 0x266c3ad4198>"
      ]
     },
     "metadata": {},
     "output_type": "display_data"
    },
    {
     "data": {
      "image/png": "[encoded data removed]",
      "text/plain": [
       "<matplotlib.figure.Figure at 0x266bf04a898>"
      ]
     },
     "metadata": {},
     "output_type": "display_data"
    }
   ],
   "source": [
    "sns.distplot(train.avg_glucose_level)\n",
    "plt.title('Distribution of average glucose level overall')\n",
    "plt.figure()\n",
    "sns.distplot(train[train.stroke==1].avg_glucose_level)\n",
    "plt.title('Distribution of average glucose level for stroke and no stroke')\n",
    "sns.distplot(train[train.stroke==0].avg_glucose_level)\n",
    "plt.axvline(150,linestyle='--',color='r')\n",
    "plt.legend(['Critical level','Stroke','Nonstroke'])"
   ]
  },
  {
   "cell_type": "markdown",
   "metadata": {},
   "source": [
    "**First Plot**: Drawn to understand the overall distribution\n",
    "\n",
    "**Second plot**   \n",
    "Diabetese definition: Avg glucose level above 180 after 2 hours of meal is diabetese. In the plot above, it seems like after 150, the curves are diverging.\n",
    "This is a distinguishing feature. It was worthwhile to think of making it more distinguishing by taking square and adding it as feature. It did not result in any improvement in public leaderboard score, hence found it risky to keep. "
   ]
  },
  {
   "cell_type": "markdown",
   "metadata": {},
   "source": [
    "##### Age"
   ]
  },
  {
   "cell_type": "code",
   "execution_count": 16,
   "metadata": {},
   "outputs": [
    {
     "data": {
      "image/png": "[encoded data removed]",
      "text/plain": [
       "<matplotlib.figure.Figure at 0x266bf791320>"
      ]
     },
     "metadata": {},
     "output_type": "display_data"
    },
    {
     "data": {
      "image/png": "[encoded data removed]",
      "text/plain": [
       "<matplotlib.figure.Figure at 0x266bfa7aef0>"
      ]
     },
     "metadata": {},
     "output_type": "display_data"
    }
   ],
   "source": [
    "_ = sns.distplot(train.age)\n",
    "_ = plt.title('Distribution of age')\n",
    "_ = plt.figure()\n",
    "_ = sns.distplot(train[train.stroke==1].age)\n",
    "_ = sns.distplot(train[train.stroke==0].age)\n",
    "_ = plt.axvline(55,linestyle='--',color='r')\n",
    "_ = plt.title('Distribution of age for stroke vs non stroke')\n",
    "_ = plt.legend(['Critical age','Stroke','Nonstroke'])"
   ]
  },
  {
   "cell_type": "markdown",
   "metadata": {},
   "source": [
    "**First Plot**: Done to see the overall distribution of age in data set. Except spikes at age < 5, around 40 and at 70 and above, other ages are uniformly distributed more or less.\n",
    "\n",
    "**Second Plot:** \n",
    "+ The mayoclinic article mentions that people above age 55 are at higher stroke risk and the point at which both distributions meet is exactly that!\n",
    "+ The distributions have overlaps from 40 to 80. However, we are interested in probabilities and other features will help in distinguishing the two groups.\n",
    "+ The odds of having stokes shoots up around age 70 to 80"
   ]
  },
  {
   "cell_type": "code",
   "execution_count": 17,
   "metadata": {},
   "outputs": [
    {
     "name": "stdout",
     "output_type": "stream",
     "text": [
      "Number of people below 30 who had stroke: stroke\n",
      "0    9948\n",
      "1       3\n",
      "Name: id, dtype: int64\n",
      "probability:  0.00010049241282283188\n"
     ]
    },
    {
     "data": {
      "text/html": [
       "<div>\n",
       "<style scoped>\n",
       "    .dataframe tbody tr th:only-of-type {\n",
       "        vertical-align: middle;\n",
       "    }\n",
       "\n",
       "    .dataframe tbody tr th {\n",
       "        vertical-align: top;\n",
       "    }\n",
       "\n",
       "    .dataframe thead th {\n",
       "        text-align: right;\n",
       "    }\n",
       "</style>\n",
       "<table border=\"1\" class=\"dataframe\">\n",
       "  <thead>\n",
       "    <tr style=\"text-align: right;\">\n",
       "      <th></th>\n",
       "      <th>id</th>\n",
       "      <th>age</th>\n",
       "      <th>hypertension</th>\n",
       "      <th>heart_disease</th>\n",
       "      <th>avg_glucose_level</th>\n",
       "      <th>bmi</th>\n",
       "    </tr>\n",
       "    <tr>\n",
       "      <th>stroke</th>\n",
       "      <th></th>\n",
       "      <th></th>\n",
       "      <th></th>\n",
       "      <th></th>\n",
       "      <th></th>\n",
       "      <th></th>\n",
       "    </tr>\n",
       "  </thead>\n",
       "  <tbody>\n",
       "    <tr>\n",
       "      <th>0</th>\n",
       "      <td>36368.488741</td>\n",
       "      <td>20.740450</td>\n",
       "      <td>0.006936</td>\n",
       "      <td>0.000503</td>\n",
       "      <td>93.640803</td>\n",
       "      <td>26.816101</td>\n",
       "    </tr>\n",
       "    <tr>\n",
       "      <th>1</th>\n",
       "      <td>53215.666667</td>\n",
       "      <td>21.333333</td>\n",
       "      <td>0.000000</td>\n",
       "      <td>0.000000</td>\n",
       "      <td>62.023333</td>\n",
       "      <td>28.300000</td>\n",
       "    </tr>\n",
       "  </tbody>\n",
       "</table>\n",
       "</div>"
      ],
      "text/plain": [
       "                  id        age  hypertension  heart_disease  \\\n",
       "stroke                                                         \n",
       "0       36368.488741  20.740450      0.006936       0.000503   \n",
       "1       53215.666667  21.333333      0.000000       0.000000   \n",
       "\n",
       "        avg_glucose_level        bmi  \n",
       "stroke                                \n",
       "0               93.640803  26.816101  \n",
       "1               62.023333  28.300000  "
      ]
     },
     "execution_count": 17,
     "metadata": {},
     "output_type": "execute_result"
    }
   ],
   "source": [
    "print(\"Number of people below 30 who had stroke:\",train.loc[train.age.isin(range(10,31)),:].groupby('stroke').id.count())\n",
    "print(\"probability: \",1/9951)\n",
    "train.loc[train.age.isin(range(10,31)),:].groupby('stroke').mean()"
   ]
  },
  {
   "cell_type": "code",
   "execution_count": 18,
   "metadata": {},
   "outputs": [
    {
     "name": "stdout",
     "output_type": "stream",
     "text": [
      "stroke  ever_married\n",
      "0       Yes             21148\n",
      "        No               2885\n",
      "1       Yes               340\n",
      "        No                 34\n",
      "Name: ever_married, dtype: int64\n",
      "Number of people above who had stroke: stroke\n",
      "0    24033\n",
      "1      374\n",
      "Name: id, dtype: int64\n"
     ]
    },
    {
     "data": {
      "text/html": [
       "<div>\n",
       "<style scoped>\n",
       "    .dataframe tbody tr th:only-of-type {\n",
       "        vertical-align: middle;\n",
       "    }\n",
       "\n",
       "    .dataframe tbody tr th {\n",
       "        vertical-align: top;\n",
       "    }\n",
       "\n",
       "    .dataframe thead th {\n",
       "        text-align: right;\n",
       "    }\n",
       "</style>\n",
       "<table border=\"1\" class=\"dataframe\">\n",
       "  <thead>\n",
       "    <tr style=\"text-align: right;\">\n",
       "      <th></th>\n",
       "      <th>id</th>\n",
       "      <th>age</th>\n",
       "      <th>hypertension</th>\n",
       "      <th>heart_disease</th>\n",
       "      <th>avg_glucose_level</th>\n",
       "      <th>bmi</th>\n",
       "    </tr>\n",
       "    <tr>\n",
       "      <th>stroke</th>\n",
       "      <th></th>\n",
       "      <th></th>\n",
       "      <th></th>\n",
       "      <th></th>\n",
       "      <th></th>\n",
       "      <th></th>\n",
       "    </tr>\n",
       "  </thead>\n",
       "  <tbody>\n",
       "    <tr>\n",
       "      <th>0</th>\n",
       "      <td>36564.294512</td>\n",
       "      <td>49.736612</td>\n",
       "      <td>0.112512</td>\n",
       "      <td>0.043315</td>\n",
       "      <td>107.016973</td>\n",
       "      <td>31.109426</td>\n",
       "    </tr>\n",
       "    <tr>\n",
       "      <th>1</th>\n",
       "      <td>37446.000000</td>\n",
       "      <td>58.371658</td>\n",
       "      <td>0.221925</td>\n",
       "      <td>0.192513</td>\n",
       "      <td>132.151658</td>\n",
       "      <td>31.743189</td>\n",
       "    </tr>\n",
       "  </tbody>\n",
       "</table>\n",
       "</div>"
      ],
      "text/plain": [
       "                  id        age  hypertension  heart_disease  \\\n",
       "stroke                                                         \n",
       "0       36564.294512  49.736612      0.112512       0.043315   \n",
       "1       37446.000000  58.371658      0.221925       0.192513   \n",
       "\n",
       "        avg_glucose_level        bmi  \n",
       "stroke                                \n",
       "0              107.016973  31.109426  \n",
       "1              132.151658  31.743189  "
      ]
     },
     "execution_count": 18,
     "metadata": {},
     "output_type": "execute_result"
    },
    {
     "data": {
      "image/png": "[encoded data removed]",
      "text/plain": [
       "<matplotlib.figure.Figure at 0x266bf791828>"
      ]
     },
     "metadata": {},
     "output_type": "display_data"
    }
   ],
   "source": [
    "_ = train.loc[(train.age.isin(range(30,71))) & (train['stroke']==0),'bmi'].hist(bins=50)\n",
    "_ = plt.title('Histogram of BMI Non-stroke group in age range 30-71')\n",
    "print(train.loc[train.age.isin(range(30,71)),:].groupby('stroke').ever_married.value_counts())\n",
    "print(\"Number of people above who had stroke:\",train.loc[train.age.isin(range(30,71)),:].groupby('stroke').id.count())\n",
    "train.loc[train.age.isin(range(30,71)),:].groupby('stroke').mean()"
   ]
  },
  {
   "cell_type": "code",
   "execution_count": 19,
   "metadata": {},
   "outputs": [
    {
     "name": "stdout",
     "output_type": "stream",
     "text": [
      "stroke  ever_married\n",
      "0       Yes             4458\n",
      "        No               419\n",
      "1       Yes              362\n",
      "        No                43\n",
      "Name: ever_married, dtype: int64\n",
      "Number of people above who had stroke: stroke\n",
      "0    4877\n",
      "1     405\n",
      "Name: id, dtype: int64\n"
     ]
    },
    {
     "data": {
      "text/html": [
       "<div>\n",
       "<style scoped>\n",
       "    .dataframe tbody tr th:only-of-type {\n",
       "        vertical-align: middle;\n",
       "    }\n",
       "\n",
       "    .dataframe tbody tr th {\n",
       "        vertical-align: top;\n",
       "    }\n",
       "\n",
       "    .dataframe thead th {\n",
       "        text-align: right;\n",
       "    }\n",
       "</style>\n",
       "<table border=\"1\" class=\"dataframe\">\n",
       "  <thead>\n",
       "    <tr style=\"text-align: right;\">\n",
       "      <th></th>\n",
       "      <th>id</th>\n",
       "      <th>age</th>\n",
       "      <th>hypertension</th>\n",
       "      <th>heart_disease</th>\n",
       "      <th>avg_glucose_level</th>\n",
       "      <th>bmi</th>\n",
       "    </tr>\n",
       "    <tr>\n",
       "      <th>stroke</th>\n",
       "      <th></th>\n",
       "      <th></th>\n",
       "      <th></th>\n",
       "      <th></th>\n",
       "      <th></th>\n",
       "      <th></th>\n",
       "    </tr>\n",
       "  </thead>\n",
       "  <tbody>\n",
       "    <tr>\n",
       "      <th>0</th>\n",
       "      <td>36041.503178</td>\n",
       "      <td>76.879639</td>\n",
       "      <td>0.224728</td>\n",
       "      <td>0.171417</td>\n",
       "      <td>119.863664</td>\n",
       "      <td>28.862533</td>\n",
       "    </tr>\n",
       "    <tr>\n",
       "      <th>1</th>\n",
       "      <td>35978.864198</td>\n",
       "      <td>77.679012</td>\n",
       "      <td>0.288889</td>\n",
       "      <td>0.259259</td>\n",
       "      <td>127.856963</td>\n",
       "      <td>28.217353</td>\n",
       "    </tr>\n",
       "  </tbody>\n",
       "</table>\n",
       "</div>"
      ],
      "text/plain": [
       "                  id        age  hypertension  heart_disease  \\\n",
       "stroke                                                         \n",
       "0       36041.503178  76.879639      0.224728       0.171417   \n",
       "1       35978.864198  77.679012      0.288889       0.259259   \n",
       "\n",
       "        avg_glucose_level        bmi  \n",
       "stroke                                \n",
       "0              119.863664  28.862533  \n",
       "1              127.856963  28.217353  "
      ]
     },
     "execution_count": 19,
     "metadata": {},
     "output_type": "execute_result"
    },
    {
     "data": {
      "image/png": "[encoded data removed]",
      "text/plain": [
       "<matplotlib.figure.Figure at 0x266c3178cc0>"
      ]
     },
     "metadata": {},
     "output_type": "display_data"
    }
   ],
   "source": [
    "_ = train.loc[(train.age > 70) & (train['stroke']==0),'bmi'].hist(bins=50)\n",
    "_ = plt.title('Histogram of BMI Non-stroke group in age > 70')\n",
    "print(train.loc[train.age  > 70,:].groupby('stroke').ever_married.value_counts())\n",
    "print(\"Number of people above who had stroke:\",train.loc[train.age > 70,:].groupby('stroke').id.count())\n",
    "train.loc[train.age > 70,:].groupby('stroke').mean()"
   ]
  },
  {
   "cell_type": "markdown",
   "metadata": {},
   "source": [
    "Note a few important points:\n",
    "1. 405 out of total observed cases 783 i.e. more than 50% stroke come from this age range\n",
    "2. All the stroke patients have more hypertension, heart disease and avg glucose level.\n",
    "3. Ever married is also age dependent, hence a confounding variable. But that is not having much influence on stroke."
   ]
  },
  {
   "cell_type": "markdown",
   "metadata": {},
   "source": [
    "##### BMI "
   ]
  },
  {
   "cell_type": "code",
   "execution_count": 20,
   "metadata": {},
   "outputs": [
    {
     "data": {
      "image/png": "[encoded data removed]",
      "text/plain": [
       "<matplotlib.figure.Figure at 0x266c329d048>"
      ]
     },
     "metadata": {},
     "output_type": "display_data"
    },
    {
     "data": {
      "image/png": "[encoded data removed]",
      "text/plain": [
       "<matplotlib.figure.Figure at 0x266c3182940>"
      ]
     },
     "metadata": {},
     "output_type": "display_data"
    }
   ],
   "source": [
    "# With 3% missing values\n",
    "_ = sns.distplot(train.bmi.dropna())\n",
    "_ = plt.title('Distribution of BMI')\n",
    "_ = plt.figure()\n",
    "_ = sns.distplot(train[train.stroke==1].bmi.dropna())\n",
    "_ = sns.distplot(train[train.stroke==0].bmi.dropna())\n",
    "_ = plt.axvline(25,linestyle='--',color='b')\n",
    "_ = plt.axvline(29.5,linestyle='--',color='purple')\n",
    "_ = plt.axvline(35,linestyle='--',color='r')\n",
    "_ = plt.title('Distribution of BMI for stroke vs non stroke')\n",
    "_ = plt.legend(['Overweight','Obese','Very Very Obese','Stroke','Nonstroke'])"
   ]
  },
  {
   "cell_type": "markdown",
   "metadata": {},
   "source": [
    "**Remarks:** The difference in distributions of stroke Vs Non stroke group is not that noticeable towards BMI > 35. This is because other factors take over. Again there is confounding bias effect. **Hence it is a fallacy to conclude from the above plot that being obese does not increase the chances of stroke.**"
   ]
  },
  {
   "cell_type": "code",
   "execution_count": 21,
   "metadata": {},
   "outputs": [],
   "source": [
    "# let's list all the non-numerical columns from df_training\n",
    "def conv_one_hot(data) :\n",
    "    categorial_variables = data.select_dtypes(exclude=['int64', 'float64', 'bool']).columns\n",
    "    print(\"The list of Categorical variables\")\n",
    "    print(list(categorial_variables))\n",
    "    # Convert Categorical variables to dummies\n",
    "    cat_var = pd.get_dummies(data[list(categorial_variables)],drop_first=True)\n",
    "    # Remove originals\n",
    "    data = data.drop(categorial_variables,axis=1)\n",
    "    data = pd.concat([data,cat_var],axis=1)\n",
    "    #removing dulpicate columns - useful in case two variables are closely related.\n",
    "    _, i = np.unique(data.columns, return_index=True)  #Always better to have\n",
    "    data=data.iloc[:, i] \n",
    "    return data"
   ]
  },
  {
   "cell_type": "code",
   "execution_count": 22,
   "metadata": {},
   "outputs": [
    {
     "name": "stdout",
     "output_type": "stream",
     "text": [
      "The list of Categorical variables\n",
      "['gender', 'ever_married', 'work_type', 'Residence_type', 'smoking_status']\n"
     ]
    },
    {
     "data": {
      "text/html": [
       "<div>\n",
       "<style scoped>\n",
       "    .dataframe tbody tr th:only-of-type {\n",
       "        vertical-align: middle;\n",
       "    }\n",
       "\n",
       "    .dataframe tbody tr th {\n",
       "        vertical-align: top;\n",
       "    }\n",
       "\n",
       "    .dataframe thead th {\n",
       "        text-align: right;\n",
       "    }\n",
       "</style>\n",
       "<table border=\"1\" class=\"dataframe\">\n",
       "  <thead>\n",
       "    <tr style=\"text-align: right;\">\n",
       "      <th></th>\n",
       "      <th>Residence_type_Urban</th>\n",
       "      <th>age</th>\n",
       "      <th>avg_glucose_level</th>\n",
       "      <th>bmi</th>\n",
       "      <th>ever_married_Yes</th>\n",
       "      <th>gender_Male</th>\n",
       "      <th>gender_Other</th>\n",
       "      <th>heart_disease</th>\n",
       "      <th>hypertension</th>\n",
       "      <th>id</th>\n",
       "      <th>smoking_status_never smoked</th>\n",
       "      <th>smoking_status_smokes</th>\n",
       "      <th>work_type_Never_worked</th>\n",
       "      <th>work_type_Private</th>\n",
       "      <th>work_type_Self-employed</th>\n",
       "      <th>work_type_children</th>\n",
       "    </tr>\n",
       "  </thead>\n",
       "  <tbody>\n",
       "    <tr>\n",
       "      <th>0</th>\n",
       "      <td>0</td>\n",
       "      <td>3.0</td>\n",
       "      <td>95.12</td>\n",
       "      <td>18.0</td>\n",
       "      <td>0</td>\n",
       "      <td>1</td>\n",
       "      <td>0</td>\n",
       "      <td>0</td>\n",
       "      <td>0</td>\n",
       "      <td>30669</td>\n",
       "      <td>1</td>\n",
       "      <td>0</td>\n",
       "      <td>0</td>\n",
       "      <td>0</td>\n",
       "      <td>0</td>\n",
       "      <td>1</td>\n",
       "    </tr>\n",
       "    <tr>\n",
       "      <th>1</th>\n",
       "      <td>1</td>\n",
       "      <td>58.0</td>\n",
       "      <td>87.96</td>\n",
       "      <td>39.2</td>\n",
       "      <td>1</td>\n",
       "      <td>1</td>\n",
       "      <td>0</td>\n",
       "      <td>0</td>\n",
       "      <td>1</td>\n",
       "      <td>30468</td>\n",
       "      <td>1</td>\n",
       "      <td>0</td>\n",
       "      <td>0</td>\n",
       "      <td>1</td>\n",
       "      <td>0</td>\n",
       "      <td>0</td>\n",
       "    </tr>\n",
       "    <tr>\n",
       "      <th>2</th>\n",
       "      <td>1</td>\n",
       "      <td>8.0</td>\n",
       "      <td>110.89</td>\n",
       "      <td>17.6</td>\n",
       "      <td>0</td>\n",
       "      <td>0</td>\n",
       "      <td>0</td>\n",
       "      <td>0</td>\n",
       "      <td>0</td>\n",
       "      <td>16523</td>\n",
       "      <td>1</td>\n",
       "      <td>0</td>\n",
       "      <td>0</td>\n",
       "      <td>1</td>\n",
       "      <td>0</td>\n",
       "      <td>0</td>\n",
       "    </tr>\n",
       "    <tr>\n",
       "      <th>3</th>\n",
       "      <td>0</td>\n",
       "      <td>70.0</td>\n",
       "      <td>69.04</td>\n",
       "      <td>35.9</td>\n",
       "      <td>1</td>\n",
       "      <td>0</td>\n",
       "      <td>0</td>\n",
       "      <td>0</td>\n",
       "      <td>0</td>\n",
       "      <td>56543</td>\n",
       "      <td>0</td>\n",
       "      <td>0</td>\n",
       "      <td>0</td>\n",
       "      <td>1</td>\n",
       "      <td>0</td>\n",
       "      <td>0</td>\n",
       "    </tr>\n",
       "    <tr>\n",
       "      <th>4</th>\n",
       "      <td>0</td>\n",
       "      <td>14.0</td>\n",
       "      <td>161.28</td>\n",
       "      <td>19.1</td>\n",
       "      <td>0</td>\n",
       "      <td>1</td>\n",
       "      <td>0</td>\n",
       "      <td>0</td>\n",
       "      <td>0</td>\n",
       "      <td>46136</td>\n",
       "      <td>1</td>\n",
       "      <td>0</td>\n",
       "      <td>1</td>\n",
       "      <td>0</td>\n",
       "      <td>0</td>\n",
       "      <td>0</td>\n",
       "    </tr>\n",
       "  </tbody>\n",
       "</table>\n",
       "</div>"
      ],
      "text/plain": [
       "   Residence_type_Urban   age  avg_glucose_level   bmi  ever_married_Yes  \\\n",
       "0                     0   3.0              95.12  18.0                 0   \n",
       "1                     1  58.0              87.96  39.2                 1   \n",
       "2                     1   8.0             110.89  17.6                 0   \n",
       "3                     0  70.0              69.04  35.9                 1   \n",
       "4                     0  14.0             161.28  19.1                 0   \n",
       "\n",
       "   gender_Male  gender_Other  heart_disease  hypertension     id  \\\n",
       "0            1             0              0             0  30669   \n",
       "1            1             0              0             1  30468   \n",
       "2            0             0              0             0  16523   \n",
       "3            0             0              0             0  56543   \n",
       "4            1             0              0             0  46136   \n",
       "\n",
       "   smoking_status_never smoked  smoking_status_smokes  work_type_Never_worked  \\\n",
       "0                            1                      0                       0   \n",
       "1                            1                      0                       0   \n",
       "2                            1                      0                       0   \n",
       "3                            0                      0                       0   \n",
       "4                            1                      0                       1   \n",
       "\n",
       "   work_type_Private  work_type_Self-employed  work_type_children  \n",
       "0                  0                        0                   1  \n",
       "1                  1                        0                   0  \n",
       "2                  1                        0                   0  \n",
       "3                  1                        0                   0  \n",
       "4                  0                        0                   0  "
      ]
     },
     "execution_count": 22,
     "metadata": {},
     "output_type": "execute_result"
    }
   ],
   "source": [
    "# This is the logical point to convert, because we need this for BMI imputation\n",
    "data = conv_one_hot(data)\n",
    "data.head()"
   ]
  },
  {
   "cell_type": "code",
   "execution_count": 23,
   "metadata": {},
   "outputs": [
    {
     "data": {
      "text/html": [
       "<div>\n",
       "<style scoped>\n",
       "    .dataframe tbody tr th:only-of-type {\n",
       "        vertical-align: middle;\n",
       "    }\n",
       "\n",
       "    .dataframe tbody tr th {\n",
       "        vertical-align: top;\n",
       "    }\n",
       "\n",
       "    .dataframe thead th {\n",
       "        text-align: right;\n",
       "    }\n",
       "</style>\n",
       "<table border=\"1\" class=\"dataframe\">\n",
       "  <thead>\n",
       "    <tr style=\"text-align: right;\">\n",
       "      <th></th>\n",
       "      <th>Missing Ratio</th>\n",
       "    </tr>\n",
       "  </thead>\n",
       "  <tbody>\n",
       "    <tr>\n",
       "      <th>bmi</th>\n",
       "      <td>3.311237</td>\n",
       "    </tr>\n",
       "    <tr>\n",
       "      <th>work_type_children</th>\n",
       "      <td>0.000000</td>\n",
       "    </tr>\n",
       "    <tr>\n",
       "      <th>work_type_Self-employed</th>\n",
       "      <td>0.000000</td>\n",
       "    </tr>\n",
       "    <tr>\n",
       "      <th>work_type_Private</th>\n",
       "      <td>0.000000</td>\n",
       "    </tr>\n",
       "    <tr>\n",
       "      <th>work_type_Never_worked</th>\n",
       "      <td>0.000000</td>\n",
       "    </tr>\n",
       "    <tr>\n",
       "      <th>smoking_status_smokes</th>\n",
       "      <td>0.000000</td>\n",
       "    </tr>\n",
       "    <tr>\n",
       "      <th>smoking_status_never smoked</th>\n",
       "      <td>0.000000</td>\n",
       "    </tr>\n",
       "    <tr>\n",
       "      <th>id</th>\n",
       "      <td>0.000000</td>\n",
       "    </tr>\n",
       "    <tr>\n",
       "      <th>hypertension</th>\n",
       "      <td>0.000000</td>\n",
       "    </tr>\n",
       "    <tr>\n",
       "      <th>heart_disease</th>\n",
       "      <td>0.000000</td>\n",
       "    </tr>\n",
       "    <tr>\n",
       "      <th>gender_Other</th>\n",
       "      <td>0.000000</td>\n",
       "    </tr>\n",
       "    <tr>\n",
       "      <th>gender_Male</th>\n",
       "      <td>0.000000</td>\n",
       "    </tr>\n",
       "    <tr>\n",
       "      <th>ever_married_Yes</th>\n",
       "      <td>0.000000</td>\n",
       "    </tr>\n",
       "    <tr>\n",
       "      <th>avg_glucose_level</th>\n",
       "      <td>0.000000</td>\n",
       "    </tr>\n",
       "    <tr>\n",
       "      <th>age</th>\n",
       "      <td>0.000000</td>\n",
       "    </tr>\n",
       "    <tr>\n",
       "      <th>Residence_type_Urban</th>\n",
       "      <td>0.000000</td>\n",
       "    </tr>\n",
       "  </tbody>\n",
       "</table>\n",
       "</div>"
      ],
      "text/plain": [
       "                             Missing Ratio\n",
       "bmi                               3.311237\n",
       "work_type_children                0.000000\n",
       "work_type_Self-employed           0.000000\n",
       "work_type_Private                 0.000000\n",
       "work_type_Never_worked            0.000000\n",
       "smoking_status_smokes             0.000000\n",
       "smoking_status_never smoked       0.000000\n",
       "id                                0.000000\n",
       "hypertension                      0.000000\n",
       "heart_disease                     0.000000\n",
       "gender_Other                      0.000000\n",
       "gender_Male                       0.000000\n",
       "ever_married_Yes                  0.000000\n",
       "avg_glucose_level                 0.000000\n",
       "age                               0.000000\n",
       "Residence_type_Urban              0.000000"
      ]
     },
     "execution_count": 23,
     "metadata": {},
     "output_type": "execute_result"
    }
   ],
   "source": [
    "perc_na = (data.isnull().sum()/len(data))*100\n",
    "ratio_na = perc_na.sort_values(ascending=False)\n",
    "missing_data = pd.DataFrame({'Missing Ratio' :ratio_na})\n",
    "missing_data"
   ]
  },
  {
   "cell_type": "markdown",
   "metadata": {},
   "source": [
    "NaN in smoking have disappeared due to one hot encoding.     \n",
    "How to fill missing values in BMI? For that let us see the distribution"
   ]
  },
  {
   "cell_type": "code",
   "execution_count": 24,
   "metadata": {},
   "outputs": [
    {
     "data": {
      "text/plain": [
       "count    59948.000000\n",
       "mean        28.587099\n",
       "std          7.766122\n",
       "min         10.100000\n",
       "25%         23.200000\n",
       "50%         27.700000\n",
       "75%         32.800000\n",
       "max         97.600000\n",
       "Name: bmi, dtype: float64"
      ]
     },
     "execution_count": 24,
     "metadata": {},
     "output_type": "execute_result"
    },
    {
     "data": {
      "image/png": "[encoded data removed]",
      "text/plain": [
       "<matplotlib.figure.Figure at 0x266c31827f0>"
      ]
     },
     "metadata": {},
     "output_type": "display_data"
    }
   ],
   "source": [
    "_ = sns.distplot(data.bmi.dropna())\n",
    "_ = plt.title('BMI distribution')\n",
    "data.bmi.describe()"
   ]
  },
  {
   "cell_type": "code",
   "execution_count": 25,
   "metadata": {},
   "outputs": [
    {
     "data": {
      "text/html": [
       "<div>\n",
       "<style scoped>\n",
       "    .dataframe tbody tr th:only-of-type {\n",
       "        vertical-align: middle;\n",
       "    }\n",
       "\n",
       "    .dataframe tbody tr th {\n",
       "        vertical-align: top;\n",
       "    }\n",
       "\n",
       "    .dataframe thead th {\n",
       "        text-align: right;\n",
       "    }\n",
       "</style>\n",
       "<table border=\"1\" class=\"dataframe\">\n",
       "  <thead>\n",
       "    <tr style=\"text-align: right;\">\n",
       "      <th></th>\n",
       "      <th>Residence_type_Urban</th>\n",
       "      <th>age</th>\n",
       "      <th>avg_glucose_level</th>\n",
       "      <th>bmi</th>\n",
       "      <th>ever_married_Yes</th>\n",
       "      <th>gender_Male</th>\n",
       "      <th>gender_Other</th>\n",
       "      <th>heart_disease</th>\n",
       "      <th>hypertension</th>\n",
       "      <th>id</th>\n",
       "      <th>smoking_status_never smoked</th>\n",
       "      <th>smoking_status_smokes</th>\n",
       "      <th>work_type_Never_worked</th>\n",
       "      <th>work_type_Private</th>\n",
       "      <th>work_type_Self-employed</th>\n",
       "      <th>work_type_children</th>\n",
       "    </tr>\n",
       "  </thead>\n",
       "  <tbody>\n",
       "    <tr>\n",
       "      <th>81</th>\n",
       "      <td>0</td>\n",
       "      <td>61.0</td>\n",
       "      <td>202.21</td>\n",
       "      <td>NaN</td>\n",
       "      <td>1</td>\n",
       "      <td>0</td>\n",
       "      <td>0</td>\n",
       "      <td>0</td>\n",
       "      <td>0</td>\n",
       "      <td>51676</td>\n",
       "      <td>1</td>\n",
       "      <td>0</td>\n",
       "      <td>0</td>\n",
       "      <td>0</td>\n",
       "      <td>1</td>\n",
       "      <td>0</td>\n",
       "    </tr>\n",
       "    <tr>\n",
       "      <th>95</th>\n",
       "      <td>1</td>\n",
       "      <td>34.0</td>\n",
       "      <td>106.23</td>\n",
       "      <td>NaN</td>\n",
       "      <td>1</td>\n",
       "      <td>1</td>\n",
       "      <td>0</td>\n",
       "      <td>1</td>\n",
       "      <td>0</td>\n",
       "      <td>31091</td>\n",
       "      <td>0</td>\n",
       "      <td>0</td>\n",
       "      <td>0</td>\n",
       "      <td>1</td>\n",
       "      <td>0</td>\n",
       "      <td>0</td>\n",
       "    </tr>\n",
       "    <tr>\n",
       "      <th>113</th>\n",
       "      <td>1</td>\n",
       "      <td>76.0</td>\n",
       "      <td>209.58</td>\n",
       "      <td>NaN</td>\n",
       "      <td>1</td>\n",
       "      <td>0</td>\n",
       "      <td>0</td>\n",
       "      <td>0</td>\n",
       "      <td>1</td>\n",
       "      <td>54312</td>\n",
       "      <td>1</td>\n",
       "      <td>0</td>\n",
       "      <td>0</td>\n",
       "      <td>0</td>\n",
       "      <td>1</td>\n",
       "      <td>0</td>\n",
       "    </tr>\n",
       "    <tr>\n",
       "      <th>186</th>\n",
       "      <td>0</td>\n",
       "      <td>63.0</td>\n",
       "      <td>79.92</td>\n",
       "      <td>NaN</td>\n",
       "      <td>1</td>\n",
       "      <td>0</td>\n",
       "      <td>0</td>\n",
       "      <td>0</td>\n",
       "      <td>0</td>\n",
       "      <td>11999</td>\n",
       "      <td>0</td>\n",
       "      <td>1</td>\n",
       "      <td>0</td>\n",
       "      <td>0</td>\n",
       "      <td>0</td>\n",
       "      <td>0</td>\n",
       "    </tr>\n",
       "    <tr>\n",
       "      <th>231</th>\n",
       "      <td>1</td>\n",
       "      <td>61.0</td>\n",
       "      <td>184.15</td>\n",
       "      <td>NaN</td>\n",
       "      <td>1</td>\n",
       "      <td>1</td>\n",
       "      <td>0</td>\n",
       "      <td>0</td>\n",
       "      <td>0</td>\n",
       "      <td>22470</td>\n",
       "      <td>0</td>\n",
       "      <td>0</td>\n",
       "      <td>0</td>\n",
       "      <td>0</td>\n",
       "      <td>0</td>\n",
       "      <td>0</td>\n",
       "    </tr>\n",
       "  </tbody>\n",
       "</table>\n",
       "</div>"
      ],
      "text/plain": [
       "     Residence_type_Urban   age  avg_glucose_level  bmi  ever_married_Yes  \\\n",
       "81                      0  61.0             202.21  NaN                 1   \n",
       "95                      1  34.0             106.23  NaN                 1   \n",
       "113                     1  76.0             209.58  NaN                 1   \n",
       "186                     0  63.0              79.92  NaN                 1   \n",
       "231                     1  61.0             184.15  NaN                 1   \n",
       "\n",
       "     gender_Male  gender_Other  heart_disease  hypertension     id  \\\n",
       "81             0             0              0             0  51676   \n",
       "95             1             0              1             0  31091   \n",
       "113            0             0              0             1  54312   \n",
       "186            0             0              0             0  11999   \n",
       "231            1             0              0             0  22470   \n",
       "\n",
       "     smoking_status_never smoked  smoking_status_smokes  \\\n",
       "81                             1                      0   \n",
       "95                             0                      0   \n",
       "113                            1                      0   \n",
       "186                            0                      1   \n",
       "231                            0                      0   \n",
       "\n",
       "     work_type_Never_worked  work_type_Private  work_type_Self-employed  \\\n",
       "81                        0                  0                        1   \n",
       "95                        0                  1                        0   \n",
       "113                       0                  0                        1   \n",
       "186                       0                  0                        0   \n",
       "231                       0                  0                        0   \n",
       "\n",
       "     work_type_children  \n",
       "81                    0  \n",
       "95                    0  \n",
       "113                   0  \n",
       "186                   0  \n",
       "231                   0  "
      ]
     },
     "execution_count": 25,
     "metadata": {},
     "output_type": "execute_result"
    }
   ],
   "source": [
    "missing_bmi_rows = data[data.bmi.isnull()]\n",
    "missing_bmi_rows.head()"
   ]
  },
  {
   "cell_type": "markdown",
   "metadata": {},
   "source": [
    "How does it look with filling all of them with mean or median?"
   ]
  },
  {
   "cell_type": "code",
   "execution_count": 26,
   "metadata": {},
   "outputs": [
    {
     "data": {
      "text/plain": [
       "count    59948.000000\n",
       "mean        28.587099\n",
       "std          7.766122\n",
       "min         10.100000\n",
       "25%         23.200000\n",
       "50%         27.700000\n",
       "75%         32.800000\n",
       "max         97.600000\n",
       "Name: bmi, dtype: float64"
      ]
     },
     "execution_count": 26,
     "metadata": {},
     "output_type": "execute_result"
    },
    {
     "data": {
      "image/png": "[encoded data removed]",
      "text/plain": [
       "<matplotlib.figure.Figure at 0x266c333eef0>"
      ]
     },
     "metadata": {},
     "output_type": "display_data"
    }
   ],
   "source": [
    "_ = sns.distplot(data.bmi.fillna(data.bmi.mean()))\n",
    "_ = plt.title('BMI distribution with filling with mean')\n",
    "data.bmi.describe()"
   ]
  },
  {
   "cell_type": "markdown",
   "metadata": {},
   "source": [
    "The distribution is distorted in comparison with original."
   ]
  },
  {
   "cell_type": "code",
   "execution_count": 27,
   "metadata": {},
   "outputs": [
    {
     "data": {
      "text/html": [
       "<table class=\"simpletable\">\n",
       "<caption>OLS Regression Results</caption>\n",
       "<tr>\n",
       "  <th>Dep. Variable:</th>           <td>bmi</td>       <th>  R-squared:         </th>  <td>   0.250</td>  \n",
       "</tr>\n",
       "<tr>\n",
       "  <th>Model:</th>                   <td>OLS</td>       <th>  Adj. R-squared:    </th>  <td>   0.250</td>  \n",
       "</tr>\n",
       "<tr>\n",
       "  <th>Method:</th>             <td>Least Squares</td>  <th>  F-statistic:       </th>  <td>   1425.</td>  \n",
       "</tr>\n",
       "<tr>\n",
       "  <th>Date:</th>             <td>Thu, 19 Apr 2018</td> <th>  Prob (F-statistic):</th>   <td>  0.00</td>   \n",
       "</tr>\n",
       "<tr>\n",
       "  <th>Time:</th>                 <td>17:41:29</td>     <th>  Log-Likelihood:    </th> <td>-1.9933e+05</td>\n",
       "</tr>\n",
       "<tr>\n",
       "  <th>No. Observations:</th>      <td> 59948</td>      <th>  AIC:               </th>  <td>3.987e+05</td> \n",
       "</tr>\n",
       "<tr>\n",
       "  <th>Df Residuals:</th>          <td> 59933</td>      <th>  BIC:               </th>  <td>3.988e+05</td> \n",
       "</tr>\n",
       "<tr>\n",
       "  <th>Df Model:</th>              <td>    14</td>      <th>                     </th>      <td> </td>     \n",
       "</tr>\n",
       "<tr>\n",
       "  <th>Covariance Type:</th>      <td>nonrobust</td>    <th>                     </th>      <td> </td>     \n",
       "</tr>\n",
       "</table>\n",
       "<table class=\"simpletable\">\n",
       "<tr>\n",
       "               <td></td>                  <th>coef</th>     <th>std err</th>      <th>t</th>      <th>P>|t|</th>  <th>[0.025</th>    <th>0.975]</th>  \n",
       "</tr>\n",
       "<tr>\n",
       "  <th>const</th>                       <td>   26.9267</td> <td>    0.144</td> <td>  187.562</td> <td> 0.000</td> <td>   26.645</td> <td>   27.208</td>\n",
       "</tr>\n",
       "<tr>\n",
       "  <th>Residence_type_Urban</th>        <td>   -0.0697</td> <td>    0.055</td> <td>   -1.267</td> <td> 0.205</td> <td>   -0.177</td> <td>    0.038</td>\n",
       "</tr>\n",
       "<tr>\n",
       "  <th>age</th>                         <td>   -0.0036</td> <td>    0.002</td> <td>   -1.748</td> <td> 0.081</td> <td>   -0.008</td> <td>    0.000</td>\n",
       "</tr>\n",
       "<tr>\n",
       "  <th>avg_glucose_level</th>           <td>    0.0233</td> <td>    0.001</td> <td>   34.389</td> <td> 0.000</td> <td>    0.022</td> <td>    0.025</td>\n",
       "</tr>\n",
       "<tr>\n",
       "  <th>ever_married_Yes</th>            <td>    1.7067</td> <td>    0.081</td> <td>   20.970</td> <td> 0.000</td> <td>    1.547</td> <td>    1.866</td>\n",
       "</tr>\n",
       "<tr>\n",
       "  <th>gender_Male</th>                 <td>    0.1308</td> <td>    0.057</td> <td>    2.310</td> <td> 0.021</td> <td>    0.020</td> <td>    0.242</td>\n",
       "</tr>\n",
       "<tr>\n",
       "  <th>gender_Other</th>                <td>    0.6702</td> <td>    2.379</td> <td>    0.282</td> <td> 0.778</td> <td>   -3.993</td> <td>    5.333</td>\n",
       "</tr>\n",
       "<tr>\n",
       "  <th>heart_disease</th>               <td>   -0.4257</td> <td>    0.141</td> <td>   -3.013</td> <td> 0.003</td> <td>   -0.703</td> <td>   -0.149</td>\n",
       "</tr>\n",
       "<tr>\n",
       "  <th>hypertension</th>                <td>    2.2109</td> <td>    0.102</td> <td>   21.685</td> <td> 0.000</td> <td>    2.011</td> <td>    2.411</td>\n",
       "</tr>\n",
       "<tr>\n",
       "  <th>smoking_status_never smoked</th> <td>   -0.4602</td> <td>    0.067</td> <td>   -6.846</td> <td> 0.000</td> <td>   -0.592</td> <td>   -0.328</td>\n",
       "</tr>\n",
       "<tr>\n",
       "  <th>smoking_status_smokes</th>       <td>   -0.4789</td> <td>    0.088</td> <td>   -5.443</td> <td> 0.000</td> <td>   -0.651</td> <td>   -0.306</td>\n",
       "</tr>\n",
       "<tr>\n",
       "  <th>work_type_Never_worked</th>      <td>   -2.6951</td> <td>    0.436</td> <td>   -6.177</td> <td> 0.000</td> <td>   -3.550</td> <td>   -1.840</td>\n",
       "</tr>\n",
       "<tr>\n",
       "  <th>work_type_Private</th>           <td>   -0.3205</td> <td>    0.086</td> <td>   -3.711</td> <td> 0.000</td> <td>   -0.490</td> <td>   -0.151</td>\n",
       "</tr>\n",
       "<tr>\n",
       "  <th>work_type_Self-employed</th>     <td>   -0.7160</td> <td>    0.106</td> <td>   -6.726</td> <td> 0.000</td> <td>   -0.925</td> <td>   -0.507</td>\n",
       "</tr>\n",
       "<tr>\n",
       "  <th>work_type_children</th>          <td>   -8.7611</td> <td>    0.132</td> <td>  -66.154</td> <td> 0.000</td> <td>   -9.021</td> <td>   -8.502</td>\n",
       "</tr>\n",
       "</table>\n",
       "<table class=\"simpletable\">\n",
       "<tr>\n",
       "  <th>Omnibus:</th>       <td>14543.902</td> <th>  Durbin-Watson:     </th> <td>   2.015</td> \n",
       "</tr>\n",
       "<tr>\n",
       "  <th>Prob(Omnibus):</th>  <td> 0.000</td>   <th>  Jarque-Bera (JB):  </th> <td>44498.730</td>\n",
       "</tr>\n",
       "<tr>\n",
       "  <th>Skew:</th>           <td> 1.251</td>   <th>  Prob(JB):          </th> <td>    0.00</td> \n",
       "</tr>\n",
       "<tr>\n",
       "  <th>Kurtosis:</th>       <td> 6.399</td>   <th>  Cond. No.          </th> <td>1.03e+04</td> \n",
       "</tr>\n",
       "</table>"
      ],
      "text/plain": [
       "<class 'statsmodels.iolib.summary.Summary'>\n",
       "\"\"\"\n",
       "                            OLS Regression Results                            \n",
       "==============================================================================\n",
       "Dep. Variable:                    bmi   R-squared:                       0.250\n",
       "Model:                            OLS   Adj. R-squared:                  0.250\n",
       "Method:                 Least Squares   F-statistic:                     1425.\n",
       "Date:                Thu, 19 Apr 2018   Prob (F-statistic):               0.00\n",
       "Time:                        17:41:29   Log-Likelihood:            -1.9933e+05\n",
       "No. Observations:               59948   AIC:                         3.987e+05\n",
       "Df Residuals:                   59933   BIC:                         3.988e+05\n",
       "Df Model:                          14                                         \n",
       "Covariance Type:            nonrobust                                         \n",
       "===============================================================================================\n",
       "                                  coef    std err          t      P>|t|      [0.025      0.975]\n",
       "-----------------------------------------------------------------------------------------------\n",
       "const                          26.9267      0.144    187.562      0.000      26.645      27.208\n",
       "Residence_type_Urban           -0.0697      0.055     -1.267      0.205      -0.177       0.038\n",
       "age                            -0.0036      0.002     -1.748      0.081      -0.008       0.000\n",
       "avg_glucose_level               0.0233      0.001     34.389      0.000       0.022       0.025\n",
       "ever_married_Yes                1.7067      0.081     20.970      0.000       1.547       1.866\n",
       "gender_Male                     0.1308      0.057      2.310      0.021       0.020       0.242\n",
       "gender_Other                    0.6702      2.379      0.282      0.778      -3.993       5.333\n",
       "heart_disease                  -0.4257      0.141     -3.013      0.003      -0.703      -0.149\n",
       "hypertension                    2.2109      0.102     21.685      0.000       2.011       2.411\n",
       "smoking_status_never smoked    -0.4602      0.067     -6.846      0.000      -0.592      -0.328\n",
       "smoking_status_smokes          -0.4789      0.088     -5.443      0.000      -0.651      -0.306\n",
       "work_type_Never_worked         -2.6951      0.436     -6.177      0.000      -3.550      -1.840\n",
       "work_type_Private              -0.3205      0.086     -3.711      0.000      -0.490      -0.151\n",
       "work_type_Self-employed        -0.7160      0.106     -6.726      0.000      -0.925      -0.507\n",
       "work_type_children             -8.7611      0.132    -66.154      0.000      -9.021      -8.502\n",
       "==============================================================================\n",
       "Omnibus:                    14543.902   Durbin-Watson:                   2.015\n",
       "Prob(Omnibus):                  0.000   Jarque-Bera (JB):            44498.730\n",
       "Skew:                           1.251   Prob(JB):                         0.00\n",
       "Kurtosis:                       6.399   Cond. No.                     1.03e+04\n",
       "==============================================================================\n",
       "\n",
       "Warnings:\n",
       "[1] Standard Errors assume that the covariance matrix of the errors is correctly specified.\n",
       "[2] The condition number is large, 1.03e+04. This might indicate that there are\n",
       "strong multicollinearity or other numerical problems.\n",
       "\"\"\""
      ]
     },
     "execution_count": 27,
     "metadata": {},
     "output_type": "execute_result"
    }
   ],
   "source": [
    "# Check correlation of bmi with avg glucose level\n",
    "valid_rows = data[~data.bmi.isnull()]\n",
    "y = valid_rows['bmi']\n",
    "valid_rows1 = valid_rows.drop(['id','bmi'],axis=1)\n",
    "valid_rows1 = sm.add_constant(valid_rows1)\n",
    "m = sm.OLS(y,valid_rows1)\n",
    "res = m.fit()\n",
    "res.summary()"
   ]
  },
  {
   "cell_type": "code",
   "execution_count": 28,
   "metadata": {},
   "outputs": [],
   "source": [
    "missing = sm.add_constant(missing_bmi_rows)\n",
    "missing = missing.drop(['id','bmi'],axis=1)\n",
    "missing['bmi'] = res.predict(missing)"
   ]
  },
  {
   "cell_type": "code",
   "execution_count": 29,
   "metadata": {},
   "outputs": [],
   "source": [
    "data.loc[data.bmi.isnull(),'bmi'] = missing['bmi']\n",
    "df.loc[df.bmi.isnull(),'bmi'] = missing['bmi']"
   ]
  },
  {
   "cell_type": "code",
   "execution_count": 30,
   "metadata": {},
   "outputs": [
    {
     "data": {
      "text/plain": [
       "count    62001.000000\n",
       "mean        28.651647\n",
       "std          7.667054\n",
       "min         10.100000\n",
       "25%         23.400000\n",
       "50%         28.000000\n",
       "75%         32.800000\n",
       "max         97.600000\n",
       "Name: bmi, dtype: float64"
      ]
     },
     "execution_count": 30,
     "metadata": {},
     "output_type": "execute_result"
    },
    {
     "data": {
      "image/png": "[encoded data removed]",
      "text/plain": [
       "<matplotlib.figure.Figure at 0x266c3583390>"
      ]
     },
     "metadata": {},
     "output_type": "display_data"
    }
   ],
   "source": [
    "_ = sns.distplot(data.bmi)\n",
    "_ = plt.title('BMI distribution')\n",
    "data.bmi.describe()"
   ]
  },
  {
   "cell_type": "markdown",
   "metadata": {},
   "source": [
    "We see the smooth distribution which resembles the original"
   ]
  },
  {
   "cell_type": "markdown",
   "metadata": {},
   "source": [
    "**Correlations**"
   ]
  },
  {
   "cell_type": "code",
   "execution_count": 31,
   "metadata": {},
   "outputs": [
    {
     "data": {
      "text/plain": [
       "(0.19279240836754266, 0.3611044823478155)"
      ]
     },
     "execution_count": 31,
     "metadata": {},
     "output_type": "execute_result"
    }
   ],
   "source": [
    "valid_rows['bmi'].corr(valid_rows['avg_glucose_level']),valid_rows['bmi'].corr(valid_rows['age'])"
   ]
  },
  {
   "cell_type": "markdown",
   "metadata": {},
   "source": [
    "** Some numerical EDAs to quench my curiosity**"
   ]
  },
  {
   "cell_type": "code",
   "execution_count": 32,
   "metadata": {},
   "outputs": [
    {
     "data": {
      "text/html": [
       "<div>\n",
       "<style scoped>\n",
       "    .dataframe tbody tr th:only-of-type {\n",
       "        vertical-align: middle;\n",
       "    }\n",
       "\n",
       "    .dataframe tbody tr th {\n",
       "        vertical-align: top;\n",
       "    }\n",
       "\n",
       "    .dataframe thead th {\n",
       "        text-align: right;\n",
       "    }\n",
       "</style>\n",
       "<table border=\"1\" class=\"dataframe\">\n",
       "  <thead>\n",
       "    <tr style=\"text-align: right;\">\n",
       "      <th></th>\n",
       "      <th></th>\n",
       "      <th>stroke</th>\n",
       "    </tr>\n",
       "    <tr>\n",
       "      <th>gender</th>\n",
       "      <th>stroke</th>\n",
       "      <th></th>\n",
       "    </tr>\n",
       "  </thead>\n",
       "  <tbody>\n",
       "    <tr>\n",
       "      <th rowspan=\"2\" valign=\"top\">Female</th>\n",
       "      <th>0</th>\n",
       "      <td>25234</td>\n",
       "    </tr>\n",
       "    <tr>\n",
       "      <th>1</th>\n",
       "      <td>431</td>\n",
       "    </tr>\n",
       "    <tr>\n",
       "      <th rowspan=\"2\" valign=\"top\">Male</th>\n",
       "      <th>0</th>\n",
       "      <td>17372</td>\n",
       "    </tr>\n",
       "    <tr>\n",
       "      <th>1</th>\n",
       "      <td>352</td>\n",
       "    </tr>\n",
       "    <tr>\n",
       "      <th>Other</th>\n",
       "      <th>0</th>\n",
       "      <td>11</td>\n",
       "    </tr>\n",
       "  </tbody>\n",
       "</table>\n",
       "</div>"
      ],
      "text/plain": [
       "               stroke\n",
       "gender stroke        \n",
       "Female 0        25234\n",
       "       1          431\n",
       "Male   0        17372\n",
       "       1          352\n",
       "Other  0           11"
      ]
     },
     "execution_count": 32,
     "metadata": {},
     "output_type": "execute_result"
    }
   ],
   "source": [
    "pd.DataFrame(train.groupby('gender').stroke.value_counts())"
   ]
  },
  {
   "cell_type": "code",
   "execution_count": 33,
   "metadata": {},
   "outputs": [
    {
     "data": {
      "text/html": [
       "<div>\n",
       "<style scoped>\n",
       "    .dataframe tbody tr th:only-of-type {\n",
       "        vertical-align: middle;\n",
       "    }\n",
       "\n",
       "    .dataframe tbody tr th {\n",
       "        vertical-align: top;\n",
       "    }\n",
       "\n",
       "    .dataframe thead th {\n",
       "        text-align: right;\n",
       "    }\n",
       "</style>\n",
       "<table border=\"1\" class=\"dataframe\">\n",
       "  <thead>\n",
       "    <tr style=\"text-align: right;\">\n",
       "      <th></th>\n",
       "      <th></th>\n",
       "      <th>stroke</th>\n",
       "    </tr>\n",
       "    <tr>\n",
       "      <th>gender</th>\n",
       "      <th>stroke</th>\n",
       "      <th></th>\n",
       "    </tr>\n",
       "  </thead>\n",
       "  <tbody>\n",
       "    <tr>\n",
       "      <th rowspan=\"2\" valign=\"top\">Female</th>\n",
       "      <th>0</th>\n",
       "      <td>98.320670</td>\n",
       "    </tr>\n",
       "    <tr>\n",
       "      <th>1</th>\n",
       "      <td>1.679330</td>\n",
       "    </tr>\n",
       "    <tr>\n",
       "      <th rowspan=\"2\" valign=\"top\">Male</th>\n",
       "      <th>0</th>\n",
       "      <td>98.013992</td>\n",
       "    </tr>\n",
       "    <tr>\n",
       "      <th>1</th>\n",
       "      <td>1.986008</td>\n",
       "    </tr>\n",
       "    <tr>\n",
       "      <th>Other</th>\n",
       "      <th>0</th>\n",
       "      <td>100.000000</td>\n",
       "    </tr>\n",
       "  </tbody>\n",
       "</table>\n",
       "</div>"
      ],
      "text/plain": [
       "                   stroke\n",
       "gender stroke            \n",
       "Female 0        98.320670\n",
       "       1         1.679330\n",
       "Male   0        98.013992\n",
       "       1         1.986008\n",
       "Other  0       100.000000"
      ]
     },
     "execution_count": 33,
     "metadata": {},
     "output_type": "execute_result"
    }
   ],
   "source": [
    "pd.DataFrame(train.groupby('gender').stroke.value_counts()*100/train.groupby('gender').stroke.count())"
   ]
  },
  {
   "cell_type": "code",
   "execution_count": 34,
   "metadata": {},
   "outputs": [
    {
     "name": "stdout",
     "output_type": "stream",
     "text": [
      "Stroke probability by smoking status\n"
     ]
    },
    {
     "data": {
      "text/html": [
       "<div>\n",
       "<style scoped>\n",
       "    .dataframe tbody tr th:only-of-type {\n",
       "        vertical-align: middle;\n",
       "    }\n",
       "\n",
       "    .dataframe tbody tr th {\n",
       "        vertical-align: top;\n",
       "    }\n",
       "\n",
       "    .dataframe thead th {\n",
       "        text-align: right;\n",
       "    }\n",
       "</style>\n",
       "<table border=\"1\" class=\"dataframe\">\n",
       "  <thead>\n",
       "    <tr style=\"text-align: right;\">\n",
       "      <th></th>\n",
       "      <th></th>\n",
       "      <th>stroke</th>\n",
       "    </tr>\n",
       "    <tr>\n",
       "      <th>smoking_status</th>\n",
       "      <th>stroke</th>\n",
       "      <th></th>\n",
       "    </tr>\n",
       "  </thead>\n",
       "  <tbody>\n",
       "    <tr>\n",
       "      <th rowspan=\"2\" valign=\"top\">formerly smoked</th>\n",
       "      <th>0</th>\n",
       "      <td>96.940753</td>\n",
       "    </tr>\n",
       "    <tr>\n",
       "      <th>1</th>\n",
       "      <td>3.059247</td>\n",
       "    </tr>\n",
       "    <tr>\n",
       "      <th rowspan=\"2\" valign=\"top\">never smoked</th>\n",
       "      <th>0</th>\n",
       "      <td>98.753432</td>\n",
       "    </tr>\n",
       "    <tr>\n",
       "      <th>1</th>\n",
       "      <td>1.246568</td>\n",
       "    </tr>\n",
       "    <tr>\n",
       "      <th rowspan=\"2\" valign=\"top\">smokes</th>\n",
       "      <th>0</th>\n",
       "      <td>97.916993</td>\n",
       "    </tr>\n",
       "    <tr>\n",
       "      <th>1</th>\n",
       "      <td>2.083007</td>\n",
       "    </tr>\n",
       "  </tbody>\n",
       "</table>\n",
       "</div>"
      ],
      "text/plain": [
       "                           stroke\n",
       "smoking_status  stroke           \n",
       "formerly smoked 0       96.940753\n",
       "                1        3.059247\n",
       "never smoked    0       98.753432\n",
       "                1        1.246568\n",
       "smokes          0       97.916993\n",
       "                1        2.083007"
      ]
     },
     "execution_count": 34,
     "metadata": {},
     "output_type": "execute_result"
    }
   ],
   "source": [
    "print(\"Stroke probability by smoking status\")\n",
    "pd.DataFrame(train.groupby('smoking_status').stroke.value_counts()*100/train.groupby('smoking_status').stroke.count())"
   ]
  },
  {
   "cell_type": "code",
   "execution_count": 35,
   "metadata": {},
   "outputs": [
    {
     "data": {
      "text/html": [
       "<div>\n",
       "<style scoped>\n",
       "    .dataframe tbody tr th:only-of-type {\n",
       "        vertical-align: middle;\n",
       "    }\n",
       "\n",
       "    .dataframe tbody tr th {\n",
       "        vertical-align: top;\n",
       "    }\n",
       "\n",
       "    .dataframe thead th {\n",
       "        text-align: right;\n",
       "    }\n",
       "</style>\n",
       "<table border=\"1\" class=\"dataframe\">\n",
       "  <thead>\n",
       "    <tr style=\"text-align: right;\">\n",
       "      <th></th>\n",
       "      <th></th>\n",
       "      <th>stroke</th>\n",
       "    </tr>\n",
       "    <tr>\n",
       "      <th>work_type</th>\n",
       "      <th>stroke</th>\n",
       "      <th></th>\n",
       "    </tr>\n",
       "  </thead>\n",
       "  <tbody>\n",
       "    <tr>\n",
       "      <th rowspan=\"2\" valign=\"top\">Govt_job</th>\n",
       "      <th>0</th>\n",
       "      <td>5351</td>\n",
       "    </tr>\n",
       "    <tr>\n",
       "      <th>1</th>\n",
       "      <td>89</td>\n",
       "    </tr>\n",
       "    <tr>\n",
       "      <th>Never_worked</th>\n",
       "      <th>0</th>\n",
       "      <td>177</td>\n",
       "    </tr>\n",
       "    <tr>\n",
       "      <th rowspan=\"2\" valign=\"top\">Private</th>\n",
       "      <th>0</th>\n",
       "      <td>24393</td>\n",
       "    </tr>\n",
       "    <tr>\n",
       "      <th>1</th>\n",
       "      <td>441</td>\n",
       "    </tr>\n",
       "    <tr>\n",
       "      <th rowspan=\"2\" valign=\"top\">Self-employed</th>\n",
       "      <th>0</th>\n",
       "      <td>6542</td>\n",
       "    </tr>\n",
       "    <tr>\n",
       "      <th>1</th>\n",
       "      <td>251</td>\n",
       "    </tr>\n",
       "    <tr>\n",
       "      <th rowspan=\"2\" valign=\"top\">children</th>\n",
       "      <th>0</th>\n",
       "      <td>6154</td>\n",
       "    </tr>\n",
       "    <tr>\n",
       "      <th>1</th>\n",
       "      <td>2</td>\n",
       "    </tr>\n",
       "  </tbody>\n",
       "</table>\n",
       "</div>"
      ],
      "text/plain": [
       "                      stroke\n",
       "work_type     stroke        \n",
       "Govt_job      0         5351\n",
       "              1           89\n",
       "Never_worked  0          177\n",
       "Private       0        24393\n",
       "              1          441\n",
       "Self-employed 0         6542\n",
       "              1          251\n",
       "children      0         6154\n",
       "              1            2"
      ]
     },
     "execution_count": 35,
     "metadata": {},
     "output_type": "execute_result"
    }
   ],
   "source": [
    "pd.DataFrame(train.groupby('work_type').stroke.value_counts())"
   ]
  },
  {
   "cell_type": "code",
   "execution_count": 36,
   "metadata": {},
   "outputs": [
    {
     "name": "stdout",
     "output_type": "stream",
     "text": [
      "Percentage of total count of each category\n"
     ]
    },
    {
     "data": {
      "text/html": [
       "<div>\n",
       "<style scoped>\n",
       "    .dataframe tbody tr th:only-of-type {\n",
       "        vertical-align: middle;\n",
       "    }\n",
       "\n",
       "    .dataframe tbody tr th {\n",
       "        vertical-align: top;\n",
       "    }\n",
       "\n",
       "    .dataframe thead th {\n",
       "        text-align: right;\n",
       "    }\n",
       "</style>\n",
       "<table border=\"1\" class=\"dataframe\">\n",
       "  <thead>\n",
       "    <tr style=\"text-align: right;\">\n",
       "      <th></th>\n",
       "      <th></th>\n",
       "      <th>stroke</th>\n",
       "    </tr>\n",
       "    <tr>\n",
       "      <th>work_type</th>\n",
       "      <th>stroke</th>\n",
       "      <th></th>\n",
       "    </tr>\n",
       "  </thead>\n",
       "  <tbody>\n",
       "    <tr>\n",
       "      <th rowspan=\"2\" valign=\"top\">Govt_job</th>\n",
       "      <th>0</th>\n",
       "      <td>98.363971</td>\n",
       "    </tr>\n",
       "    <tr>\n",
       "      <th>1</th>\n",
       "      <td>1.636029</td>\n",
       "    </tr>\n",
       "    <tr>\n",
       "      <th>Never_worked</th>\n",
       "      <th>0</th>\n",
       "      <td>100.000000</td>\n",
       "    </tr>\n",
       "    <tr>\n",
       "      <th rowspan=\"2\" valign=\"top\">Private</th>\n",
       "      <th>0</th>\n",
       "      <td>98.224209</td>\n",
       "    </tr>\n",
       "    <tr>\n",
       "      <th>1</th>\n",
       "      <td>1.775791</td>\n",
       "    </tr>\n",
       "    <tr>\n",
       "      <th rowspan=\"2\" valign=\"top\">Self-employed</th>\n",
       "      <th>0</th>\n",
       "      <td>96.305020</td>\n",
       "    </tr>\n",
       "    <tr>\n",
       "      <th>1</th>\n",
       "      <td>3.694980</td>\n",
       "    </tr>\n",
       "    <tr>\n",
       "      <th rowspan=\"2\" valign=\"top\">children</th>\n",
       "      <th>0</th>\n",
       "      <td>99.967511</td>\n",
       "    </tr>\n",
       "    <tr>\n",
       "      <th>1</th>\n",
       "      <td>0.032489</td>\n",
       "    </tr>\n",
       "  </tbody>\n",
       "</table>\n",
       "</div>"
      ],
      "text/plain": [
       "                          stroke\n",
       "work_type     stroke            \n",
       "Govt_job      0        98.363971\n",
       "              1         1.636029\n",
       "Never_worked  0       100.000000\n",
       "Private       0        98.224209\n",
       "              1         1.775791\n",
       "Self-employed 0        96.305020\n",
       "              1         3.694980\n",
       "children      0        99.967511\n",
       "              1         0.032489"
      ]
     },
     "execution_count": 36,
     "metadata": {},
     "output_type": "execute_result"
    }
   ],
   "source": [
    "print(\"Percentage of total count of each category\")\n",
    "pd.DataFrame(train.groupby('work_type').stroke.value_counts()*100/train.groupby('work_type').stroke.count())"
   ]
  },
  {
   "cell_type": "markdown",
   "metadata": {},
   "source": [
    "## Predictive Modeling"
   ]
  },
  {
   "cell_type": "markdown",
   "metadata": {},
   "source": [
    "**First Question:** Which model to use?        \n",
    "**Answer:** Almost all cases, try plain logistic regression first\n",
    "    "
   ]
  },
  {
   "cell_type": "code",
   "execution_count": 37,
   "metadata": {},
   "outputs": [
    {
     "name": "stderr",
     "output_type": "stream",
     "text": [
      "C:\\Users\\Aparn\\Anaconda3\\lib\\site-packages\\sklearn\\cross_validation.py:41: DeprecationWarning: This module was deprecated in version 0.18 in favor of the model_selection module into which all the refactored classes and functions are moved. Also note that the interface of the new CV iterators are different from that of this module. This module will be removed in 0.20.\n",
      "  \"This module will be removed in 0.20.\", DeprecationWarning)\n",
      "C:\\Users\\Aparn\\Anaconda3\\lib\\site-packages\\sklearn\\grid_search.py:42: DeprecationWarning: This module was deprecated in version 0.18 in favor of the model_selection module into which all the refactored classes and functions are moved. This module will be removed in 0.20.\n",
      "  DeprecationWarning)\n"
     ]
    }
   ],
   "source": [
    "# Import Machine learning libraries\n",
    "from sklearn.linear_model import LogisticRegression\n",
    "from sklearn.ensemble import RandomForestClassifier\n",
    "import xgboost as xgb\n",
    "from sklearn.cross_validation import train_test_split\n",
    "from sklearn.metrics import classification_report,confusion_matrix,accuracy_score \n",
    "from sklearn.metrics import average_precision_score,f1_score,roc_curve,auc\n",
    "from sklearn.model_selection import cross_val_score\n",
    "from sklearn.grid_search import GridSearchCV\n",
    "\n",
    "#------------------------------------------------------------------------------#\n",
    "# Function to plot ROC and find area under ROC                                 #\n",
    "#------------------------------------------------------------------------------#\n",
    "def find_auc_score(clf,Xin,yin,color='g',name='LogReg',label=1,prob=1) :\n",
    "    '''Function to plot Receiver characteristics and find AUC'''\n",
    "    if prob == 1:\n",
    "        yscore = clf.predict_proba(Xin)\n",
    "    else :\n",
    "        yscore = clf.decision_function(Xin)\n",
    "    false_positive_rate, true_positive_rate, thresholds = roc_curve(yin, yscore[:,label],pos_label=label)\n",
    "    roc_auc = auc(false_positive_rate, true_positive_rate)\n",
    "    plt.title('Receiver Operating Characteristic')\n",
    "    plt.plot(false_positive_rate, true_positive_rate,color ,label='AUC '+name+' = %0.6f'% roc_auc)\n",
    "    plt.legend(loc='lower right')\n",
    "    plt.plot([0,1],[0,1],'r--')\n",
    "    plt.ylabel('True Positive Rate')\n",
    "    plt.xlabel('False Positive Rate')\n",
    "    return roc_auc\n",
    "\n",
    "def cv_optimize(clf, parameters, X, y, n_jobs=1, n_folds=5, score_func=None):\n",
    "    if score_func:\n",
    "        gs = GridSearchCV(clf, param_grid=parameters, cv=n_folds, n_jobs=n_jobs, scoring=score_func)\n",
    "    else:\n",
    "        gs = GridSearchCV(clf, param_grid=parameters, n_jobs=n_jobs, cv=n_folds)\n",
    "    gs.fit(X, y)\n",
    "    print(\"BEST\", gs.best_params_, gs.best_score_, gs.grid_scores_)\n",
    "    best = gs.best_estimator_\n",
    "    return best\n",
    "\n",
    "def pre_process_Xy(Xarray,yarray,test_dev_split_size=0.2) :\n",
    "    '''Function to split given data into test and (train, dev) set'''\n",
    "    Xtr,Xdev,ytr,ydev = train_test_split(Xarray,yarray,test_size=test_dev_split_size,random_state=42,stratify=yarray)\n",
    "    return Xtr,Xdev,ytr,ydev\n",
    "\n",
    "def do_classify(clf, parameters, Xtr,ytr,Xdev,ydev, score_func='roc_auc', n_folds=5, n_jobs=2,model_name='LogReg',label=1,prob_dec=1,print_detail=1):\n",
    "\n",
    "    if parameters:\n",
    "        clf = cv_optimize(clf, parameters, Xtr, ytr, n_jobs=n_jobs, n_folds=n_folds, score_func=score_func)\n",
    "    clf=clf.fit(Xtr, ytr)\n",
    "    training_accuracy = clf.score(Xtr, ytr)\n",
    "    test_accuracy = clf.score(Xdev, ydev)\n",
    "    ypred =  clf.predict(Xdev)\n",
    "    find_auc_score(clf,Xtr,ytr,color='orange',name=model_name+\"_Train\",label=1,prob=1)\n",
    "    find_auc_score(clf,Xdev,ydev,color='g',name=model_name+\"_Dev\",label=1,prob=1)\n",
    "    print(\"############# \" + model_name+\" ################\")\n",
    "    print(\"Accuracy on training data: %0.2f\" % (100*training_accuracy)+'%')\n",
    "    print(\"Accuracy on test data:     %0.2f\" % (100*test_accuracy)+'%')\n",
    "    if print_detail == 1 :\n",
    "        print(\"confusion_matrix on dev data\")\n",
    "        print(confusion_matrix(ydev,ypred))\n",
    "        print(\"classification report on dev data\")\n",
    "        print(classification_report(ydev,ypred))\n",
    "        print(\"########################################################\")\n",
    "    else :\n",
    "        print(\"f1 score:  %0.2f\" % f1_score(ydev,ypred,average=\"weighted\"))\n",
    "    return clf"
   ]
  },
  {
   "cell_type": "code",
   "execution_count": 38,
   "metadata": {},
   "outputs": [],
   "source": [
    "# Generate features\n",
    "data['former_smoker'] = 0\n",
    "data.loc[df['smoking_status']=='formerly smoked','former_smoker'] = 1\n",
    "data['heart_dis_smoke'] = data['heart_disease'] & (data['smoking_status_smokes'] | data['former_smoker'])\n",
    "data['hyp_tension_smoke'] = data['hypertension'] & (data['smoking_status_smokes'] | data['former_smoker'])"
   ]
  },
  {
   "cell_type": "code",
   "execution_count": 39,
   "metadata": {},
   "outputs": [],
   "source": [
    "y = train.stroke\n",
    "X = data.iloc[:train.shape[0],:].drop('id',axis=1)\n",
    "# Standardization. Remember to do the same with test\n",
    "X.loc[:,['age','avg_glucose_level', 'bmi']] = X.loc[:,['age','avg_glucose_level', 'bmi']].transform(lambda x: (x - x.mean()) / x.std())"
   ]
  },
  {
   "cell_type": "code",
   "execution_count": 40,
   "metadata": {},
   "outputs": [
    {
     "data": {
      "text/plain": [
       "<matplotlib.axes._subplots.AxesSubplot at 0x266c3523128>"
      ]
     },
     "execution_count": 40,
     "metadata": {},
     "output_type": "execute_result"
    },
    {
     "data": {
      "image/png": "[encoded data removed]",
      "text/plain": [
       "<matplotlib.figure.Figure at 0x266c344c2e8>"
      ]
     },
     "metadata": {},
     "output_type": "display_data"
    }
   ],
   "source": [
    "# Plotting correlation for top 10 features\n",
    "# Ref : https://matplotlib.org/examples/color/colormaps_reference.html for colormap\n",
    "_ = plt.figure(figsize=(16,12))\n",
    "mask = np.zeros_like(X.corr(), dtype=np.bool)\n",
    "mask[np.triu_indices_from(mask)] = True\n",
    "sns.heatmap(X.corr(),mask=mask,cmap='bwr')"
   ]
  },
  {
   "cell_type": "markdown",
   "metadata": {},
   "source": [
    "Intentionally retained the features with correlations. Dropping them has degraded the performance"
   ]
  },
  {
   "cell_type": "code",
   "execution_count": 41,
   "metadata": {},
   "outputs": [
    {
     "data": {
      "text/html": [
       "<div>\n",
       "<style scoped>\n",
       "    .dataframe tbody tr th:only-of-type {\n",
       "        vertical-align: middle;\n",
       "    }\n",
       "\n",
       "    .dataframe tbody tr th {\n",
       "        vertical-align: top;\n",
       "    }\n",
       "\n",
       "    .dataframe thead th {\n",
       "        text-align: right;\n",
       "    }\n",
       "</style>\n",
       "<table border=\"1\" class=\"dataframe\">\n",
       "  <thead>\n",
       "    <tr style=\"text-align: right;\">\n",
       "      <th></th>\n",
       "      <th>Residence_type_Urban</th>\n",
       "      <th>age</th>\n",
       "      <th>avg_glucose_level</th>\n",
       "      <th>bmi</th>\n",
       "      <th>ever_married_Yes</th>\n",
       "      <th>gender_Male</th>\n",
       "      <th>gender_Other</th>\n",
       "      <th>heart_disease</th>\n",
       "      <th>hypertension</th>\n",
       "      <th>smoking_status_never smoked</th>\n",
       "      <th>smoking_status_smokes</th>\n",
       "      <th>work_type_Never_worked</th>\n",
       "      <th>work_type_Private</th>\n",
       "      <th>work_type_Self-employed</th>\n",
       "      <th>work_type_children</th>\n",
       "      <th>former_smoker</th>\n",
       "      <th>heart_dis_smoke</th>\n",
       "      <th>hyp_tension_smoke</th>\n",
       "    </tr>\n",
       "  </thead>\n",
       "  <tbody>\n",
       "    <tr>\n",
       "      <th>Residence_type_Urban</th>\n",
       "      <td>1.000000</td>\n",
       "      <td>0.001299</td>\n",
       "      <td>0.000014</td>\n",
       "      <td>-0.003869</td>\n",
       "      <td>0.004422</td>\n",
       "      <td>0.001606</td>\n",
       "      <td>-0.001489</td>\n",
       "      <td>-0.002743</td>\n",
       "      <td>-0.003124</td>\n",
       "      <td>-0.001117</td>\n",
       "      <td>0.009791</td>\n",
       "      <td>0.003089</td>\n",
       "      <td>0.006050</td>\n",
       "      <td>-0.007136</td>\n",
       "      <td>-0.001578</td>\n",
       "      <td>-0.004288</td>\n",
       "      <td>0.001369</td>\n",
       "      <td>0.001558</td>\n",
       "    </tr>\n",
       "    <tr>\n",
       "      <th>age</th>\n",
       "      <td>0.001299</td>\n",
       "      <td>1.000000</td>\n",
       "      <td>0.237627</td>\n",
       "      <td>0.363201</td>\n",
       "      <td>0.693070</td>\n",
       "      <td>-0.027603</td>\n",
       "      <td>-0.005168</td>\n",
       "      <td>0.250188</td>\n",
       "      <td>0.272169</td>\n",
       "      <td>-0.371814</td>\n",
       "      <td>0.093665</td>\n",
       "      <td>-0.069509</td>\n",
       "      <td>0.143657</td>\n",
       "      <td>0.326913</td>\n",
       "      <td>-0.641240</td>\n",
       "      <td>0.244646</td>\n",
       "      <td>0.172573</td>\n",
       "      <td>0.176734</td>\n",
       "    </tr>\n",
       "    <tr>\n",
       "      <th>avg_glucose_level</th>\n",
       "      <td>0.000014</td>\n",
       "      <td>0.237627</td>\n",
       "      <td>1.000000</td>\n",
       "      <td>0.198846</td>\n",
       "      <td>0.153607</td>\n",
       "      <td>0.035888</td>\n",
       "      <td>-0.005841</td>\n",
       "      <td>0.146938</td>\n",
       "      <td>0.160211</td>\n",
       "      <td>-0.077058</td>\n",
       "      <td>0.029340</td>\n",
       "      <td>-0.014516</td>\n",
       "      <td>0.008048</td>\n",
       "      <td>0.080246</td>\n",
       "      <td>-0.114174</td>\n",
       "      <td>0.075054</td>\n",
       "      <td>0.103088</td>\n",
       "      <td>0.115329</td>\n",
       "    </tr>\n",
       "    <tr>\n",
       "      <th>bmi</th>\n",
       "      <td>-0.003869</td>\n",
       "      <td>0.363201</td>\n",
       "      <td>0.198846</td>\n",
       "      <td>1.000000</td>\n",
       "      <td>0.346504</td>\n",
       "      <td>-0.019263</td>\n",
       "      <td>-0.000364</td>\n",
       "      <td>0.060992</td>\n",
       "      <td>0.167741</td>\n",
       "      <td>-0.216079</td>\n",
       "      <td>0.078012</td>\n",
       "      <td>-0.022168</td>\n",
       "      <td>0.203584</td>\n",
       "      <td>0.084600</td>\n",
       "      <td>-0.463478</td>\n",
       "      <td>0.122651</td>\n",
       "      <td>0.044977</td>\n",
       "      <td>0.099599</td>\n",
       "    </tr>\n",
       "    <tr>\n",
       "      <th>ever_married_Yes</th>\n",
       "      <td>0.004422</td>\n",
       "      <td>0.693070</td>\n",
       "      <td>0.153607</td>\n",
       "      <td>0.346504</td>\n",
       "      <td>1.000000</td>\n",
       "      <td>-0.030982</td>\n",
       "      <td>-0.006290</td>\n",
       "      <td>0.128833</td>\n",
       "      <td>0.176575</td>\n",
       "      <td>-0.326474</td>\n",
       "      <td>0.121399</td>\n",
       "      <td>-0.080734</td>\n",
       "      <td>0.158857</td>\n",
       "      <td>0.199305</td>\n",
       "      <td>-0.546495</td>\n",
       "      <td>0.172053</td>\n",
       "      <td>0.095895</td>\n",
       "      <td>0.116245</td>\n",
       "    </tr>\n",
       "    <tr>\n",
       "      <th>gender_Male</th>\n",
       "      <td>0.001606</td>\n",
       "      <td>-0.027603</td>\n",
       "      <td>0.035888</td>\n",
       "      <td>-0.019263</td>\n",
       "      <td>-0.030982</td>\n",
       "      <td>1.000000</td>\n",
       "      <td>-0.013229</td>\n",
       "      <td>0.082393</td>\n",
       "      <td>0.024070</td>\n",
       "      <td>-0.038091</td>\n",
       "      <td>0.027717</td>\n",
       "      <td>0.002733</td>\n",
       "      <td>-0.052100</td>\n",
       "      <td>-0.002732</td>\n",
       "      <td>0.089076</td>\n",
       "      <td>0.038444</td>\n",
       "      <td>0.076460</td>\n",
       "      <td>0.045163</td>\n",
       "    </tr>\n",
       "    <tr>\n",
       "      <th>gender_Other</th>\n",
       "      <td>-0.001489</td>\n",
       "      <td>-0.005168</td>\n",
       "      <td>-0.005841</td>\n",
       "      <td>-0.000364</td>\n",
       "      <td>-0.006290</td>\n",
       "      <td>-0.013229</td>\n",
       "      <td>1.000000</td>\n",
       "      <td>-0.003556</td>\n",
       "      <td>-0.005116</td>\n",
       "      <td>-0.002363</td>\n",
       "      <td>-0.002527</td>\n",
       "      <td>-0.001019</td>\n",
       "      <td>0.002065</td>\n",
       "      <td>-0.006859</td>\n",
       "      <td>0.001824</td>\n",
       "      <td>0.015706</td>\n",
       "      <td>-0.002536</td>\n",
       "      <td>-0.003293</td>\n",
       "    </tr>\n",
       "    <tr>\n",
       "      <th>heart_disease</th>\n",
       "      <td>-0.002743</td>\n",
       "      <td>0.250188</td>\n",
       "      <td>0.146938</td>\n",
       "      <td>0.060992</td>\n",
       "      <td>0.128833</td>\n",
       "      <td>0.082393</td>\n",
       "      <td>-0.003556</td>\n",
       "      <td>1.000000</td>\n",
       "      <td>0.119777</td>\n",
       "      <td>-0.104598</td>\n",
       "      <td>0.037806</td>\n",
       "      <td>-0.014292</td>\n",
       "      <td>-0.006327</td>\n",
       "      <td>0.099342</td>\n",
       "      <td>-0.089559</td>\n",
       "      <td>0.083395</td>\n",
       "      <td>0.713229</td>\n",
       "      <td>0.105641</td>\n",
       "    </tr>\n",
       "    <tr>\n",
       "      <th>hypertension</th>\n",
       "      <td>-0.003124</td>\n",
       "      <td>0.272169</td>\n",
       "      <td>0.160211</td>\n",
       "      <td>0.167741</td>\n",
       "      <td>0.176575</td>\n",
       "      <td>0.024070</td>\n",
       "      <td>-0.005116</td>\n",
       "      <td>0.119777</td>\n",
       "      <td>1.000000</td>\n",
       "      <td>-0.062575</td>\n",
       "      <td>0.030945</td>\n",
       "      <td>-0.019319</td>\n",
       "      <td>0.007236</td>\n",
       "      <td>0.100243</td>\n",
       "      <td>-0.130171</td>\n",
       "      <td>0.071775</td>\n",
       "      <td>0.090399</td>\n",
       "      <td>0.643656</td>\n",
       "    </tr>\n",
       "    <tr>\n",
       "      <th>smoking_status_never smoked</th>\n",
       "      <td>-0.001117</td>\n",
       "      <td>-0.371814</td>\n",
       "      <td>-0.077058</td>\n",
       "      <td>-0.216079</td>\n",
       "      <td>-0.326474</td>\n",
       "      <td>-0.038091</td>\n",
       "      <td>-0.002363</td>\n",
       "      <td>-0.104598</td>\n",
       "      <td>-0.062575</td>\n",
       "      <td>1.000000</td>\n",
       "      <td>-0.439841</td>\n",
       "      <td>0.049562</td>\n",
       "      <td>-0.152376</td>\n",
       "      <td>-0.102907</td>\n",
       "      <td>0.383899</td>\n",
       "      <td>-0.450921</td>\n",
       "      <td>-0.168695</td>\n",
       "      <td>-0.219010</td>\n",
       "    </tr>\n",
       "    <tr>\n",
       "      <th>smoking_status_smokes</th>\n",
       "      <td>0.009791</td>\n",
       "      <td>0.093665</td>\n",
       "      <td>0.029340</td>\n",
       "      <td>0.078012</td>\n",
       "      <td>0.121399</td>\n",
       "      <td>0.027717</td>\n",
       "      <td>-0.002527</td>\n",
       "      <td>0.037806</td>\n",
       "      <td>0.030945</td>\n",
       "      <td>-0.439841</td>\n",
       "      <td>1.000000</td>\n",
       "      <td>-0.025557</td>\n",
       "      <td>0.092350</td>\n",
       "      <td>0.013000</td>\n",
       "      <td>-0.168855</td>\n",
       "      <td>-0.189727</td>\n",
       "      <td>0.112631</td>\n",
       "      <td>0.155508</td>\n",
       "    </tr>\n",
       "    <tr>\n",
       "      <th>work_type_Never_worked</th>\n",
       "      <td>0.003089</td>\n",
       "      <td>-0.069509</td>\n",
       "      <td>-0.014516</td>\n",
       "      <td>-0.022168</td>\n",
       "      <td>-0.080734</td>\n",
       "      <td>0.002733</td>\n",
       "      <td>-0.001019</td>\n",
       "      <td>-0.014292</td>\n",
       "      <td>-0.019319</td>\n",
       "      <td>0.049562</td>\n",
       "      <td>-0.025557</td>\n",
       "      <td>1.000000</td>\n",
       "      <td>-0.074011</td>\n",
       "      <td>-0.027566</td>\n",
       "      <td>-0.026017</td>\n",
       "      <td>-0.020623</td>\n",
       "      <td>-0.010194</td>\n",
       "      <td>-0.011411</td>\n",
       "    </tr>\n",
       "    <tr>\n",
       "      <th>work_type_Private</th>\n",
       "      <td>0.006050</td>\n",
       "      <td>0.143657</td>\n",
       "      <td>0.008048</td>\n",
       "      <td>0.203584</td>\n",
       "      <td>0.158857</td>\n",
       "      <td>-0.052100</td>\n",
       "      <td>0.002065</td>\n",
       "      <td>-0.006327</td>\n",
       "      <td>0.007236</td>\n",
       "      <td>-0.152376</td>\n",
       "      <td>0.092350</td>\n",
       "      <td>-0.074011</td>\n",
       "      <td>1.000000</td>\n",
       "      <td>-0.498211</td>\n",
       "      <td>-0.470203</td>\n",
       "      <td>0.042070</td>\n",
       "      <td>-0.004064</td>\n",
       "      <td>0.007388</td>\n",
       "    </tr>\n",
       "    <tr>\n",
       "      <th>work_type_Self-employed</th>\n",
       "      <td>-0.007136</td>\n",
       "      <td>0.326913</td>\n",
       "      <td>0.080246</td>\n",
       "      <td>0.084600</td>\n",
       "      <td>0.199305</td>\n",
       "      <td>-0.002732</td>\n",
       "      <td>-0.006859</td>\n",
       "      <td>0.099342</td>\n",
       "      <td>0.100243</td>\n",
       "      <td>-0.102907</td>\n",
       "      <td>0.013000</td>\n",
       "      <td>-0.027566</td>\n",
       "      <td>-0.498211</td>\n",
       "      <td>1.000000</td>\n",
       "      <td>-0.175134</td>\n",
       "      <td>0.081744</td>\n",
       "      <td>0.067311</td>\n",
       "      <td>0.059280</td>\n",
       "    </tr>\n",
       "    <tr>\n",
       "      <th>work_type_children</th>\n",
       "      <td>-0.001578</td>\n",
       "      <td>-0.641240</td>\n",
       "      <td>-0.114174</td>\n",
       "      <td>-0.463478</td>\n",
       "      <td>-0.546495</td>\n",
       "      <td>0.089076</td>\n",
       "      <td>0.001824</td>\n",
       "      <td>-0.089559</td>\n",
       "      <td>-0.130171</td>\n",
       "      <td>0.383899</td>\n",
       "      <td>-0.168855</td>\n",
       "      <td>-0.026017</td>\n",
       "      <td>-0.470203</td>\n",
       "      <td>-0.175134</td>\n",
       "      <td>1.000000</td>\n",
       "      <td>-0.167547</td>\n",
       "      <td>-0.064762</td>\n",
       "      <td>-0.084078</td>\n",
       "    </tr>\n",
       "    <tr>\n",
       "      <th>former_smoker</th>\n",
       "      <td>-0.004288</td>\n",
       "      <td>0.244646</td>\n",
       "      <td>0.075054</td>\n",
       "      <td>0.122651</td>\n",
       "      <td>0.172053</td>\n",
       "      <td>0.038444</td>\n",
       "      <td>0.015706</td>\n",
       "      <td>0.083395</td>\n",
       "      <td>0.071775</td>\n",
       "      <td>-0.450921</td>\n",
       "      <td>-0.189727</td>\n",
       "      <td>-0.020623</td>\n",
       "      <td>0.042070</td>\n",
       "      <td>0.081744</td>\n",
       "      <td>-0.167547</td>\n",
       "      <td>1.000000</td>\n",
       "      <td>0.181137</td>\n",
       "      <td>0.226460</td>\n",
       "    </tr>\n",
       "    <tr>\n",
       "      <th>heart_dis_smoke</th>\n",
       "      <td>0.001369</td>\n",
       "      <td>0.172573</td>\n",
       "      <td>0.103088</td>\n",
       "      <td>0.044977</td>\n",
       "      <td>0.095895</td>\n",
       "      <td>0.076460</td>\n",
       "      <td>-0.002536</td>\n",
       "      <td>0.713229</td>\n",
       "      <td>0.090399</td>\n",
       "      <td>-0.168695</td>\n",
       "      <td>0.112631</td>\n",
       "      <td>-0.010194</td>\n",
       "      <td>-0.004064</td>\n",
       "      <td>0.067311</td>\n",
       "      <td>-0.064762</td>\n",
       "      <td>0.181137</td>\n",
       "      <td>1.000000</td>\n",
       "      <td>0.174964</td>\n",
       "    </tr>\n",
       "    <tr>\n",
       "      <th>hyp_tension_smoke</th>\n",
       "      <td>0.001558</td>\n",
       "      <td>0.176734</td>\n",
       "      <td>0.115329</td>\n",
       "      <td>0.099599</td>\n",
       "      <td>0.116245</td>\n",
       "      <td>0.045163</td>\n",
       "      <td>-0.003293</td>\n",
       "      <td>0.105641</td>\n",
       "      <td>0.643656</td>\n",
       "      <td>-0.219010</td>\n",
       "      <td>0.155508</td>\n",
       "      <td>-0.011411</td>\n",
       "      <td>0.007388</td>\n",
       "      <td>0.059280</td>\n",
       "      <td>-0.084078</td>\n",
       "      <td>0.226460</td>\n",
       "      <td>0.174964</td>\n",
       "      <td>1.000000</td>\n",
       "    </tr>\n",
       "  </tbody>\n",
       "</table>\n",
       "</div>"
      ],
      "text/plain": [
       "                             Residence_type_Urban       age  \\\n",
       "Residence_type_Urban                     1.000000  0.001299   \n",
       "age                                      0.001299  1.000000   \n",
       "avg_glucose_level                        0.000014  0.237627   \n",
       "bmi                                     -0.003869  0.363201   \n",
       "ever_married_Yes                         0.004422  0.693070   \n",
       "gender_Male                              0.001606 -0.027603   \n",
       "gender_Other                            -0.001489 -0.005168   \n",
       "heart_disease                           -0.002743  0.250188   \n",
       "hypertension                            -0.003124  0.272169   \n",
       "smoking_status_never smoked             -0.001117 -0.371814   \n",
       "smoking_status_smokes                    0.009791  0.093665   \n",
       "work_type_Never_worked                   0.003089 -0.069509   \n",
       "work_type_Private                        0.006050  0.143657   \n",
       "work_type_Self-employed                 -0.007136  0.326913   \n",
       "work_type_children                      -0.001578 -0.641240   \n",
       "former_smoker                           -0.004288  0.244646   \n",
       "heart_dis_smoke                          0.001369  0.172573   \n",
       "hyp_tension_smoke                        0.001558  0.176734   \n",
       "\n",
       "                             avg_glucose_level       bmi  ever_married_Yes  \\\n",
       "Residence_type_Urban                  0.000014 -0.003869          0.004422   \n",
       "age                                   0.237627  0.363201          0.693070   \n",
       "avg_glucose_level                     1.000000  0.198846          0.153607   \n",
       "bmi                                   0.198846  1.000000          0.346504   \n",
       "ever_married_Yes                      0.153607  0.346504          1.000000   \n",
       "gender_Male                           0.035888 -0.019263         -0.030982   \n",
       "gender_Other                         -0.005841 -0.000364         -0.006290   \n",
       "heart_disease                         0.146938  0.060992          0.128833   \n",
       "hypertension                          0.160211  0.167741          0.176575   \n",
       "smoking_status_never smoked          -0.077058 -0.216079         -0.326474   \n",
       "smoking_status_smokes                 0.029340  0.078012          0.121399   \n",
       "work_type_Never_worked               -0.014516 -0.022168         -0.080734   \n",
       "work_type_Private                     0.008048  0.203584          0.158857   \n",
       "work_type_Self-employed               0.080246  0.084600          0.199305   \n",
       "work_type_children                   -0.114174 -0.463478         -0.546495   \n",
       "former_smoker                         0.075054  0.122651          0.172053   \n",
       "heart_dis_smoke                       0.103088  0.044977          0.095895   \n",
       "hyp_tension_smoke                     0.115329  0.099599          0.116245   \n",
       "\n",
       "                             gender_Male  gender_Other  heart_disease  \\\n",
       "Residence_type_Urban            0.001606     -0.001489      -0.002743   \n",
       "age                            -0.027603     -0.005168       0.250188   \n",
       "avg_glucose_level               0.035888     -0.005841       0.146938   \n",
       "bmi                            -0.019263     -0.000364       0.060992   \n",
       "ever_married_Yes               -0.030982     -0.006290       0.128833   \n",
       "gender_Male                     1.000000     -0.013229       0.082393   \n",
       "gender_Other                   -0.013229      1.000000      -0.003556   \n",
       "heart_disease                   0.082393     -0.003556       1.000000   \n",
       "hypertension                    0.024070     -0.005116       0.119777   \n",
       "smoking_status_never smoked    -0.038091     -0.002363      -0.104598   \n",
       "smoking_status_smokes           0.027717     -0.002527       0.037806   \n",
       "work_type_Never_worked          0.002733     -0.001019      -0.014292   \n",
       "work_type_Private              -0.052100      0.002065      -0.006327   \n",
       "work_type_Self-employed        -0.002732     -0.006859       0.099342   \n",
       "work_type_children              0.089076      0.001824      -0.089559   \n",
       "former_smoker                   0.038444      0.015706       0.083395   \n",
       "heart_dis_smoke                 0.076460     -0.002536       0.713229   \n",
       "hyp_tension_smoke               0.045163     -0.003293       0.105641   \n",
       "\n",
       "                             hypertension  smoking_status_never smoked  \\\n",
       "Residence_type_Urban            -0.003124                    -0.001117   \n",
       "age                              0.272169                    -0.371814   \n",
       "avg_glucose_level                0.160211                    -0.077058   \n",
       "bmi                              0.167741                    -0.216079   \n",
       "ever_married_Yes                 0.176575                    -0.326474   \n",
       "gender_Male                      0.024070                    -0.038091   \n",
       "gender_Other                    -0.005116                    -0.002363   \n",
       "heart_disease                    0.119777                    -0.104598   \n",
       "hypertension                     1.000000                    -0.062575   \n",
       "smoking_status_never smoked     -0.062575                     1.000000   \n",
       "smoking_status_smokes            0.030945                    -0.439841   \n",
       "work_type_Never_worked          -0.019319                     0.049562   \n",
       "work_type_Private                0.007236                    -0.152376   \n",
       "work_type_Self-employed          0.100243                    -0.102907   \n",
       "work_type_children              -0.130171                     0.383899   \n",
       "former_smoker                    0.071775                    -0.450921   \n",
       "heart_dis_smoke                  0.090399                    -0.168695   \n",
       "hyp_tension_smoke                0.643656                    -0.219010   \n",
       "\n",
       "                             smoking_status_smokes  work_type_Never_worked  \\\n",
       "Residence_type_Urban                      0.009791                0.003089   \n",
       "age                                       0.093665               -0.069509   \n",
       "avg_glucose_level                         0.029340               -0.014516   \n",
       "bmi                                       0.078012               -0.022168   \n",
       "ever_married_Yes                          0.121399               -0.080734   \n",
       "gender_Male                               0.027717                0.002733   \n",
       "gender_Other                             -0.002527               -0.001019   \n",
       "heart_disease                             0.037806               -0.014292   \n",
       "hypertension                              0.030945               -0.019319   \n",
       "smoking_status_never smoked              -0.439841                0.049562   \n",
       "smoking_status_smokes                     1.000000               -0.025557   \n",
       "work_type_Never_worked                   -0.025557                1.000000   \n",
       "work_type_Private                         0.092350               -0.074011   \n",
       "work_type_Self-employed                   0.013000               -0.027566   \n",
       "work_type_children                       -0.168855               -0.026017   \n",
       "former_smoker                            -0.189727               -0.020623   \n",
       "heart_dis_smoke                           0.112631               -0.010194   \n",
       "hyp_tension_smoke                         0.155508               -0.011411   \n",
       "\n",
       "                             work_type_Private  work_type_Self-employed  \\\n",
       "Residence_type_Urban                  0.006050                -0.007136   \n",
       "age                                   0.143657                 0.326913   \n",
       "avg_glucose_level                     0.008048                 0.080246   \n",
       "bmi                                   0.203584                 0.084600   \n",
       "ever_married_Yes                      0.158857                 0.199305   \n",
       "gender_Male                          -0.052100                -0.002732   \n",
       "gender_Other                          0.002065                -0.006859   \n",
       "heart_disease                        -0.006327                 0.099342   \n",
       "hypertension                          0.007236                 0.100243   \n",
       "smoking_status_never smoked          -0.152376                -0.102907   \n",
       "smoking_status_smokes                 0.092350                 0.013000   \n",
       "work_type_Never_worked               -0.074011                -0.027566   \n",
       "work_type_Private                     1.000000                -0.498211   \n",
       "work_type_Self-employed              -0.498211                 1.000000   \n",
       "work_type_children                   -0.470203                -0.175134   \n",
       "former_smoker                         0.042070                 0.081744   \n",
       "heart_dis_smoke                      -0.004064                 0.067311   \n",
       "hyp_tension_smoke                     0.007388                 0.059280   \n",
       "\n",
       "                             work_type_children  former_smoker  \\\n",
       "Residence_type_Urban                  -0.001578      -0.004288   \n",
       "age                                   -0.641240       0.244646   \n",
       "avg_glucose_level                     -0.114174       0.075054   \n",
       "bmi                                   -0.463478       0.122651   \n",
       "ever_married_Yes                      -0.546495       0.172053   \n",
       "gender_Male                            0.089076       0.038444   \n",
       "gender_Other                           0.001824       0.015706   \n",
       "heart_disease                         -0.089559       0.083395   \n",
       "hypertension                          -0.130171       0.071775   \n",
       "smoking_status_never smoked            0.383899      -0.450921   \n",
       "smoking_status_smokes                 -0.168855      -0.189727   \n",
       "work_type_Never_worked                -0.026017      -0.020623   \n",
       "work_type_Private                     -0.470203       0.042070   \n",
       "work_type_Self-employed               -0.175134       0.081744   \n",
       "work_type_children                     1.000000      -0.167547   \n",
       "former_smoker                         -0.167547       1.000000   \n",
       "heart_dis_smoke                       -0.064762       0.181137   \n",
       "hyp_tension_smoke                     -0.084078       0.226460   \n",
       "\n",
       "                             heart_dis_smoke  hyp_tension_smoke  \n",
       "Residence_type_Urban                0.001369           0.001558  \n",
       "age                                 0.172573           0.176734  \n",
       "avg_glucose_level                   0.103088           0.115329  \n",
       "bmi                                 0.044977           0.099599  \n",
       "ever_married_Yes                    0.095895           0.116245  \n",
       "gender_Male                         0.076460           0.045163  \n",
       "gender_Other                       -0.002536          -0.003293  \n",
       "heart_disease                       0.713229           0.105641  \n",
       "hypertension                        0.090399           0.643656  \n",
       "smoking_status_never smoked        -0.168695          -0.219010  \n",
       "smoking_status_smokes               0.112631           0.155508  \n",
       "work_type_Never_worked             -0.010194          -0.011411  \n",
       "work_type_Private                  -0.004064           0.007388  \n",
       "work_type_Self-employed             0.067311           0.059280  \n",
       "work_type_children                 -0.064762          -0.084078  \n",
       "former_smoker                       0.181137           0.226460  \n",
       "heart_dis_smoke                     1.000000           0.174964  \n",
       "hyp_tension_smoke                   0.174964           1.000000  "
      ]
     },
     "execution_count": 41,
     "metadata": {},
     "output_type": "execute_result"
    }
   ],
   "source": [
    "X.corr()"
   ]
  },
  {
   "cell_type": "markdown",
   "metadata": {},
   "source": [
    "#### Principal Component Analysis\n",
    "+ Good habit to carry out this in any problem\n",
    "+ Helps in understanding the separation, in a classification problem\n",
    "+ If they are well distinguishable in 2-D plane, they are definitely better in higher dimensions."
   ]
  },
  {
   "cell_type": "code",
   "execution_count": 42,
   "metadata": {},
   "outputs": [
    {
     "name": "stdout",
     "output_type": "stream",
     "text": [
      "Percentage Variance: [3.553e+01 1.751e+01 1.374e+01 6.180e+00 5.380e+00 5.070e+00 4.560e+00\n",
      " 3.220e+00 2.150e+00 1.950e+00 1.530e+00 1.110e+00 8.700e-01 6.100e-01\n",
      " 3.300e-01 1.700e-01 8.000e-02 1.000e-02]\n"
     ]
    },
    {
     "data": {
      "image/png": "[encoded data removed]",
      "text/plain": [
       "<matplotlib.figure.Figure at 0x266c3876668>"
      ]
     },
     "metadata": {},
     "output_type": "display_data"
    }
   ],
   "source": [
    "# We will reduce all features to 2D by PCA.\n",
    "from sklearn.decomposition import PCA\n",
    "fig = plt.figure(figsize=(12,6))\n",
    "pca = PCA()\n",
    "xx = pca.fit_transform(X)\n",
    "xs = xx[:,0]\n",
    "ys = xx[:,1]\n",
    "fig.add_subplot(1,2,1)\n",
    "_ = plt.scatter(xs,ys,c=y)\n",
    "_ = plt.title('PCA analysis result')\n",
    "_ = plt.xlabel(\"PCA x component\")\n",
    "_ = plt.ylabel(\"PCA y component\")\n",
    "fig.add_subplot(1,2,2)\n",
    "_ = plt.bar(np.arange(pca.n_components_),100*np.round(pca.explained_variance_ratio_,4),color='m')\n",
    "_ = plt.xlabel(\"PCA Feature number\")\n",
    "_ = plt.ylabel(\"PCA Variance % \")\n",
    "_ = plt.title('Variance using PCA')\n",
    "print(\"Percentage Variance:\",100*np.round(pca.explained_variance_ratio_,4))"
   ]
  },
  {
   "cell_type": "markdown",
   "metadata": {},
   "source": [
    "+ In the first plot, purple dots are stroke samples, yellow non stroke. They are randomly in touch with each other. But this does not mean they are not separable. This plot is a 2 dimensional approximation, which is highly limited.\n",
    "+ In the second plot, elbow appears to be at 3 features. Upto 7-8 features have non-negligible information.\n",
    "+ The PCA analysis gives number of features and their information levels (captured by variance), does not give the feature names."
   ]
  },
  {
   "cell_type": "markdown",
   "metadata": {},
   "source": [
    "#### Understanding the evaluation metric AUC-ROC\n",
    "\n",
    "+ Expansion: Area Under the Curve - Receiver Operating Characteristics.\n",
    "+ Valid range: 0 to 1.0   \n",
    "\n",
    "+ Simplest Definition I have found: \"It is simply the probability of a randomly chosen positive data point has a higher ranking than a randomly chosen negative data point.\" Source: Datacamp XGBoost course, ranking here means a score assigned to that point by the classifier. Most often it is a probability number indicating probability that, that data point is 1.\n",
    "\n",
    "+ x axis: False positive rate (FP)\n",
    "+ y axis: True positive rate (TP)\n",
    "+ Points on the ROC are (FP,TP) for a certain threshold T. If a score < T, that point is labeled 0, else 1. FP means 0 is classified as 1. TP means 1 is classified as 1. \n",
    "+ Area under the curve: Area to the right and bottom of the curve (FP,TP) for all thresholds from 0 to 1.\n",
    "\n",
    "**Note:** This is a complicated metric. Please study more and understand how it is plotted by sci-kit learn package."
   ]
  },
  {
   "cell_type": "markdown",
   "metadata": {},
   "source": [
    "##### Splitting into Train and development set"
   ]
  },
  {
   "cell_type": "code",
   "execution_count": 43,
   "metadata": {},
   "outputs": [],
   "source": [
    "Xtrain, Xdev, ytrain,ydev = train_test_split(X,y,test_size=0.2,random_state=123,stratify=y)"
   ]
  },
  {
   "cell_type": "markdown",
   "metadata": {},
   "source": [
    "##### Logistic Regression"
   ]
  },
  {
   "cell_type": "code",
   "execution_count": 44,
   "metadata": {},
   "outputs": [
    {
     "name": "stdout",
     "output_type": "stream",
     "text": [
      "############# LogReg ################\n",
      "Accuracy on training data: 98.20%\n",
      "Accuracy on test data:     98.19%\n",
      "confusion_matrix on dev data\n",
      "[[8523    0]\n",
      " [ 157    0]]\n",
      "classification report on dev data\n",
      "             precision    recall  f1-score   support\n",
      "\n",
      "          0       0.98      1.00      0.99      8523\n",
      "          1       0.00      0.00      0.00       157\n",
      "\n",
      "avg / total       0.96      0.98      0.97      8680\n",
      "\n",
      "########################################################\n"
     ]
    },
    {
     "name": "stderr",
     "output_type": "stream",
     "text": [
      "C:\\Users\\Aparn\\Anaconda3\\lib\\site-packages\\sklearn\\metrics\\classification.py:1135: UndefinedMetricWarning: Precision and F-score are ill-defined and being set to 0.0 in labels with no predicted samples.\n",
      "  'precision', 'predicted', average, warn_for)\n"
     ]
    },
    {
     "data": {
      "image/png": "[encoded data removed]",
      "text/plain": [
       "<matplotlib.figure.Figure at 0x266c315a7b8>"
      ]
     },
     "metadata": {},
     "output_type": "display_data"
    }
   ],
   "source": [
    "# A plain logistic Regression model would yield:\n",
    "logreg  = do_classify(LogisticRegression(), None, Xtrain,ytrain,Xdev,ydev, score_func=None, n_folds=5, n_jobs=2,label=1,prob_dec=1)"
   ]
  },
  {
   "cell_type": "markdown",
   "metadata": {},
   "source": [
    "+ Note the accuracy! > 98%\n",
    "+ Note the AUC ROC! > 0.8\n",
    "+ By the books, they are considered to be good. But is this classifier effective? \n",
    "+ Note the classification report and confusion matrix. There are no stroke labels identified. This is due to default threshold of 0.5\n",
    "\n",
    "**Solution is hyperparameter tuning, and class weight balancing**"
   ]
  },
  {
   "cell_type": "code",
   "execution_count": 45,
   "metadata": {},
   "outputs": [
    {
     "name": "stdout",
     "output_type": "stream",
     "text": [
      "BEST {'C': 0.01, 'class_weight': 'balanced'} 0.848005408143515 [mean: 0.84636, std: 0.01752, params: {'C': 0.001, 'class_weight': 'balanced'}, mean: 0.84801, std: 0.01944, params: {'C': 0.01, 'class_weight': 'balanced'}, mean: 0.84764, std: 0.02018, params: {'C': 0.1, 'class_weight': 'balanced'}, mean: 0.84755, std: 0.02029, params: {'C': 1, 'class_weight': 'balanced'}]\n",
      "############# LogReg ################\n",
      "Accuracy on training data: 73.50%\n",
      "Accuracy on test data:     73.26%\n",
      "confusion_matrix on dev data\n",
      "[[6227 2296]\n",
      " [  25  132]]\n",
      "classification report on dev data\n",
      "             precision    recall  f1-score   support\n",
      "\n",
      "          0       1.00      0.73      0.84      8523\n",
      "          1       0.05      0.84      0.10       157\n",
      "\n",
      "avg / total       0.98      0.73      0.83      8680\n",
      "\n",
      "########################################################\n",
      "Wall time: 2.44 s\n"
     ]
    },
    {
     "data": {
      "image/png": "[encoded data removed]",
      "text/plain": [
       "<matplotlib.figure.Figure at 0x266c30bb320>"
      ]
     },
     "metadata": {},
     "output_type": "display_data"
    }
   ],
   "source": [
    "%%time\n",
    "parameters = {\"C\": [0.001,0.01,0.1,1],\"class_weight\":['balanced']}  #Defaults are C=1 and class weight = None\n",
    "logreg  = do_classify(LogisticRegression(), parameters, Xtrain,ytrain,Xdev,ydev, score_func='roc_auc', n_folds=5, n_jobs=2,label=1,prob_dec=1)"
   ]
  },
  {
   "cell_type": "markdown",
   "metadata": {},
   "source": [
    "**The results are reliable because orange and green curves are together.**\n",
    "\n",
    "Accuracy numbers are lower at 73%, but it is fine. (Why!)"
   ]
  },
  {
   "cell_type": "code",
   "execution_count": 46,
   "metadata": {},
   "outputs": [
    {
     "name": "stdout",
     "output_type": "stream",
     "text": [
      "<class 'pandas.core.frame.DataFrame'>\n",
      "Int64Index: 18601 entries, 0 to 18600\n",
      "Data columns (total 19 columns):\n",
      "Residence_type_Urban           18601 non-null uint8\n",
      "age                            18601 non-null float64\n",
      "avg_glucose_level              18601 non-null float64\n",
      "bmi                            18601 non-null float64\n",
      "ever_married_Yes               18601 non-null uint8\n",
      "gender_Male                    18601 non-null uint8\n",
      "gender_Other                   18601 non-null uint8\n",
      "heart_disease                  18601 non-null int64\n",
      "hypertension                   18601 non-null int64\n",
      "id                             18601 non-null int64\n",
      "smoking_status_never smoked    18601 non-null uint8\n",
      "smoking_status_smokes          18601 non-null uint8\n",
      "work_type_Never_worked         18601 non-null uint8\n",
      "work_type_Private              18601 non-null uint8\n",
      "work_type_Self-employed        18601 non-null uint8\n",
      "work_type_children             18601 non-null uint8\n",
      "former_smoker                  18601 non-null int64\n",
      "heart_dis_smoke                18601 non-null int64\n",
      "hyp_tension_smoke              18601 non-null int64\n",
      "dtypes: float64(3), int64(6), uint8(10)\n",
      "memory usage: 1.6 MB\n",
      "None\n"
     ]
    },
    {
     "name": "stderr",
     "output_type": "stream",
     "text": [
      "C:\\Users\\Aparn\\Anaconda3\\lib\\site-packages\\pandas\\core\\frame.py:2540: SettingWithCopyWarning: \n",
      "A value is trying to be set on a copy of a slice from a DataFrame.\n",
      "Try using .loc[row_indexer,col_indexer] = value instead\n",
      "\n",
      "See the caveats in the documentation: http://pandas.pydata.org/pandas-docs/stable/indexing.html#indexing-view-versus-copy\n",
      "  self[k1] = value[k2]\n"
     ]
    }
   ],
   "source": [
    "submit_data = data.iloc[train.shape[0]:,:]\n",
    "print(submit_data.info())\n",
    "# Standardization on test data.\n",
    "submit_data[['age','avg_glucose_level', 'bmi']] = submit_data[['age','avg_glucose_level', 'bmi']].transform(lambda x: (x - x.mean()) / x.std())\n",
    "ypred = logreg.predict_proba(submit_data.drop('id',axis=1))\n",
    "submit_data = submit_data.assign(stroke = ypred[:,1])\n",
    "submit_data[['id','stroke']].to_csv('aparna_submit.csv',index=False)"
   ]
  },
  {
   "cell_type": "markdown",
   "metadata": {},
   "source": [
    "#### CrossChecking by seeing distributions"
   ]
  },
  {
   "cell_type": "code",
   "execution_count": 47,
   "metadata": {},
   "outputs": [
    {
     "data": {
      "image/png": "[encoded data removed]",
      "text/plain": [
       "<matplotlib.figure.Figure at 0x266bf5b7278>"
      ]
     },
     "metadata": {},
     "output_type": "display_data"
    },
    {
     "data": {
      "image/png": "[encoded data removed]",
      "text/plain": [
       "<matplotlib.figure.Figure at 0x266bfab0cf8>"
      ]
     },
     "metadata": {},
     "output_type": "display_data"
    }
   ],
   "source": [
    "_ = sns.distplot(ypred[:,1])\n",
    "_ = plt.title('Test data stroke distribution')\n",
    "_ = plt.figure()\n",
    "_ = train_pr = logreg.predict_proba(Xtrain)\n",
    "_ = sns.distplot(train_pr[:,1])\n",
    "_ = plt.title('Train data stroke distribution')"
   ]
  },
  {
   "cell_type": "markdown",
   "metadata": {},
   "source": [
    "#### Feature importance and interpretation. "
   ]
  },
  {
   "cell_type": "code",
   "execution_count": 48,
   "metadata": {},
   "outputs": [
    {
     "data": {
      "text/html": [
       "<div>\n",
       "<style scoped>\n",
       "    .dataframe tbody tr th:only-of-type {\n",
       "        vertical-align: middle;\n",
       "    }\n",
       "\n",
       "    .dataframe tbody tr th {\n",
       "        vertical-align: top;\n",
       "    }\n",
       "\n",
       "    .dataframe thead th {\n",
       "        text-align: right;\n",
       "    }\n",
       "</style>\n",
       "<table border=\"1\" class=\"dataframe\">\n",
       "  <thead>\n",
       "    <tr style=\"text-align: right;\">\n",
       "      <th></th>\n",
       "      <th>Coeff value</th>\n",
       "    </tr>\n",
       "  </thead>\n",
       "  <tbody>\n",
       "    <tr>\n",
       "      <th>age</th>\n",
       "      <td>1.580</td>\n",
       "    </tr>\n",
       "    <tr>\n",
       "      <th>heart_disease</th>\n",
       "      <td>0.445</td>\n",
       "    </tr>\n",
       "    <tr>\n",
       "      <th>hypertension</th>\n",
       "      <td>0.378</td>\n",
       "    </tr>\n",
       "    <tr>\n",
       "      <th>smoking_status_never smoked</th>\n",
       "      <td>-0.249</td>\n",
       "    </tr>\n",
       "    <tr>\n",
       "      <th>heart_dis_smoke</th>\n",
       "      <td>0.245</td>\n",
       "    </tr>\n",
       "    <tr>\n",
       "      <th>avg_glucose_level</th>\n",
       "      <td>0.189</td>\n",
       "    </tr>\n",
       "    <tr>\n",
       "      <th>work_type_children</th>\n",
       "      <td>-0.188</td>\n",
       "    </tr>\n",
       "    <tr>\n",
       "      <th>ever_married_Yes</th>\n",
       "      <td>-0.182</td>\n",
       "    </tr>\n",
       "    <tr>\n",
       "      <th>smoking_status_smokes</th>\n",
       "      <td>0.150</td>\n",
       "    </tr>\n",
       "    <tr>\n",
       "      <th>work_type_Self-employed</th>\n",
       "      <td>0.122</td>\n",
       "    </tr>\n",
       "    <tr>\n",
       "      <th>gender_Male</th>\n",
       "      <td>0.113</td>\n",
       "    </tr>\n",
       "    <tr>\n",
       "      <th>work_type_Private</th>\n",
       "      <td>0.066</td>\n",
       "    </tr>\n",
       "    <tr>\n",
       "      <th>hyp_tension_smoke</th>\n",
       "      <td>0.050</td>\n",
       "    </tr>\n",
       "    <tr>\n",
       "      <th>former_smoker</th>\n",
       "      <td>-0.041</td>\n",
       "    </tr>\n",
       "    <tr>\n",
       "      <th>work_type_Never_worked</th>\n",
       "      <td>-0.037</td>\n",
       "    </tr>\n",
       "    <tr>\n",
       "      <th>Residence_type_Urban</th>\n",
       "      <td>0.028</td>\n",
       "    </tr>\n",
       "    <tr>\n",
       "      <th>gender_Other</th>\n",
       "      <td>-0.008</td>\n",
       "    </tr>\n",
       "    <tr>\n",
       "      <th>bmi</th>\n",
       "      <td>0.004</td>\n",
       "    </tr>\n",
       "  </tbody>\n",
       "</table>\n",
       "</div>"
      ],
      "text/plain": [
       "                             Coeff value\n",
       "age                                1.580\n",
       "heart_disease                      0.445\n",
       "hypertension                       0.378\n",
       "smoking_status_never smoked       -0.249\n",
       "heart_dis_smoke                    0.245\n",
       "avg_glucose_level                  0.189\n",
       "work_type_children                -0.188\n",
       "ever_married_Yes                  -0.182\n",
       "smoking_status_smokes              0.150\n",
       "work_type_Self-employed            0.122\n",
       "gender_Male                        0.113\n",
       "work_type_Private                  0.066\n",
       "hyp_tension_smoke                  0.050\n",
       "former_smoker                     -0.041\n",
       "work_type_Never_worked            -0.037\n",
       "Residence_type_Urban               0.028\n",
       "gender_Other                      -0.008\n",
       "bmi                                0.004"
      ]
     },
     "execution_count": 48,
     "metadata": {},
     "output_type": "execute_result"
    },
    {
     "data": {
      "image/png": "[encoded data removed]",
      "text/plain": [
       "<matplotlib.figure.Figure at 0x266c337f518>"
      ]
     },
     "metadata": {},
     "output_type": "display_data"
    }
   ],
   "source": [
    "coeff=logreg.coef_\n",
    "intercept = logreg.intercept_\n",
    "coeffs_b= logreg.coef_[0,np.argsort(abs(logreg.coef_[0,:]))[::-1]]\n",
    "names_b = list(X.columns[np.argsort(abs(logreg.coef_[0,:]))[::-1]])\n",
    "logfimp = pd.DataFrame(np.round(coeffs_b,3),index=names_b,columns=['Coeff value'])\n",
    "_ = logfimp.head(10).plot.bar(color='purple')\n",
    "_ = plt.title('Feature Importance (Log Reg)')\n",
    "_ = plt.ylabel('Coefficient value')\n",
    "_ = plt.xlabel('Features')\n",
    "logfimp"
   ]
  },
  {
   "cell_type": "markdown",
   "metadata": {},
   "source": [
    "**The number of features with high feature importance agrees with the findings of PCA. Only 7 of them are significant**\n",
    "\n",
    "**Interpretation of Coefficients:** When there is multicollinearity, interpretation is not always exact and reliable, but in this case, age is clearly a dominating feature and related to only 2 other features. Hence I will just give an example of interpretation.          \n",
    "p(x) = 1/(1+e(-theta(x))), where theta(x) = intercept + coeff_age \\* age + coeff_heart_disease \\* heart_disease + ......\n",
    "For a moment, suppose all others are zero, including intercept.\n",
    "p(x) = 1/(1+e(-coeff_age \\* age)), As age increases, exp factor decreases and probability increases. But the amount of increase is dependent on age and hence we can only quantify it at a given age. \n",
    "As proven medically and also seen with EDA, we note that in the stroke group, there are high number of aged people. Hence Logistic regression would model this age factor better than any other model."
   ]
  },
  {
   "cell_type": "markdown",
   "metadata": {},
   "source": [
    "##### Random Forest \n",
    "\n",
    "Looking at the results from Logistic Regression, we should not even be trying anymore. Why?\n",
    "The Ensemble methods work based on averaging principle. Each tree picks up a random subset of features and predicts. Majority votes from the number of trees as in n_estimators is taken and predictions are made. There are not enough number of feaures here. It is given below to demonstrate the complexity. \n",
    "\n",
    "\"If a low variance algorithm gives good performance, it is often hard to beat it with high variance models\" - not a verbatim quote, but something similar said by Andrew Ng and in Introduction to Statistical Learning Book."
   ]
  },
  {
   "cell_type": "code",
   "execution_count": 49,
   "metadata": {},
   "outputs": [
    {
     "name": "stdout",
     "output_type": "stream",
     "text": [
      "############# RandomForest ################\n",
      "Accuracy on training data: 98.21%\n",
      "Accuracy on test data:     98.19%\n",
      "confusion_matrix on dev data\n",
      "[[8523    0]\n",
      " [ 157    0]]\n",
      "classification report on dev data\n",
      "             precision    recall  f1-score   support\n",
      "\n",
      "          0       0.98      1.00      0.99      8523\n",
      "          1       0.00      0.00      0.00       157\n",
      "\n",
      "avg / total       0.96      0.98      0.97      8680\n",
      "\n",
      "########################################################\n",
      "Wall time: 3.98 s\n"
     ]
    },
    {
     "name": "stderr",
     "output_type": "stream",
     "text": [
      "C:\\Users\\Aparn\\Anaconda3\\lib\\site-packages\\sklearn\\metrics\\classification.py:1135: UndefinedMetricWarning: Precision and F-score are ill-defined and being set to 0.0 in labels with no predicted samples.\n",
      "  'precision', 'predicted', average, warn_for)\n"
     ]
    },
    {
     "data": {
      "image/png": "[encoded data removed]",
      "text/plain": [
       "<matplotlib.figure.Figure at 0x266c3870828>"
      ]
     },
     "metadata": {},
     "output_type": "display_data"
    }
   ],
   "source": [
    "%%time\n",
    "# Removed parameters because it takes a long time. Replace second argument None in the do_classify call by parameters.\n",
    "parameters = {\"max_depth\": [6,8,12,None], 'min_samples_leaf': [2,4,6],\"n_estimators\":[11,51,101],\"class_weight\":['balanced']}\n",
    "rf = do_classify(RandomForestClassifier(max_depth=12,min_samples_leaf=4,max_features=10,n_estimators=101), None, Xtrain,ytrain,Xdev,ydev, score_func='roc_auc', n_folds=5, n_jobs=2,model_name='RandomForest',label=1,prob_dec=1)"
   ]
  },
  {
   "cell_type": "markdown",
   "metadata": {},
   "source": [
    "**Remark:** This model is **not able to** beat the **null rate** - The null rate results from simply classifying each observation to the dominant class overall, which is in this case the nonstroke class\n",
    "In other words, recall on positive class is 0 in RF, despite having class weight. We are interested in AUC here, which is high enough, but there is a huge gap between the two curves. If we get the probabilities and set threshold other than 0.5, we will get a non-zero recall value."
   ]
  },
  {
   "cell_type": "code",
   "execution_count": 50,
   "metadata": {},
   "outputs": [
    {
     "data": {
      "text/html": [
       "<div>\n",
       "<style scoped>\n",
       "    .dataframe tbody tr th:only-of-type {\n",
       "        vertical-align: middle;\n",
       "    }\n",
       "\n",
       "    .dataframe tbody tr th {\n",
       "        vertical-align: top;\n",
       "    }\n",
       "\n",
       "    .dataframe thead th {\n",
       "        text-align: right;\n",
       "    }\n",
       "</style>\n",
       "<table border=\"1\" class=\"dataframe\">\n",
       "  <thead>\n",
       "    <tr style=\"text-align: right;\">\n",
       "      <th></th>\n",
       "      <th>Feature importance</th>\n",
       "    </tr>\n",
       "  </thead>\n",
       "  <tbody>\n",
       "    <tr>\n",
       "      <th>avg_glucose_level</th>\n",
       "      <td>0.304049</td>\n",
       "    </tr>\n",
       "    <tr>\n",
       "      <th>bmi</th>\n",
       "      <td>0.262419</td>\n",
       "    </tr>\n",
       "    <tr>\n",
       "      <th>age</th>\n",
       "      <td>0.211691</td>\n",
       "    </tr>\n",
       "    <tr>\n",
       "      <th>Residence_type_Urban</th>\n",
       "      <td>0.029696</td>\n",
       "    </tr>\n",
       "    <tr>\n",
       "      <th>gender_Male</th>\n",
       "      <td>0.026668</td>\n",
       "    </tr>\n",
       "    <tr>\n",
       "      <th>heart_disease</th>\n",
       "      <td>0.023589</td>\n",
       "    </tr>\n",
       "    <tr>\n",
       "      <th>work_type_Self-employed</th>\n",
       "      <td>0.019987</td>\n",
       "    </tr>\n",
       "    <tr>\n",
       "      <th>work_type_Private</th>\n",
       "      <td>0.019223</td>\n",
       "    </tr>\n",
       "    <tr>\n",
       "      <th>smoking_status_never smoked</th>\n",
       "      <td>0.018934</td>\n",
       "    </tr>\n",
       "    <tr>\n",
       "      <th>hypertension</th>\n",
       "      <td>0.018895</td>\n",
       "    </tr>\n",
       "    <tr>\n",
       "      <th>former_smoker</th>\n",
       "      <td>0.015007</td>\n",
       "    </tr>\n",
       "    <tr>\n",
       "      <th>ever_married_Yes</th>\n",
       "      <td>0.014874</td>\n",
       "    </tr>\n",
       "    <tr>\n",
       "      <th>smoking_status_smokes</th>\n",
       "      <td>0.013850</td>\n",
       "    </tr>\n",
       "    <tr>\n",
       "      <th>heart_dis_smoke</th>\n",
       "      <td>0.011062</td>\n",
       "    </tr>\n",
       "    <tr>\n",
       "      <th>hyp_tension_smoke</th>\n",
       "      <td>0.009862</td>\n",
       "    </tr>\n",
       "    <tr>\n",
       "      <th>work_type_children</th>\n",
       "      <td>0.000194</td>\n",
       "    </tr>\n",
       "    <tr>\n",
       "      <th>work_type_Never_worked</th>\n",
       "      <td>0.000000</td>\n",
       "    </tr>\n",
       "    <tr>\n",
       "      <th>gender_Other</th>\n",
       "      <td>0.000000</td>\n",
       "    </tr>\n",
       "  </tbody>\n",
       "</table>\n",
       "</div>"
      ],
      "text/plain": [
       "                             Feature importance\n",
       "avg_glucose_level                      0.304049\n",
       "bmi                                    0.262419\n",
       "age                                    0.211691\n",
       "Residence_type_Urban                   0.029696\n",
       "gender_Male                            0.026668\n",
       "heart_disease                          0.023589\n",
       "work_type_Self-employed                0.019987\n",
       "work_type_Private                      0.019223\n",
       "smoking_status_never smoked            0.018934\n",
       "hypertension                           0.018895\n",
       "former_smoker                          0.015007\n",
       "ever_married_Yes                       0.014874\n",
       "smoking_status_smokes                  0.013850\n",
       "heart_dis_smoke                        0.011062\n",
       "hyp_tension_smoke                      0.009862\n",
       "work_type_children                     0.000194\n",
       "work_type_Never_worked                 0.000000\n",
       "gender_Other                           0.000000"
      ]
     },
     "execution_count": 50,
     "metadata": {},
     "output_type": "execute_result"
    },
    {
     "data": {
      "image/png": "[encoded data removed]",
      "text/plain": [
       "<matplotlib.figure.Figure at 0x266bf9a8a90>"
      ]
     },
     "metadata": {},
     "output_type": "display_data"
    }
   ],
   "source": [
    "feature_labels = np.array(list(Xtrain.columns))\n",
    "(pd.Series(rf.feature_importances_,index=feature_labels).sort_values(ascending=True)/np.max(rf.feature_importances_)).plot.barh(color='purple',width=0.9)\n",
    "_ = plt.title('Normalized Feature Importance From Random Forest Classifier')\n",
    "_ = plt.axvline(0.05,linestyle='--',color='olive')\n",
    "_ = plt.text(0.05,7,'5% of the max',rotation=87,fontsize=16)\n",
    "pd.DataFrame(rf.feature_importances_,index=feature_labels,columns=['Feature importance']).sort_values('Feature importance',ascending=False)"
   ]
  },
  {
   "cell_type": "markdown",
   "metadata": {},
   "source": [
    "**Remarks:** The importance of features might differ from logistic regression. It is not very simple to explain. The collinearity among features is better handled by tree models. I would rely more on Random Forest for feature importance."
   ]
  },
  {
   "cell_type": "code",
   "execution_count": 51,
   "metadata": {},
   "outputs": [],
   "source": [
    "ypred = rf.predict_proba(submit_data.drop(['id','stroke'],axis=1))\n",
    "submit_data = submit_data.assign(stroke = ypred[:,1])\n",
    "submit_data[['id','stroke']].to_csv('aparna_submit_rf.csv',index=False)"
   ]
  },
  {
   "cell_type": "markdown",
   "metadata": {},
   "source": [
    "##### Extreme Gradient Boosting\n",
    "This method works well if there are a lot of features and many number of samples (like > 100000). It is a package written C and having various APIs. Its installation is a bit difficult. If nothing works, a precompiled version called .whl file for that specific type of operating system will work. Hence, do not pay much attention to this, until you are done with learning all others. The reason for introducing here:\n",
    "\n",
    "+ XGBoost is state of the art machine learning algorithm in industry. It works well when there are at least a few numerical features\n",
    "+ It is widely used in winning solutions of kaggle competitions.\n",
    "+ Although it is not as widely known as deep learning, it can be used with such huge datasets where we tend to use deep learning, and it can give better performance, faster. In other words, it can give nice competition to deep learning networks."
   ]
  },
  {
   "cell_type": "code",
   "execution_count": 52,
   "metadata": {},
   "outputs": [
    {
     "name": "stdout",
     "output_type": "stream",
     "text": [
      "             precision    recall  f1-score   support\n",
      "\n",
      "          0       0.98      1.00      0.99      8523\n",
      "          1       0.00      0.00      0.00       157\n",
      "\n",
      "avg / total       0.96      0.98      0.97      8680\n",
      "\n",
      "Wall time: 2.82 s\n"
     ]
    },
    {
     "name": "stderr",
     "output_type": "stream",
     "text": [
      "C:\\Users\\Aparn\\Anaconda3\\lib\\site-packages\\sklearn\\metrics\\classification.py:1135: UndefinedMetricWarning: Precision and F-score are ill-defined and being set to 0.0 in labels with no predicted samples.\n",
      "  'precision', 'predicted', average, warn_for)\n"
     ]
    },
    {
     "data": {
      "image/png": "[encoded data removed]",
      "text/plain": [
       "<matplotlib.figure.Figure at 0x266c3841518>"
      ]
     },
     "metadata": {},
     "output_type": "display_data"
    }
   ],
   "source": [
    "%%time\n",
    "stroke_matrix = xgb.DMatrix(Xtrain,ytrain)\n",
    "params = {\"objective\":\"binary:logistic\",\"max_depth\":7,'eta':1, 'silent':1,'eval_metric':'auc','learning_rate':.05}\n",
    "cv_results = xgb.cv(dtrain=stroke_matrix,params=params,nfold=4,num_boost_round=50,metrics=\"auc\",as_pandas=True)\n",
    "trained_xgb = xgb.train(params,stroke_matrix,num_boost_round=50)\n",
    "ypred_xgb=trained_xgb.predict(xgb.DMatrix(Xdev))\n",
    "ypred_xgb_bin = ypred_xgb >= 0.5\n",
    "false_positive_rate, true_positive_rate, thresholds = roc_curve(ydev, ypred_xgb,pos_label=1)\n",
    "roc_auc = auc(false_positive_rate, true_positive_rate)\n",
    "plt.title('Receiver Operating Characteristic')\n",
    "plt.plot(false_positive_rate, true_positive_rate,'g' ,label='AUC '+\"xgboost_dev\"+' = %0.6f'% roc_auc)\n",
    "false_positive_rate, true_positive_rate, thresholds = roc_curve(ytrain, trained_xgb.predict(xgb.DMatrix(Xtrain)),pos_label=1)\n",
    "roc_auc = auc(false_positive_rate, true_positive_rate)\n",
    "plt.plot(false_positive_rate, true_positive_rate,'orange' ,label='AUC '+\"xgboost_train\"+' = %0.6f'% roc_auc)\n",
    "plt.legend(loc='lower right')\n",
    "print(classification_report(ydev,ypred_xgb_bin))"
   ]
  },
  {
   "cell_type": "markdown",
   "metadata": {},
   "source": [
    "Note once again that at threshold 0.5, no positive labels are detected.     \n",
    "**The easiest interpretation is, the probability of positive label is 0.018 as observed in train data. Hence at 0.5 and above there will be none**"
   ]
  },
  {
   "cell_type": "code",
   "execution_count": 53,
   "metadata": {},
   "outputs": [
    {
     "data": {
      "image/png": "[encoded data removed]",
      "text/plain": [
       "<matplotlib.figure.Figure at 0x266c5cc62b0>"
      ]
     },
     "metadata": {},
     "output_type": "display_data"
    }
   ],
   "source": [
    "# By default plot_importance plots by \"weight\" as second argument. Other options are cover and gain\n",
    "_ = xgb.plot_importance(trained_xgb,color='m')"
   ]
  },
  {
   "cell_type": "markdown",
   "metadata": {},
   "source": [
    "### What did I do well\n",
    "\n",
    "+ Took constant breaks and thought about the problem on and off rather than spending all my time in front of computer\n",
    "+ I am in US Pacific time zone. Contest started at 5pm for me, and I slept by 10pm, got up around 7am. Started working again at 9am after having relaxed breakfast and family time. My final solution was the one submitted within the first 5 hours, just with more comments and detailed EDA. I literally applied the lesson learnt from first hackathon: Having enough rest is the most important factor to do well.\n",
    "\n",
    "As for the approach:      \n",
    "+ Got into getting domain knowledge immediately. First read mayoclinic article which is the most trustworthy one and then researched a bit on those factors not mentioned there. Mayoclinic post was useful, others were not super useful, but it is better to have the confidence of exploring enough.\n",
    "+ Tried a commonsense baseline (not shown in the notebook), of predicting the probabilities based solely on aggregate based on age. Luckily test set did not have a new age number, or else this was not easy. This itself gave AUC number 0.81+, hence I got a reference.\n",
    "+ Used linear regression to fill missing bmi. Imputing with mean and median changed the distribution.\n",
    "+ Substituted smoking status of children below 10 by  never smoked (as they were all unknown)\n",
    "+ Tried logistic regression with 5 fold CV and hyperparameters all at once. Kept a dev set which was not part of this 5 fold cross validation. \n",
    "+ Found that BMI did not show much difference, but kept it, as it is an indicator of obesity and medically the weight is very big determinant of stroke probability\n",
    "+ Did some age rangewise EDA, got some intuition\n",
    "+ Plotted PCA, feature importance and did all kinds of cross verification.\n",
    "\n",
    "Finally I felt accomplished despite getting a public score of 0.829 and 182nd rank, because I approached this like a Data Scientist. I had a pleasant surprise when private leaderboard score was 0.858 and position was 22nd!!!\n",
    "\n",
    "Main Lesson, as heard often from others in competition as well:\n",
    "\n",
    "**Trust the Cross validation scores more than the leaderboard scores**\n",
    "\n",
    "\n",
    "### Methods that did not work:\n",
    "\n",
    "+ Tried kNN with several neighbors option, gave only about 0.71\n",
    "+ Tried SVM, even though classes were not separable. SVM would generally work when classes are well separated. Still wanted to crosscheck. As expected, ROC curve was not even convex. It was having crazy random pattern around the straight line joining  (0,0) and (1,1)\n",
    "+ The scale of probabilities found with xgboost and logistic regressions were different. First brought them to same scale and then applied some weightage, 0.6logreg_prob + 0.4xgboost_prob to find the weighted probabilities and checked the score. It did not improve the score on public leaderboard. Hence did not want to risk with a method which is not logically convincing. Besides there is no straightforward equivalent option of class_weight argument that is present in logreg and Random Forest. This is absent even in gradient boosting algorithm which is the mother of extreme gradient boosting\n",
    "\n",
    "### What I could have done better:\n",
    "+ Should have paid more attention to leverage points (points which are far away from mean - they are outliers among features) and removed those which are not present in test data.\n",
    "+ Should have filled those remaining 20% smoking status. (did only for the children, which was around 10% out of 30% missing)\n",
    "+ Should have taken some risks and gone with my gut feeling and analysis (a)of dropping irrelevant feature like residence type and b) assigning weights to smoking status instead of one hot encoding - top 2 among many) even though it gave slightly less score in public LB. After all I was doing this to gain more experience and not for the rank. But it is hard to do!Especially when rank matters to put in your resume\n",
    "+ Could have done binning on age, average glucose level (thought about these but didnt even try)\n",
    "+ Read about catboost recently, but did not try. It was worth trying because many others tried it and got good results.\n",
    "+ One thing that never occured to me is trying xgboost with linear base learner.\n",
    "+ Should have tried combining results from random forest and logreg in a sensible way. I only tried with xgboost\n",
    "+ Could have tried L1 penalty too on log reg, it would have automatically dropped irrelevent features\n",
    "+ Never tried hyperparameter tuning on xgboost. Since logreg gave good results, xgboost seemed like overkill and I still feel I am right. This is something that I am yet to understand. Everyone seems excited about using it even though logistic regression can do the same job.\n",
    "\n",
    "### Why did I not try Sampling methods or SMOTE\n",
    "\n",
    "+ I did read SMOTE paper a few days ago and I get the idea. They recommend using it along with undersampling majority class.\n",
    "+ I am not convinced that it is widely practiced in industry. I am not sure of its usefulness to the current problem. Did not prioritize it over other things and studied when it should be applied.\n",
    "+ When I don't have clarity, I am not comfortable using it just because it could give results. There is a package imblearn and I was surprised recently that one of the practicing data scientists heard about it from me.\n",
    "+ One more experienced data scientist (PhD, > 5 yrs experience) indicated that whenever possible, she would try not to use these methods, and try to keep train and test distributions same.\n",
    "+ My Springboard mentor who is a PhD with 7+ yrs of DS experience did not recommend any of the sampling methods to my moderately imbalanced classification problems (70:15:15 - 3 class problem) and said that these methods bias the model. Unless we are dealing with huge imbalance like < 1% positive labels we may not want to use it, especially when there are enough number of positive labels to learn from. \n",
    "+ I think ratio of number of features Vs number of samples matters. With lower number of features, that too very few numerical features, SMOTE can not generate too many different new samples. After all, it is some weighted combination of other samples of positive labels. Hence I have my own doubts of its usefulness in the current problem."
   ]
  },
  {
   "cell_type": "markdown",
   "metadata": {},
   "source": [
    "Please feel free to comment here and follow me on twitter @aparsha2303 for quick updates on my work."
   ]
  },
  {
   "cell_type": "markdown",
   "metadata": {},
   "source": [
    "## Takeaways :\n",
    "\n",
    "+ Biases in data\n",
    "+ Attributes related to this problem\n",
    "+ Missing data handling, dangers of imputing with mean\n",
    "+ Exploratory Data Analysis - visual and numerical\n",
    "+ Feature Engineering - generating additional features from existing\n",
    "+ Standardization for bringing all numeric values to same range\n",
    "+ Logistic Regression\n",
    "+ Principal Component Analysis\n",
    "+ Kfold cross validation, with k=5\n",
    "+ Hyperparameter Tuning\n",
    "+ Class weight balancing\n",
    "+ Random Forests\n",
    "+ Surface level Extreme Gradient Boosting\n",
    "+ Getting feature importance.\n",
    "+ Hackathon tips.\n",
    "\n",
    "We did not cover many concepts like details of the metrics, suitability of AUC-ROC for this problem, choosing different penalty, feature selection methods, interval features (converting age to bins for example) etc. "
   ]
  },
  {
   "cell_type": "markdown",
   "metadata": {},
   "source": [
    "### References\n",
    "+ Introduction to Statistical Learning\n",
    "+ CS109 2015 Harvard course Lectures and exercises\n",
    "+ Coursera Machine Learning by Andrew Ng\n",
    "+ Some Datacamp material\n",
    "+ Stackoverflow, other people GitHub repos, KDNuggets, TowardsDataScience, LinkedIn, Twitter content\n",
    "+ Slack channel for Hackathon"
   ]
  },
  {
   "cell_type": "code",
   "execution_count": null,
   "metadata": {},
   "outputs": [],
   "source": []
  }
 ],
 "metadata": {
  "kernelspec": {
   "display_name": "Python 3",
   "language": "python",
   "name": "python3"
  },
  "language_info": {
   "codemirror_mode": {
    "name": "ipython",
    "version": 3
   },
   "file_extension": ".py",
   "mimetype": "text/x-python",
   "name": "python",
   "nbconvert_exporter": "python",
   "pygments_lexer": "ipython3",
   "version": "3.6.4"
  }
 },
 "nbformat": 4,
 "nbformat_minor": 2
}
